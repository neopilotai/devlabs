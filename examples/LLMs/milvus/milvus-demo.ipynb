{
 "cells": [
  {
   "cell_type": "code",
   "execution_count": null,
   "id": "1393b0ae-2557-4182-a3bf-047b7fd6059a",
   "metadata": {
    "scrolled": true
   },
   "outputs": [],
   "source": [
    "%pip install -r requirements.txt"
   ]
  },
  {
   "cell_type": "code",
   "execution_count": 3,
   "id": "0f0f3604",
   "metadata": {},
   "outputs": [
    {
     "data": {
      "text/plain": [
       "True"
      ]
     },
     "execution_count": 3,
     "metadata": {},
     "output_type": "execute_result"
    }
   ],
   "source": [
    "import os\n",
    "from dotenv import load_dotenv\n",
    "load_dotenv(override=True)"
   ]
  },
  {
   "cell_type": "markdown",
   "id": "e129332a",
   "metadata": {},
   "source": [
    "# Using Milvus to manage vector datasets with Neopilot\n",
    "In this demo, we use Milvus as our vector store to enable quick document queries. We compute document embeddings using a small BERT model for semantic search."
   ]
  },
  {
   "cell_type": "markdown",
   "id": "62028ced",
   "metadata": {},
   "source": [
    "## 1. Setup the knowledgebase\n",
    "We start by setting up our knowledgebase using Milvus following the following steps:\n",
    "- Get the data. In this demo, we will use the WikiHow dataset, which is quite large and may take some time to insert into Milvus.\n",
    "- Check data quality.\n",
    "- Connect to our Milvus instance and initialize a new Collection with a defined schema.\n",
    "- Upload the data to Milvus."
   ]
  },
  {
   "cell_type": "markdown",
   "id": "3aa49fb6",
   "metadata": {},
   "source": [
    "### 1.1 Download the dataset\n",
    "Acquire the dataset from the following URL: `https://ucsb.box.com/s/7yq601ijl1lzvlfu4rjdbbxforzd2oag`\n",
    "\n",
    "This can take some time depending on connection speed. The file path and name shoudl be provided in the environment variable `WH_PATH`."
   ]
  },
  {
   "cell_type": "code",
   "execution_count": 4,
   "id": "5ddab1cc-441f-4faf-a720-e1659352fb9f",
   "metadata": {},
   "outputs": [],
   "source": [
    "WH_PATH = os.environ['WH_PATH']"
   ]
  },
  {
   "cell_type": "markdown",
   "id": "38ccec82",
   "metadata": {},
   "source": [
    "### 1.2 Load and check the data\n",
    "In this case, we observe that some of the data could be cleaner:\n",
    "- One of the titles seems to be mistakenly registered as a sectionLabel\n",
    "- Some odd codepoint choices, for example for apostrophes\n",
    "- Some titles end in spurious numbers\n",
    "\n",
    "In this case we'll manually lines with non-string data during processing (see below). Other options include normalizing the data at an application-dependent level of interest (can be just codepoint normalization, can be full normalization/canonicalization)."
   ]
  },
  {
   "cell_type": "code",
   "execution_count": 6,
   "id": "43aac5b3-1297-409a-8d21-ebd8c999557b",
   "metadata": {},
   "outputs": [],
   "source": [
    "import pandas\n",
    "doc = pandas.read_csv(WH_PATH)"
   ]
  },
  {
   "cell_type": "code",
   "execution_count": 7,
   "id": "a8033029-69ce-4ed9-9e28-19ab2fa70c7b",
   "metadata": {},
   "outputs": [],
   "source": [
    "doc_indexed = doc.set_index(['title', 'headline']).sort_index()"
   ]
  },
  {
   "cell_type": "code",
   "execution_count": 8,
   "id": "f9d09062-5915-42cf-9171-14bb7b7979e3",
   "metadata": {},
   "outputs": [
    {
     "data": {
      "text/html": [
       "<div>\n",
       "<style scoped>\n",
       "    .dataframe tbody tr th:only-of-type {\n",
       "        vertical-align: middle;\n",
       "    }\n",
       "\n",
       "    .dataframe tbody tr th {\n",
       "        vertical-align: top;\n",
       "    }\n",
       "\n",
       "    .dataframe thead th {\n",
       "        text-align: right;\n",
       "    }\n",
       "</style>\n",
       "<table border=\"1\" class=\"dataframe\">\n",
       "  <thead>\n",
       "    <tr style=\"text-align: right;\">\n",
       "      <th></th>\n",
       "      <th></th>\n",
       "      <th>overview</th>\n",
       "      <th>text</th>\n",
       "      <th>sectionLabel</th>\n",
       "    </tr>\n",
       "    <tr>\n",
       "      <th>title</th>\n",
       "      <th>headline</th>\n",
       "      <th></th>\n",
       "      <th></th>\n",
       "      <th></th>\n",
       "    </tr>\n",
       "  </thead>\n",
       "  <tbody>\n",
       "    <tr>\n",
       "      <th rowspan=\"4\" valign=\"top\">How to Zydeco</th>\n",
       "      <th>\\nTry a side step.</th>\n",
       "      <td>Zydeco dancing is type of Cajun dancing perfo...</td>\n",
       "      <td>If you already have the rock step down (or ev...</td>\n",
       "      <td>Adding Movement</td>\n",
       "    </tr>\n",
       "    <tr>\n",
       "      <th>\\nTry the open position.</th>\n",
       "      <td>Zydeco dancing is type of Cajun dancing perfo...</td>\n",
       "      <td>The open position is, as it sounds, much more...</td>\n",
       "      <td>Learning the Closed and Open Position</td>\n",
       "    </tr>\n",
       "    <tr>\n",
       "      <th>\\nUse a rock step.</th>\n",
       "      <td>Zydeco dancing is type of Cajun dancing perfo...</td>\n",
       "      <td>Often, you'll just be shifting your weight ba...</td>\n",
       "      <td>Adding Movement</td>\n",
       "    </tr>\n",
       "    <tr>\n",
       "      <th>\\nUse dance techniques for the extra beat.</th>\n",
       "      <td>Zydeco dancing is type of Cajun dancing perfo...</td>\n",
       "      <td>It can be hard to remember to hold for the ex...</td>\n",
       "      <td>Learning the Beat</td>\n",
       "    </tr>\n",
       "    <tr>\n",
       "      <th>NaN</th>\n",
       "      <th>\\nInsert the following into your &lt;head&gt; section:\\n\\n\\n\\n\\n\\n</th>\n",
       "      <td>Do you want to change the user's cursor when ...</td>\n",
       "      <td>Steps,Tips,Related wikiHows</td>\n",
       "      <td>How to Set Cursors for Webpage Links</td>\n",
       "    </tr>\n",
       "  </tbody>\n",
       "</table>\n",
       "</div>"
      ],
      "text/plain": [
       "                                                                                                           overview   \n",
       "title         headline                                                                                                \n",
       "How to Zydeco \\nTry a side step.                                   Zydeco dancing is type of Cajun dancing perfo...  \\\n",
       "              \\nTry the open position.                             Zydeco dancing is type of Cajun dancing perfo...   \n",
       "              \\nUse a rock step.                                   Zydeco dancing is type of Cajun dancing perfo...   \n",
       "              \\nUse dance techniques for the extra beat.           Zydeco dancing is type of Cajun dancing perfo...   \n",
       "NaN           \\nInsert the following into your <head> section...   Do you want to change the user's cursor when ...   \n",
       "\n",
       "                                                                                                               text   \n",
       "title         headline                                                                                                \n",
       "How to Zydeco \\nTry a side step.                                   If you already have the rock step down (or ev...  \\\n",
       "              \\nTry the open position.                             The open position is, as it sounds, much more...   \n",
       "              \\nUse a rock step.                                   Often, you'll just be shifting your weight ba...   \n",
       "              \\nUse dance techniques for the extra beat.           It can be hard to remember to hold for the ex...   \n",
       "NaN           \\nInsert the following into your <head> section...                        Steps,Tips,Related wikiHows   \n",
       "\n",
       "                                                                                           sectionLabel  \n",
       "title         headline                                                                                   \n",
       "How to Zydeco \\nTry a side step.                                                        Adding Movement  \n",
       "              \\nTry the open position.                            Learning the Closed and Open Position  \n",
       "              \\nUse a rock step.                                                        Adding Movement  \n",
       "              \\nUse dance techniques for the extra beat.                              Learning the Beat  \n",
       "NaN           \\nInsert the following into your <head> section...   How to Set Cursors for Webpage Links  "
      ]
     },
     "execution_count": 8,
     "metadata": {},
     "output_type": "execute_result"
    }
   ],
   "source": [
    "doc_indexed.tail()"
   ]
  },
  {
   "cell_type": "markdown",
   "id": "e4420c92",
   "metadata": {},
   "source": [
    "### 1.3a Create Milvus connection\n",
    "We will interact with our Milvus instance using the official pymilvus library. Alternatively, it is possible to use LangChain's Milvus vectorstores class to add documents instance. In that case, a simple `from_documents` or `from_texts` (or similar) will generate the collection using the correct settings expected by LangChain.\n",
    "\n",
    "Milvus requires a connection for all operations.\n",
    "\n",
    "The alias on the connection is used from then on (with `using=` parameters in other functions) to refer to the connection that was established.\n",
    "The connection is not managed and we should remember to disconnect at the end. The `using=` field has a value of `default` when not specified, so starting a connection with an alias of `default` allows us to write a little less code."
   ]
  },
  {
   "cell_type": "code",
   "execution_count": 9,
   "id": "b81a6664-fd97-4423-aa13-61177669b47f",
   "metadata": {},
   "outputs": [],
   "source": [
    "from pymilvus import connections\n",
    "connections.connect(\n",
    "  alias=\"default\",\n",
    "  host=os.environ['MILVUS_HOST'],\n",
    "  port=os.environ['MILVUS_PORT']\n",
    ")"
   ]
  },
  {
   "cell_type": "markdown",
   "id": "78702ade",
   "metadata": {},
   "source": [
    "### 1.3b Create schema for the milvus store\n",
    "Note that if a collection with the same name but a different schema exists, Milvus may throw a SchemaNotReady exception.\n",
    "Also, text fields' max length is actually in bytes, not characters. Even though it's possible to get the byte size of the string and trim it to fit the byte limits in the schema, there are finicky bits and it's better to simply set limits to the max allowable (65535).\n",
    "We will not be using the LangChain Milvus vectorstores, but we still show how to create a minimal LangChain-compatible store through pymilvus. In this case, fields in the collection must follow some special rules:\n",
    "- The primary key must be called pk\n",
    "- The vector must be called vector\n",
    "- The text entry must be called text\n",
    "\n",
    "Milvus also supports schemaless operations if `enable_dynamic_fields=True`."
   ]
  },
  {
   "cell_type": "code",
   "execution_count": 10,
   "id": "db88a07a",
   "metadata": {},
   "outputs": [],
   "source": [
    "from pymilvus import CollectionSchema, FieldSchema, DataType, Collection, utility"
   ]
  },
  {
   "cell_type": "code",
   "execution_count": null,
   "id": "5839b714-a914-4ec0-a368-2546586b4fb2",
   "metadata": {},
   "outputs": [],
   "source": [
    "MAX_TITLE = 512\n",
    "MAX_TEXT = 1024\n",
    "MAX_VEC = 384\n",
    "\n",
    "NAME = \"WikiHow\"\n",
    "\n",
    "if NAME in utility.list_collections():\n",
    "    whcollection = Collection(NAME)\n",
    "    whcollection.drop()\n",
    "\n",
    "whschema = CollectionSchema(\n",
    "    fields=[\n",
    "        FieldSchema(name=\"pk\", dtype=DataType.INT64, is_primary=True, auto_id=True),\n",
    "        FieldSchema(name=\"title\", dtype=DataType.VARCHAR, max_length=65535, default_value=\"\"),\n",
    "        FieldSchema(name=\"text\", dtype=DataType.VARCHAR, max_length=65535, default_value=\"\"),\n",
    "        FieldSchema(name=\"vector\", dtype=DataType.FLOAT_VECTOR, dim=384)\n",
    "    ],\n",
    "    enable_dynamic_fields=False,\n",
    "    description=\"WikiHow collection\"\n",
    ")\n",
    "whcollection = Collection(\n",
    "    name=NAME,\n",
    "    schema=whschema,\n",
    "    consistency_level=\"Session\" # Make sure we read our own writes, otherwise allowed to be a bit out of date.\n",
    ")"
   ]
  },
  {
   "cell_type": "markdown",
   "id": "8f15c4ef",
   "metadata": {},
   "source": [
    "### 1.4 Batch-wise insertion into milvus\n",
    "We use a small BERT model to compute embeddings for our documents to place in the milvus store. We will be using the same model later to compute query embeddings for similarity search.\n",
    "\n",
    "The choice of batch size in this example is arbitrary, and a double-batch system may be preferable to accomodate both the embedding model and milvus.\n",
    "\n",
    "When the embedding model runs on GPU, the batch size should be selected so as to optimize the transfer-to-memory vs runtime overheads (too small and a major amount of time will be wasted on memory transfers instead of embedding proper, too large and it won't fit on the device).\n",
    "If the model is accessed over the network, the batch size should be selected with the same concerns in mind, although further overhead may be incurred depending on how the model is scheduled or how the API is designed.\n",
    "\n",
    "With regard to milvus, the idea is the same: a batch size that's too small means incurring milvus' operational overhead along with communication overhead. The other tradeoff of note regards any temporary processing or data streaming that may occur: a higher batch size also implies loading more data into memory and possibly generating longer-lasting temporary artifacts before submitting the data to milvus, after which it can all be discarded.\n",
    "\n"
   ]
  },
  {
   "cell_type": "markdown",
   "id": "ef849007",
   "metadata": {},
   "source": [
    "### 1.4a Load embeddings\n",
    "We use HuggingFaceEmbeddings with the MiniLM BERT model."
   ]
  },
  {
   "cell_type": "code",
   "execution_count": 4,
   "id": "4506fa1e",
   "metadata": {},
   "outputs": [],
   "source": [
    "import langchain\n",
    "from langchain.embeddings import HuggingFaceEmbeddings"
   ]
  },
  {
   "cell_type": "code",
   "execution_count": null,
   "id": "f20c8de7",
   "metadata": {},
   "outputs": [],
   "source": [
    "embeddings = HuggingFaceEmbeddings(model_name='all-MiniLM-L6-v2')"
   ]
  },
  {
   "cell_type": "code",
   "execution_count": null,
   "id": "1a1948d7",
   "metadata": {},
   "outputs": [],
   "source": [
    "BATCH_SIZE = 2048\n",
    "\n",
    "batch = []\n",
    "def insert_data(data):\n",
    "    import math\n",
    "\n",
    "    batch = []\n",
    "\n",
    "    titles = list(data.keys())\n",
    "\n",
    "    vecs = embeddings.embed_documents(titles)\n",
    "    \n",
    "    entries = [[], [], []]\n",
    "\n",
    "    for b, title in enumerate(titles):\n",
    "        text = title + \":\\n\"\n",
    "        for cat in data[title]:\n",
    "            text += cat + \":\\n\"\n",
    "            text += \"\\n\".join(data[title][cat])\n",
    "            \n",
    "        title_len_diff = len(title.encode('utf-16-le')) - len(title)\n",
    "        text_len_diff = len(text.encode('utf-16-le')) - len(text)\n",
    "        entries[0].append(title[:MAX_TITLE - title_len_diff])\n",
    "        entries[1].append(text[:MAX_TEXT - text_len_diff])\n",
    "        entries[2].append(vecs[b])\n",
    "\n",
    "    whcollection.insert(entries)\n",
    "\n",
    "import collections, tqdm\n",
    "doc_data = collections.defaultdict(lambda: collections.defaultdict(list))\n",
    "for i in tqdm.tqdm(range(len(doc_indexed)), total=len(doc_indexed)):\n",
    "    if (type(doc_indexed.index[i][0]) is not str) or (type(doc_indexed.index[i][1]) is not str):\n",
    "        continue\n",
    "    die = False\n",
    "    for col in ['text', 'overview', 'sectionLabel']:\n",
    "        if type(doc_indexed.iloc[i][col]) is not str:\n",
    "            die = True\n",
    "            break\n",
    "    if die:\n",
    "        continue\n",
    "    section_head = doc_indexed.index[i][0] + \" (\" + doc_indexed.iloc[i]['overview'].strip() + \")\"\n",
    "    category = doc_indexed.index[i][1]\n",
    "    step = \" \".join(map(lambda x: x.strip(), doc_indexed.iloc[i][['sectionLabel', 'text']]))\n",
    "\n",
    "    if len(doc_data) % BATCH_SIZE == 1 and len(doc_data) != 1:\n",
    "        insert_data(doc_data)\n",
    "        doc_data = collections.defaultdict(lambda: collections.defaultdict(list))\n",
    "    doc_data[section_head][category].append(step)\n",
    "    if i == len(doc_indexed) - 1:\n",
    "        insert_data(doc_data)"
   ]
  },
  {
   "cell_type": "markdown",
   "id": "3c5d3c91",
   "metadata": {},
   "source": [
    "### 1.4b Flush!\n",
    "Milvus will not seal segments that are too small, a flush is necessary to force it."
   ]
  },
  {
   "cell_type": "code",
   "execution_count": 50,
   "id": "303555bd",
   "metadata": {},
   "outputs": [],
   "source": [
    "whcollection.flush()"
   ]
  },
  {
   "cell_type": "markdown",
   "id": "363aed48",
   "metadata": {},
   "source": [
    "### 1.4c Create index\n",
    "Search can be accelerated significantly by creating an index on the vector. Here we use L2 similarity with a flat index using inverted files (`IVF_FLAT`).\n",
    "\n",
    "If using the langchain milvus store interface, now is a good time to disconnect as well. Otherwise, now is the time to load the collection."
   ]
  },
  {
   "cell_type": "code",
   "execution_count": 14,
   "id": "48112a98",
   "metadata": {},
   "outputs": [
    {
     "name": "stderr",
     "output_type": "stream",
     "text": [
      "alloc_timestamp unimplemented, ignore it\n"
     ]
    }
   ],
   "source": [
    "whcollection.create_index(field_name=\"vector\", index_params={\"metric_type\": \"L2\", \"index_type\": \"IVF_FLAT\", \"nlist\": \"1024\"})\n",
    "whcollection.load()\n",
    "# To actually use the data, we would have to do a `whcollection.load()` before any queries.\n",
    "# Once done with queries, we should then use `whcollection.release()` to stop using resources"
   ]
  },
  {
   "cell_type": "markdown",
   "id": "511edaa2",
   "metadata": {},
   "source": [
    "## 2. Setup relevance search\n",
    "Now that the data store is ready, we can do searches against it. Below we build a demo document retrieval system."
   ]
  },
  {
   "cell_type": "code",
   "execution_count": 15,
   "id": "4badf8a4",
   "metadata": {},
   "outputs": [],
   "source": [
    "RELEVANCE_CUTOFF = 0.75 # Arbitrary threshold for document relevance.\n",
    "# This is metric-dependant and will have to be tuned depending on dataset.\n",
    "# It will also depend on the data in the vector: mind aspects like normalization."
   ]
  },
  {
   "cell_type": "code",
   "execution_count": 16,
   "id": "a31f09ef-c082-46f1-9313-60dfa0c48f5e",
   "metadata": {},
   "outputs": [],
   "source": [
    "def find(what):\n",
    "    found = whcollection.search(\n",
    "            [embeddings.embed_query(what)], # Vector for the query\n",
    "            anns_field=\"vector\", # Name of the field to search against\n",
    "            param={'metric_type': 'L2', # Search params...\n",
    "                        'offset': 0,\n",
    "                        'params': {'nprobe': 1}\n",
    "                        },\n",
    "            limit=1,\n",
    "            output_fields=['text', 'title']) # Also get the document title.\n",
    "    match_title = found[0][0].entity.get('title')\n",
    "    match_text = found[0][0].entity.get('text')\n",
    "    match_dist = found[0][0].distance\n",
    "\n",
    "    return { \"found\": match_dist < RELEVANCE_CUTOFF, \"title\": match_title, \"text\": match_text }"
   ]
  },
  {
   "cell_type": "markdown",
   "id": "b6d83689",
   "metadata": {},
   "source": [
    "## 3. Demo driver\n",
    "We setup a simple driver to test our work. Enter data in the input to receive the most relevant document, or no document if there was no suitable match in the database.\n",
    "\n",
    "To stop providing queries, simply enter an empty line."
   ]
  },
  {
   "cell_type": "code",
   "execution_count": 17,
   "id": "5f2db0d8-c6be-4c30-86e6-e015002b8a1a",
   "metadata": {},
   "outputs": [
    {
     "name": "stdout",
     "output_type": "stream",
     "text": [
      "Title: How to Be a Fast Runner (Always come up last in the big race? Want some tips on how to speed yourself up whether you're in the Olympics or just out on the playground? Here are some ideas to help you out.)\n",
      "Contents:\n",
      "How to Be a Fast Runner (Always come up last in the big race? Want some tips on how to speed yourself up whether you're in the Olympics or just out on the playground? Here are some ideas to help you out.):\n",
      "\n",
      "Adjust your stride according to the distance you're running, if it's a sprint then quickly turn over your legs and keep your knees high.:\n",
      "Conserving energy If it's a mid distance(half mile) focus more on running hard, kicking out in front of you. Or, over longer distances, where you must keep efficient, you can do this by keeping your elbows at 90˚ angles, placing your hands near your waist, and puffing out your chest. Keep your pelvis underneath you, with your back straight, and don't kick behind you. Raise your knees, and pretend to kick your butt.\n",
      "Always do a quick warm-up before you run.:\n",
      "Just prior to the race If you begin without stretching or doing a quick exercise routine, it will cause painful muscle cramps and bad aches, especially if you are going to be running for an extended period of time.\n",
      "Al\n",
      "\n"
     ]
    }
   ],
   "source": [
    "while True:\n",
    "    ipt = input(\">\").strip()\n",
    "    if len(ipt) == 0:\n",
    "        break\n",
    "\n",
    "    resp = ''\n",
    "    \n",
    "    result = find(ipt)\n",
    "    if result['found']:\n",
    "        print(f\"Title: {result['title']}\\nContents:\\n{result['text']}\\n\")\n",
    "    else:\n",
    "        print(f\"No matching document for query '{ipt}'.\")"
   ]
  },
  {
   "cell_type": "markdown",
   "id": "c912149f",
   "metadata": {},
   "source": [
    "## 4. Cleanup\n",
    "Unload the collection to stop using up resources, then close the connection. We're done!"
   ]
  },
  {
   "cell_type": "code",
   "execution_count": 55,
   "id": "562559a1-0deb-478f-827c-f5825ef938fe",
   "metadata": {},
   "outputs": [],
   "source": [
    "whcollection.release()\n",
    "connections.disconnect(\"default\")"
   ]
  }
 ],
 "metadata": {
  "kernelspec": {
   "display_name": "Python 3 (ipykernel)",
   "language": "python",
   "name": "python3"
  },
  "language_info": {
   "codemirror_mode": {
    "name": "ipython",
    "version": 3
   },
   "file_extension": ".py",
   "mimetype": "text/x-python",
   "name": "python",
   "nbconvert_exporter": "python",
   "pygments_lexer": "ipython3",
   "version": "3.10.11"
  }
 },
 "nbformat": 4,
 "nbformat_minor": 5
}
