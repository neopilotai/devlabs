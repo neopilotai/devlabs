{
 "cells": [
  {
   "cell_type": "code",
   "execution_count": 1,
   "id": "1393b0ae-2557-4182-a3bf-047b7fd6059a",
   "metadata": {
    "scrolled": true
   },
   "outputs": [
    {
     "name": "stdout",
     "output_type": "stream",
     "text": [
      "Requirement already satisfied: langchain==0.0.274 in /opt/conda/lib/python3.10/site-packages (from -r requirements.txt (line 1)) (0.0.274)\n",
      "Requirement already satisfied: text-generation==0.6.0 in /opt/conda/lib/python3.10/site-packages (from -r requirements.txt (line 2)) (0.6.0)\n",
      "Requirement already satisfied: pymilvus==2.3.0 in /opt/conda/lib/python3.10/site-packages (from -r requirements.txt (line 3)) (2.3.0)\n",
      "Requirement already satisfied: python-dotenv==1.0.0 in /opt/conda/lib/python3.10/site-packages (from -r requirements.txt (line 4)) (1.0.0)\n",
      "Requirement already satisfied: grpcio==1.56.0 in /opt/conda/lib/python3.10/site-packages (from -r requirements.txt (line 5)) (1.56.0)\n",
      "Requirement already satisfied: async-timeout<5.0.0,>=4.0.0 in /opt/conda/lib/python3.10/site-packages (from langchain==0.0.274->-r requirements.txt (line 1)) (4.0.2)\n",
      "Requirement already satisfied: tenacity<9.0.0,>=8.1.0 in /opt/conda/lib/python3.10/site-packages (from langchain==0.0.274->-r requirements.txt (line 1)) (8.2.3)\n",
      "Requirement already satisfied: dataclasses-json<0.6.0,>=0.5.7 in /opt/conda/lib/python3.10/site-packages (from langchain==0.0.274->-r requirements.txt (line 1)) (0.5.14)\n",
      "Requirement already satisfied: SQLAlchemy<3,>=1.4 in /opt/conda/lib/python3.10/site-packages (from langchain==0.0.274->-r requirements.txt (line 1)) (1.4.49)\n",
      "Requirement already satisfied: requests<3,>=2 in /opt/conda/lib/python3.10/site-packages (from langchain==0.0.274->-r requirements.txt (line 1)) (2.28.1)\n",
      "Requirement already satisfied: pydantic<3,>=1 in /opt/conda/lib/python3.10/site-packages (from langchain==0.0.274->-r requirements.txt (line 1)) (1.10.12)\n",
      "Requirement already satisfied: langsmith<0.1.0,>=0.0.21 in /opt/conda/lib/python3.10/site-packages (from langchain==0.0.274->-r requirements.txt (line 1)) (0.0.40)\n",
      "Requirement already satisfied: numexpr<3.0.0,>=2.8.4 in /opt/conda/lib/python3.10/site-packages (from langchain==0.0.274->-r requirements.txt (line 1)) (2.8.6)\n",
      "Requirement already satisfied: PyYAML>=5.3 in /opt/conda/lib/python3.10/site-packages (from langchain==0.0.274->-r requirements.txt (line 1)) (6.0.1)\n",
      "Requirement already satisfied: numpy<2,>=1 in /opt/conda/lib/python3.10/site-packages (from langchain==0.0.274->-r requirements.txt (line 1)) (1.23.5)\n",
      "Requirement already satisfied: aiohttp<4.0.0,>=3.8.3 in /opt/conda/lib/python3.10/site-packages (from langchain==0.0.274->-r requirements.txt (line 1)) (3.8.4)\n",
      "Requirement already satisfied: huggingface-hub<1.0,>=0.12 in /opt/conda/lib/python3.10/site-packages (from text-generation==0.6.0->-r requirements.txt (line 2)) (0.17.2)\n",
      "Requirement already satisfied: environs<=9.5.0 in /opt/conda/lib/python3.10/site-packages (from pymilvus==2.3.0->-r requirements.txt (line 3)) (9.5.0)\n",
      "Requirement already satisfied: pandas>=1.2.4 in /opt/conda/lib/python3.10/site-packages (from pymilvus==2.3.0->-r requirements.txt (line 3)) (2.0.1)\n",
      "Requirement already satisfied: ujson>=2.0.0 in /opt/conda/lib/python3.10/site-packages (from pymilvus==2.3.0->-r requirements.txt (line 3)) (5.8.0)\n",
      "Requirement already satisfied: protobuf>=3.20.0 in /opt/conda/lib/python3.10/site-packages (from pymilvus==2.3.0->-r requirements.txt (line 3)) (4.21.12)\n",
      "Requirement already satisfied: attrs>=17.3.0 in /opt/conda/lib/python3.10/site-packages (from aiohttp<4.0.0,>=3.8.3->langchain==0.0.274->-r requirements.txt (line 1)) (23.1.0)\n",
      "Requirement already satisfied: frozenlist>=1.1.1 in /opt/conda/lib/python3.10/site-packages (from aiohttp<4.0.0,>=3.8.3->langchain==0.0.274->-r requirements.txt (line 1)) (1.3.3)\n",
      "Requirement already satisfied: yarl<2.0,>=1.0 in /opt/conda/lib/python3.10/site-packages (from aiohttp<4.0.0,>=3.8.3->langchain==0.0.274->-r requirements.txt (line 1)) (1.9.2)\n",
      "Requirement already satisfied: charset-normalizer<4.0,>=2.0 in /opt/conda/lib/python3.10/site-packages (from aiohttp<4.0.0,>=3.8.3->langchain==0.0.274->-r requirements.txt (line 1)) (2.0.4)\n",
      "Requirement already satisfied: multidict<7.0,>=4.5 in /opt/conda/lib/python3.10/site-packages (from aiohttp<4.0.0,>=3.8.3->langchain==0.0.274->-r requirements.txt (line 1)) (6.0.4)\n",
      "Requirement already satisfied: aiosignal>=1.1.2 in /opt/conda/lib/python3.10/site-packages (from aiohttp<4.0.0,>=3.8.3->langchain==0.0.274->-r requirements.txt (line 1)) (1.3.1)\n",
      "Requirement already satisfied: typing-inspect<1,>=0.4.0 in /opt/conda/lib/python3.10/site-packages (from dataclasses-json<0.6.0,>=0.5.7->langchain==0.0.274->-r requirements.txt (line 1)) (0.9.0)\n",
      "Requirement already satisfied: marshmallow<4.0.0,>=3.18.0 in /opt/conda/lib/python3.10/site-packages (from dataclasses-json<0.6.0,>=0.5.7->langchain==0.0.274->-r requirements.txt (line 1)) (3.19.0)\n",
      "Requirement already satisfied: filelock in /opt/conda/lib/python3.10/site-packages (from huggingface-hub<1.0,>=0.12->text-generation==0.6.0->-r requirements.txt (line 2)) (3.12.4)\n",
      "Requirement already satisfied: packaging>=20.9 in /opt/conda/lib/python3.10/site-packages (from huggingface-hub<1.0,>=0.12->text-generation==0.6.0->-r requirements.txt (line 2)) (23.1)\n",
      "Requirement already satisfied: typing-extensions>=3.7.4.3 in /opt/conda/lib/python3.10/site-packages (from huggingface-hub<1.0,>=0.12->text-generation==0.6.0->-r requirements.txt (line 2)) (4.6.3)\n",
      "Requirement already satisfied: tqdm>=4.42.1 in /opt/conda/lib/python3.10/site-packages (from huggingface-hub<1.0,>=0.12->text-generation==0.6.0->-r requirements.txt (line 2)) (4.65.0)\n",
      "Requirement already satisfied: fsspec in /opt/conda/lib/python3.10/site-packages (from huggingface-hub<1.0,>=0.12->text-generation==0.6.0->-r requirements.txt (line 2)) (2023.5.0)\n",
      "Requirement already satisfied: pytz>=2020.1 in /opt/conda/lib/python3.10/site-packages (from pandas>=1.2.4->pymilvus==2.3.0->-r requirements.txt (line 3)) (2023.3)\n",
      "Requirement already satisfied: tzdata>=2022.1 in /opt/conda/lib/python3.10/site-packages (from pandas>=1.2.4->pymilvus==2.3.0->-r requirements.txt (line 3)) (2023.3)\n",
      "Requirement already satisfied: python-dateutil>=2.8.2 in /opt/conda/lib/python3.10/site-packages (from pandas>=1.2.4->pymilvus==2.3.0->-r requirements.txt (line 3)) (2.8.2)\n",
      "Requirement already satisfied: urllib3<1.27,>=1.21.1 in /opt/conda/lib/python3.10/site-packages (from requests<3,>=2->langchain==0.0.274->-r requirements.txt (line 1)) (1.26.15)\n",
      "Requirement already satisfied: certifi>=2017.4.17 in /opt/conda/lib/python3.10/site-packages (from requests<3,>=2->langchain==0.0.274->-r requirements.txt (line 1)) (2023.5.7)\n",
      "Requirement already satisfied: idna<4,>=2.5 in /opt/conda/lib/python3.10/site-packages (from requests<3,>=2->langchain==0.0.274->-r requirements.txt (line 1)) (3.4)\n",
      "Requirement already satisfied: greenlet!=0.4.17 in /opt/conda/lib/python3.10/site-packages (from SQLAlchemy<3,>=1.4->langchain==0.0.274->-r requirements.txt (line 1)) (2.0.2)\n",
      "Requirement already satisfied: six>=1.5 in /opt/conda/lib/python3.10/site-packages (from python-dateutil>=2.8.2->pandas>=1.2.4->pymilvus==2.3.0->-r requirements.txt (line 3)) (1.16.0)\n",
      "Requirement already satisfied: mypy-extensions>=0.3.0 in /opt/conda/lib/python3.10/site-packages (from typing-inspect<1,>=0.4.0->dataclasses-json<0.6.0,>=0.5.7->langchain==0.0.274->-r requirements.txt (line 1)) (1.0.0)\n",
      "\u001b[33mWARNING: Running pip as the 'root' user can result in broken permissions and conflicting behaviour with the system package manager. It is recommended to use a virtual environment instead: https://pip.pypa.io/warnings/venv\u001b[0m\u001b[33m\n",
      "\u001b[0mNote: you may need to restart the kernel to use updated packages.\n"
     ]
    }
   ],
   "source": [
    "%pip install -r requirements.txt"
   ]
  },
  {
   "cell_type": "code",
   "execution_count": 1,
   "id": "36149682",
   "metadata": {},
   "outputs": [
    {
     "data": {
      "text/plain": [
       "True"
      ]
     },
     "execution_count": 1,
     "metadata": {},
     "output_type": "execute_result"
    }
   ],
   "source": [
    "import os\n",
    "from dotenv import load_dotenv\n",
    "load_dotenv(override=True)"
   ]
  },
  {
   "cell_type": "markdown",
   "id": "e129332a",
   "metadata": {},
   "source": [
    "# Multi-turn knowledge-base-driven chatbot on Neopilot with Milvus and llama2\n",
    "In this demo, we will setup a KB-driven multi-turn chatbot. We will use milvus for our vector database. For retrieval and text generation, we will be using LangChain.\n",
    "\n",
    "This demo is a followup from the milvus demo and assumes we already have a WikiHow collection setup and ready to go.\n",
    "\n",
    "Our text generation model will be Llama2 running on the Neopilot platform on GPU-powered nodes and we will use a small BERT model for our text similarity needs. While this illustrate multiple ways to work with LLMs on Neopilot, this is hardly the only viable paradigm. For example, we could setup a service for both models, which would let us use larger, and thus more powerful, models for similarity. We could also use explicit topic modeling tuned on our knowledge base instead of using Milvus' distance to determine document fit."
   ]
  },
  {
   "cell_type": "markdown",
   "id": "62028ced",
   "metadata": {},
   "source": [
    "## 1. Setup the knowledgebase\n",
    "We start by setting up the connection and loading the WikiHow collection."
   ]
  },
  {
   "cell_type": "markdown",
   "id": "e4420c92",
   "metadata": {},
   "source": [
    "### 1a Create milvus connection\n",
    "We could also use LangChain's vectorstores interface to Milvus so long as the store is compatible with what LangChain expects (see the Milvus demo for more details)"
   ]
  },
  {
   "cell_type": "code",
   "execution_count": 52,
   "id": "b81a6664-fd97-4423-aa13-61177669b47f",
   "metadata": {},
   "outputs": [],
   "source": [
    "from pymilvus import connections\n",
    "connection = connections.connect(\n",
    "  alias=\"default\",\n",
    "  host=os.environ['MILVUS_HOST'],\n",
    "  port=os.environ['MILVUS_PORT']\n",
    ")"
   ]
  },
  {
   "cell_type": "code",
   "execution_count": 53,
   "id": "db88a07a",
   "metadata": {},
   "outputs": [],
   "source": [
    "from pymilvus import Collection, utility"
   ]
  },
  {
   "cell_type": "markdown",
   "id": "3dda8c44",
   "metadata": {},
   "source": [
    "### 1b Load the collection"
   ]
  },
  {
   "cell_type": "code",
   "execution_count": 54,
   "id": "220a7a96",
   "metadata": {},
   "outputs": [],
   "source": [
    "whcollection = Collection(\"WikiHow\")\n",
    "whcollection.load()"
   ]
  },
  {
   "cell_type": "markdown",
   "id": "ef849007",
   "metadata": {},
   "source": [
    "## 2. Load embeddings\n",
    "We use HuggingFaceEmbeddings with the MiniLM BERT model."
   ]
  },
  {
   "cell_type": "code",
   "execution_count": 5,
   "id": "53b29d94",
   "metadata": {},
   "outputs": [],
   "source": [
    "import langchain\n",
    "from langchain.embeddings import HuggingFaceEmbeddings"
   ]
  },
  {
   "cell_type": "code",
   "execution_count": 6,
   "id": "f20c8de7",
   "metadata": {},
   "outputs": [
    {
     "name": "stderr",
     "output_type": "stream",
     "text": [
      "/opt/conda/lib/python3.10/site-packages/tqdm/auto.py:21: TqdmWarning: IProgress not found. Please update jupyter and ipywidgets. See https://ipywidgets.readthedocs.io/en/stable/user_install.html\n",
      "  from .autonotebook import tqdm as notebook_tqdm\n"
     ]
    }
   ],
   "source": [
    "embeddings = HuggingFaceEmbeddings(model_name='all-MiniLM-L6-v2')"
   ]
  },
  {
   "cell_type": "markdown",
   "id": "1b2fdfac",
   "metadata": {},
   "source": [
    "Let's quickly test a query to make sure everything is working fine."
   ]
  },
  {
   "cell_type": "code",
   "execution_count": 7,
   "id": "8331f0ba",
   "metadata": {},
   "outputs": [],
   "source": [
    "def find(what):\n",
    "    return whcollection.search(\n",
    "            [embeddings.embed_query(what)],\n",
    "            anns_field=\"vector\",\n",
    "            param={'metric_type': 'L2',\n",
    "                        'offset': 0,\n",
    "                        'params': {'nprobe': 1}\n",
    "                        },\n",
    "            limit=1,\n",
    "            output_fields=['text', 'title'])"
   ]
  },
  {
   "cell_type": "code",
   "execution_count": 88,
   "id": "eee9c61f",
   "metadata": {},
   "outputs": [
    {
     "data": {
      "text/plain": [
       "'How to Eat Fruits for Nonfruit Eaters (Eating fruits is important and presently your body is in balance chemically. However soft drinks and using a lot of sugar is not a substitute for fruits. Fruits are healthy for you in many ways, try to include them in your diet.)'"
      ]
     },
     "execution_count": 88,
     "metadata": {},
     "output_type": "execute_result"
    }
   ],
   "source": [
    "find(\"how to eat fruit?\")[0][0].entity.get('title')"
   ]
  },
  {
   "cell_type": "markdown",
   "id": "511edaa2",
   "metadata": {},
   "source": [
    "## 3. Setup LLM agents\n",
    "Now that the data store is ready, we setup the data retrieval and text generation parts of the system to connect to a Neopilot-served Llama2 LLM service.\n",
    "\n",
    "### 3.1 Connect to LLM endpoint and setup prompt template"
   ]
  },
  {
   "cell_type": "code",
   "execution_count": 9,
   "id": "0b1d7472-6ada-4873-95d5-b75b054c23fb",
   "metadata": {},
   "outputs": [],
   "source": [
    "import text_generation\n",
    "from langchain import PromptTemplate"
   ]
  },
  {
   "cell_type": "code",
   "execution_count": 10,
   "id": "76d50173",
   "metadata": {},
   "outputs": [],
   "source": [
    "SVC_EP=os.environ['LLM_ENDPOINT']\n",
    "client = text_generation.Client(SVC_EP)"
   ]
  },
  {
   "cell_type": "markdown",
   "id": "5790ba3a",
   "metadata": {},
   "source": [
    "Let's see what the LLM can do without any knowledge..."
   ]
  },
  {
   "cell_type": "code",
   "execution_count": 17,
   "id": "4a750ff8",
   "metadata": {},
   "outputs": [
    {
     "name": "stdout",
     "output_type": "stream",
     "text": [
      "\n",
      "\n",
      "Answer: To improve your running speed, you should focus on a combination of cardiovascular fitness and muscular strength. Here are some tips to help you achieve this goal:\n",
      "\n",
      "1. **Cardiovascular Fitness**: This is the key to endurance sports like running. It's about getting your heart and lungs working more efficiently so that they can pump oxygen-rich blood around your body quicker. You can build up your cardio by doing activities such as jogging or cycling regularly. Aim for at least 30 minutes per day.\n",
      "\n",
      "2. **Muscular Strength**: Running requires power in your legs to propel yourself forward. Regularly incorporating exercises like squats, lunges, and leg press into your workout routine will help increase your lower body strength.\n",
      "\n",
      "3. **Proper Nutrition**: Eat foods rich in protein (like chicken, fish, eggs) which helps repair and grow muscles. Carbohydrates provide energy during exercise, while healthy fats support hormone production. Stay hydrated throughout the day with water.\n",
      "\n",
      "4. **Rest and Recovery**: Your muscles need time to recover after each training session. Make sure you get enough sleep and take rest days between intense workouts.\n",
      "\n",
      "5. **Pace Yourself**: Start slow and gradually increase your pace over time. Don't try to sprint from the start; it could lead to injury.\n",
      "\n",
      "6. **Technical Improvements**: Good posture, arm swing, foot strike, breathing techniques - all these contribute to efficient running. Consider consulting a professional coach if needed.\n",
      "\n",
      "7. **Mental Toughness**: Running long distances can be mentally challenging. Practice mindfulness, visualization, and positive self-talk to stay motivated.\n",
      "\n",
      "Remember, everyone progresses differently. Be patient with yourself and celebrate small improvements along the way. With consistent effort and dedication, you'll see improvement in your running times."
     ]
    }
   ],
   "source": [
    "for tok in client.generate_stream(prompt=\"How do I run faster?\", max_new_tokens=512, repetition_penalty=1.2):\n",
    "    if not tok.token.special:\n",
    "        print(tok.token.text, end='')"
   ]
  },
  {
   "cell_type": "markdown",
   "id": "881c5cde",
   "metadata": {},
   "source": [
    "### 3.2 Setup KB-oriented text generation\n",
    "For this demo, we proceed as follows:\n",
    "- Perform a search against the collection with each query\n",
    "- If a high-quality match is found, provide the LLM with this added context for a potential context switch\n",
    "- Provide the turn history\n",
    "- Trim the input to match the service's limits\n",
    "- Generate the response\n",
    "\n",
    "Here we will do manual prompt engineering beyond the template below. We could have also used the ConversationManager in LangChain, or any other similar option."
   ]
  },
  {
   "cell_type": "code",
   "execution_count": 39,
   "id": "05b4a684",
   "metadata": {},
   "outputs": [],
   "source": [
    "assistant_string = \"ASSISTANT:\\n\"\n",
    "user_string = \"USER:\\n\"\n",
    "document_string=\"DOCUMENT:\\n\""
   ]
  },
  {
   "cell_type": "code",
   "execution_count": 73,
   "id": "465b694a",
   "metadata": {},
   "outputs": [],
   "source": [
    "prompt_template = PromptTemplate.from_template(\n",
    "    f\"\"\"\\\n",
    "{{turns}}\n",
    "{document_string}{{context}}\n",
    "{user_string}What does the document say about {{prompt}}\n",
    "Give me a summary. If the information is not there let me know.\n",
    "\n",
    "{assistant_string}\n",
    "\"\"\"\n",
    ")"
   ]
  },
  {
   "cell_type": "markdown",
   "id": "92325b10",
   "metadata": {},
   "source": [
    "Now the function to tie it all together:"
   ]
  },
  {
   "cell_type": "code",
   "execution_count": 90,
   "id": "a31f09ef-c082-46f1-9313-60dfa0c48f5e",
   "metadata": {},
   "outputs": [],
   "source": [
    "def generate(what, turns, context, topic):\n",
    "    found = find(what)\n",
    "    match_title = found[0][0].entity.get('title')\n",
    "    match_text = found[0][0].entity.get('text')\n",
    "    match_dist = found[0][0].distance\n",
    "\n",
    "    retrieved = \"\"\n",
    "\n",
    "    if match_title != topic and match_dist < 0.75:\n",
    "        retrieved = match_text\n",
    "        retrieved = retrieved[:1024]\n",
    "        context = retrieved\n",
    "        topic = match_title\n",
    "    preface = (\"No information available\" if context is None else context)\n",
    "    turns = \"\\n\".join(turns)[-2048:]\n",
    "    return { \n",
    "        'stream': client.generate_stream(prompt=prompt_template.format(prompt=what,\n",
    "                                                                       turns=turns,\n",
    "                                                                       context=preface),\n",
    "                                            max_new_tokens=512,\n",
    "                                            repetition_penalty=1.2),\n",
    "\n",
    "        'topic': topic,\n",
    "        'context': context\n",
    "        }"
   ]
  },
  {
   "cell_type": "markdown",
   "id": "b6d83689",
   "metadata": {},
   "source": [
    "## 4. Demo driver\n",
    "We setup a simple demo driver for the chatbot to make sure everything is working well. The session can be terminated by entering an empty query."
   ]
  },
  {
   "cell_type": "code",
   "execution_count": 91,
   "id": "5f2db0d8-c6be-4c30-86e6-e015002b8a1a",
   "metadata": {},
   "outputs": [
    {
     "name": "stdout",
     "output_type": "stream",
     "text": [
      "\n",
      "Query: how can I safely climb a tree?\n",
      "\n",
      "Response:\n",
      "\n",
      "To safely climb a tree, follow these steps:\n",
      "1. Choose a healthy tree with sturdy footholds.\n",
      "2. Consider using equipment like a climbing harness and ropes if you plan on regular climbing.\n",
      "3. Use a Prusik cord or 'foot assist' for additional support if needed.\n",
      "4. Be aware of potential hazards due to weather conditions, especially avoiding climbing during thunderstorms. Always prioritize safety over reaching the top.\n",
      "\n",
      "Query: How can I climb a tree dangerously?\n",
      "\n",
      "Response:\n",
      "\n",
      "This document discusses safe methods for climbing a tree while emphasizing the importance of considering various factors that might influence the safety of the activity. It advises against attempting to climb a tree recklessly or under unsafe conditions. Here are some key points from the text regarding this topic:\n",
      "- Never attempt to climb a tree during a thunderstorm, or when lightning is present nearby. This increases the risk of being struck by lightning.\n",
      "- Avoid climbing during high winds or stormy weather, which can cause instability in the tree and increase the likelihood of falling.\n",
      "- Do not climb alone; always ensure someone else knows where you are going and what time they should expect you back.\n",
      "- Wear appropriate clothing and gear, including comfortable shoes with good traction, long pants to protect legs from branches, and gloves to prevent blisters and improve grip.\n",
      "- Start at the base of the tree and work your way up gradually, testing handholds and footholds along the way. Make sure to maintain three points of contact with the trunk or a branch at all times to reduce the risk of falls.\n",
      "- Keep your center of gravity low and balanced throughout the climb, shifting your weight between hands and feet as necessary.\n",
      "- Maintain control over the descent by sliding down slowly instead of jumping off the tree. Ensure you have a clear path below you and know how to use any available lower limbs for support.\n",
      "Remember, even experienced climbers take precautions to stay safe while enjoying this challenging yet rewarding outdoor activity.\n"
     ]
    }
   ],
   "source": [
    "ipt = \"\"\n",
    "resp = \"\"\n",
    "\n",
    "turns = []\n",
    "\n",
    "topic = None\n",
    "context = None\n",
    "\n",
    "while True:\n",
    "    ipt = input(\">\").strip()\n",
    "    if len(ipt) == 0:\n",
    "        break\n",
    "\n",
    "    resp = ''\n",
    "    \n",
    "    result = generate(ipt, turns, context, topic)\n",
    "    prev = None\n",
    "    print(f\"\\nQuery: {ipt}\\n\")\n",
    "    print(\"Response:\\n\")\n",
    "    for tok in result['stream']:\n",
    "        if not tok.token.special:\n",
    "            if(prev == '\\n' and tok.token.text == '\\n'):\n",
    "                continue\n",
    "            print(tok.token.text, end='')\n",
    "            prev = tok.token.text\n",
    "            resp += tok.token.text\n",
    "    print()\n",
    "    \n",
    "    resp = resp.strip()\n",
    "    turns.append(user_string + ipt)\n",
    "    turns.append(assistant_string + resp)\n",
    "    topic = result['topic']\n",
    "    context = result['context']"
   ]
  },
  {
   "cell_type": "markdown",
   "id": "e908baa7",
   "metadata": {},
   "source": [
    "## 5. Cleanup\n",
    "Don't forget to clear any resources we are done using!"
   ]
  },
  {
   "cell_type": "code",
   "execution_count": 50,
   "id": "562559a1-0deb-478f-827c-f5825ef938fe",
   "metadata": {},
   "outputs": [],
   "source": [
    "whcollection.release()\n",
    "connections.disconnect('default')"
   ]
  },
  {
   "cell_type": "code",
   "execution_count": null,
   "id": "4517ce07",
   "metadata": {},
   "outputs": [],
   "source": []
  }
 ],
 "metadata": {
  "kernelspec": {
   "display_name": "Python 3 (ipykernel)",
   "language": "python",
   "name": "python3"
  },
  "language_info": {
   "codemirror_mode": {
    "name": "ipython",
    "version": 3
   },
   "file_extension": ".py",
   "mimetype": "text/x-python",
   "name": "python",
   "nbconvert_exporter": "python",
   "pygments_lexer": "ipython3",
   "version": "3.10.11"
  }
 },
 "nbformat": 4,
 "nbformat_minor": 5
}
