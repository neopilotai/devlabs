{
 "cells": [
  {
   "cell_type": "markdown",
   "id": "66be8bc8",
   "metadata": {},
   "source": [
    "## groupby and merge in vaex on data larger than momory \n",
    "### good for single node large operation"
   ]
  },
  {
   "cell_type": "code",
   "execution_count": 2,
   "id": "7ae4849a",
   "metadata": {},
   "outputs": [],
   "source": [
    "# !pip install --upgrade vaex --quiet"
   ]
  },
  {
   "cell_type": "code",
   "execution_count": 1,
   "id": "f68119f9",
   "metadata": {},
   "outputs": [],
   "source": [
    "import vaex"
   ]
  },
  {
   "cell_type": "code",
   "execution_count": 2,
   "id": "02eb0cf8",
   "metadata": {},
   "outputs": [
    {
     "name": "stdout",
     "output_type": "stream",
     "text": [
      "number of files 4168\n",
      "per file size 30.512420654296875 MB\n",
      "total file compressed 124.19508719444275 GB\n"
     ]
    }
   ],
   "source": [
    "from google.cloud import storage\n",
    "import os\n",
    "bucket_name = os.environ['HYPERPLANE_GCP_BUCKET']\n",
    "google_client = storage.Client()\n",
    "blobs = google_client.list_blobs(bucket_name, prefix='data/crypto2')\n",
    "file_size = [blob.size for blob in blobs]\n",
    "print(f'number of files {len(file_size)}')\n",
    "print(f'per file size {file_size[0]/1024/1024} MB')\n",
    "print(f'total file compressed {file_size[0]/1024/1024/1024 * len(file_size)} GB')"
   ]
  },
  {
   "cell_type": "code",
   "execution_count": 19,
   "id": "b19c96bc",
   "metadata": {},
   "outputs": [
    {
     "name": "stdout",
     "output_type": "stream",
     "text": [
      "one file uncompressed 0.11138629913330078 G\n",
      "total size uncompressed 39.096590995788574 G\n"
     ]
    }
   ],
   "source": [
    "# df_one_file = pd.read_parquet(\"gs://shakdemo-hyperplane/data/crypto2/0.parquet\") \n",
    "# print(f\"one file uncompressed {df_one_file.memory_usage().sum()/1024./1024./1024.} G\")\n",
    "# print(f\"total size uncompressed {df_one_file.memory_usage().sum()/1024./1024./1024. * len(file_size)} G\")\n",
    "\n",
    "## one file uncompressed 0.11138629913330078 G\n",
    "## total size uncompressed 39.096590995788574 G"
   ]
  },
  {
   "cell_type": "code",
   "execution_count": 8,
   "id": "b68d886b",
   "metadata": {},
   "outputs": [
    {
     "data": {
      "text/plain": [
       "179"
      ]
     },
     "execution_count": 8,
     "metadata": {},
     "output_type": "execute_result"
    }
   ],
   "source": [
    "num_files = int(20/0.11138629913330078)\n",
    "num_files"
   ]
  },
  {
   "cell_type": "code",
   "execution_count": 9,
   "id": "8fc41f23",
   "metadata": {},
   "outputs": [
    {
     "name": "stdout",
     "output_type": "stream",
     "text": [
      "CPU times: user 13.7 s, sys: 979 ms, total: 14.7 s\n",
      "Wall time: 1min 4s\n"
     ]
    },
    {
     "data": {
      "text/plain": [
       "(205850000, 13)"
      ]
     },
     "execution_count": 9,
     "metadata": {},
     "output_type": "execute_result"
    }
   ],
   "source": [
    "%%time\n",
    "df = vaex.open([f'gs://shakdemo-hyperplane/data/crypto2/{f}.parquet' for f in range(num_files)], progress=True)\n",
    "df.shape"
   ]
  },
  {
   "cell_type": "code",
   "execution_count": 10,
   "id": "bdfd2323",
   "metadata": {},
   "outputs": [
    {
     "name": "stdout",
     "output_type": "stream",
     "text": [
      "CPU times: user 2.24 ms, sys: 26 µs, total: 2.26 ms\n",
      "Wall time: 1.69 ms\n"
     ]
    },
    {
     "data": {
      "text/html": [
       "<table>\n",
       "<thead>\n",
       "<tr><th>#                            </th><th>info                                               </th><th style=\"text-align: right;\">    timestamp</th><th>datetime                </th><th>symbol  </th><th style=\"text-align: right;\">       id</th><th style=\"text-align: right;\">  order</th><th style=\"text-align: right;\">  type</th><th>side  </th><th style=\"text-align: right;\">  takerOrMaker</th><th style=\"text-align: right;\">  price</th><th style=\"text-align: right;\">  amount</th><th style=\"text-align: right;\">   cost</th><th style=\"text-align: right;\">  fee</th></tr>\n",
       "</thead>\n",
       "<tbody>\n",
       "<tr><td><i style='opacity: 0.6'>0</i></td><td>&quot;{&#x27;M&#x27;: True, &#x27;T&#x27;: &#x27;1617235200084&#x27;, &#x27;a&#x27;: &#x27;6597508...</td><td style=\"text-align: right;\">1617235200084</td><td>2021-04-01T00:00:00.084Z</td><td>BTC/USDT</td><td style=\"text-align: right;\">659750817</td><td style=\"text-align: right;\">      0</td><td style=\"text-align: right;\">     0</td><td>buy   </td><td style=\"text-align: right;\">             0</td><td style=\"text-align: right;\">58739.5</td><td style=\"text-align: right;\">0.006   </td><td style=\"text-align: right;\">352.437</td><td style=\"text-align: right;\">    0</td></tr>\n",
       "<tr><td><i style='opacity: 0.6'>1</i></td><td>&quot;{&#x27;M&#x27;: True, &#x27;T&#x27;: &#x27;1617235200144&#x27;, &#x27;a&#x27;: &#x27;6597508...</td><td style=\"text-align: right;\">1617235200144</td><td>2021-04-01T00:00:00.144Z</td><td>BTC/USDT</td><td style=\"text-align: right;\">659750818</td><td style=\"text-align: right;\">      0</td><td style=\"text-align: right;\">     0</td><td>buy   </td><td style=\"text-align: right;\">             0</td><td style=\"text-align: right;\">58740.6</td><td style=\"text-align: right;\">0.002321</td><td style=\"text-align: right;\">136.337</td><td style=\"text-align: right;\">    0</td></tr>\n",
       "</tbody>\n",
       "</table>"
      ],
      "text/plain": [
       "  #  info                                                     timestamp  datetime                  symbol           id    order    type  side      takerOrMaker    price    amount     cost    fee\n",
       "  0  \"{'M': True, 'T': '1617235200084', 'a': '6597508...  1617235200084  2021-04-01T00:00:00.084Z  BTC/USDT  659750817        0       0  buy                  0  58739.5  0.006     352.437      0\n",
       "  1  \"{'M': True, 'T': '1617235200144', 'a': '6597508...  1617235200144  2021-04-01T00:00:00.144Z  BTC/USDT  659750818        0       0  buy                  0  58740.6  0.002321  136.337      0"
      ]
     },
     "execution_count": 10,
     "metadata": {},
     "output_type": "execute_result"
    }
   ],
   "source": [
    "%%time\n",
    "df.head(2)"
   ]
  },
  {
   "cell_type": "code",
   "execution_count": 4,
   "id": "78bdf0a6",
   "metadata": {},
   "outputs": [
    {
     "name": "stdout",
     "output_type": "stream",
     "text": [
      "groupby/binby [########################################] 100.00% elapsed time  :    82.99s =  1.4m =  0.0h    \n",
      " CPU times: user 7min 41s, sys: 39.2 s, total: 8min 20s\n",
      "Wall time: 1min 24s\n"
     ]
    },
    {
     "data": {
      "text/html": [
       "<table>\n",
       "<thead>\n",
       "<tr><th>#                                  </th><th>side  </th><th>symbol  </th><th>timestamp    </th><th>fee_sum  </th><th>price_mean        </th></tr>\n",
       "</thead>\n",
       "<tbody>\n",
       "<tr><td><i style='opacity: 0.6'>0</i>      </td><td>sell  </td><td>BTC/USDT</td><td>1617235202409</td><td>0.0      </td><td>58741.89999999993 </td></tr>\n",
       "<tr><td><i style='opacity: 0.6'>1</i>      </td><td>sell  </td><td>BTC/USDT</td><td>1617235209336</td><td>0.0      </td><td>58755.970000000016</td></tr>\n",
       "<tr><td><i style='opacity: 0.6'>2</i>      </td><td>sell  </td><td>BTC/USDT</td><td>1617235210124</td><td>0.0      </td><td>58755.970000000016</td></tr>\n",
       "<tr><td><i style='opacity: 0.6'>3</i>      </td><td>sell  </td><td>BTC/USDT</td><td>1617235210157</td><td>0.0      </td><td>58755.970000000016</td></tr>\n",
       "<tr><td><i style='opacity: 0.6'>4</i>      </td><td>sell  </td><td>BTC/USDT</td><td>1617235211251</td><td>0.0      </td><td>58755.98000000035 </td></tr>\n",
       "<tr><td>...                                </td><td>...   </td><td>...     </td><td>...          </td><td>...      </td><td>...               </td></tr>\n",
       "<tr><td><i style='opacity: 0.6'>505,083</i></td><td>buy   </td><td>BTC/USDT</td><td>1617274762525</td><td>0.0      </td><td>58603.90000000018 </td></tr>\n",
       "<tr><td><i style='opacity: 0.6'>505,084</i></td><td>buy   </td><td>BTC/USDT</td><td>1617274762692</td><td>0.0      </td><td>58605.25999999983 </td></tr>\n",
       "<tr><td><i style='opacity: 0.6'>505,085</i></td><td>buy   </td><td>BTC/USDT</td><td>1617274786884</td><td>0.0      </td><td>58613.11999999993 </td></tr>\n",
       "<tr><td><i style='opacity: 0.6'>505,086</i></td><td>buy   </td><td>BTC/USDT</td><td>1617274790385</td><td>0.0      </td><td>58617.05000000003 </td></tr>\n",
       "<tr><td><i style='opacity: 0.6'>505,087</i></td><td>buy   </td><td>BTC/USDT</td><td>1617274795731</td><td>0.0      </td><td>58617.05999999995 </td></tr>\n",
       "</tbody>\n",
       "</table>"
      ],
      "text/plain": [
       "#        side    symbol    timestamp      fee_sum    price_mean\n",
       "0        sell    BTC/USDT  1617235202409  0.0        58741.89999999993\n",
       "1        sell    BTC/USDT  1617235209336  0.0        58755.970000000016\n",
       "2        sell    BTC/USDT  1617235210124  0.0        58755.970000000016\n",
       "3        sell    BTC/USDT  1617235210157  0.0        58755.970000000016\n",
       "4        sell    BTC/USDT  1617235211251  0.0        58755.98000000035\n",
       "...      ...     ...       ...            ...        ...\n",
       "505,083  buy     BTC/USDT  1617274762525  0.0        58603.90000000018\n",
       "505,084  buy     BTC/USDT  1617274762692  0.0        58605.25999999983\n",
       "505,085  buy     BTC/USDT  1617274786884  0.0        58613.11999999993\n",
       "505,086  buy     BTC/USDT  1617274790385  0.0        58617.05000000003\n",
       "505,087  buy     BTC/USDT  1617274795731  0.0        58617.05999999995"
      ]
     },
     "execution_count": 4,
     "metadata": {},
     "output_type": "execute_result"
    }
   ],
   "source": [
    "%%time\n",
    "df.groupby(df[['side','symbol','timestamp']], \n",
    "           agg=[vaex.agg.sum('fee'), vaex.agg.mean('price')],\n",
    "           progress = True)"
   ]
  },
  {
   "cell_type": "code",
   "execution_count": 6,
   "id": "631a25b9",
   "metadata": {},
   "outputs": [
    {
     "name": "stdout",
     "output_type": "stream",
     "text": [
      "groupby/binby [########################################] 100.00% elapsed time  :    20.61s =  0.3m =  0.0h\n",
      " CPU times: user 2min 6s, sys: 14.3 s, total: 2min 20s\n",
      "Wall time: 20.6 s\n"
     ]
    },
    {
     "data": {
      "text/html": [
       "<table>\n",
       "<thead>\n",
       "<tr><th>#                                  </th><th>timestamp    </th><th>price_mean        </th></tr>\n",
       "</thead>\n",
       "<tbody>\n",
       "<tr><td><i style='opacity: 0.6'>0</i>      </td><td>1617235202409</td><td>58741.89999999993 </td></tr>\n",
       "<tr><td><i style='opacity: 0.6'>1</i>      </td><td>1617235205646</td><td>58752.44000000011 </td></tr>\n",
       "<tr><td><i style='opacity: 0.6'>2</i>      </td><td>1617235209336</td><td>58755.970000000016</td></tr>\n",
       "<tr><td><i style='opacity: 0.6'>3</i>      </td><td>1617235210124</td><td>58755.970000000016</td></tr>\n",
       "<tr><td><i style='opacity: 0.6'>4</i>      </td><td>1617235210157</td><td>58755.970000000016</td></tr>\n",
       "<tr><td>...                                </td><td>...          </td><td>...               </td></tr>\n",
       "<tr><td><i style='opacity: 0.6'>503,317</i></td><td>1617274767362</td><td>58611.99000000017 </td></tr>\n",
       "<tr><td><i style='opacity: 0.6'>503,318</i></td><td>1617274786884</td><td>58613.11999999993 </td></tr>\n",
       "<tr><td><i style='opacity: 0.6'>503,319</i></td><td>1617274790385</td><td>58617.05000000003 </td></tr>\n",
       "<tr><td><i style='opacity: 0.6'>503,320</i></td><td>1617274793670</td><td>58617.61999999993 </td></tr>\n",
       "<tr><td><i style='opacity: 0.6'>503,321</i></td><td>1617274795731</td><td>58617.05999999995 </td></tr>\n",
       "</tbody>\n",
       "</table>"
      ],
      "text/plain": [
       "#        timestamp      price_mean\n",
       "0        1617235202409  58741.89999999993\n",
       "1        1617235205646  58752.44000000011\n",
       "2        1617235209336  58755.970000000016\n",
       "3        1617235210124  58755.970000000016\n",
       "4        1617235210157  58755.970000000016\n",
       "...      ...            ...\n",
       "503,317  1617274767362  58611.99000000017\n",
       "503,318  1617274786884  58613.11999999993\n",
       "503,319  1617274790385  58617.05000000003\n",
       "503,320  1617274793670  58617.61999999993\n",
       "503,321  1617274795731  58617.05999999995"
      ]
     },
     "execution_count": 6,
     "metadata": {},
     "output_type": "execute_result"
    }
   ],
   "source": [
    "%%time \n",
    "avg_vols_by_time = df.groupby(df['timestamp'], agg = [vaex.agg.mean('price')], progress = True)\n",
    "avg_vols_by_time"
   ]
  },
  {
   "cell_type": "code",
   "execution_count": 11,
   "id": "35061729",
   "metadata": {},
   "outputs": [
    {
     "name": "stdout",
     "output_type": "stream",
     "text": [
      "CPU times: user 1min 9s, sys: 6.53 s, total: 1min 16s\n",
      "Wall time: 12.3 s\n"
     ]
    },
    {
     "data": {
      "text/html": [
       "<table>\n",
       "<thead>\n",
       "<tr><th>#                                      </th><th>info                                               </th><th>timestampl   </th><th>datetime                </th><th>symbol  </th><th>id       </th><th>order  </th><th>type  </th><th>side  </th><th>takerOrMaker  </th><th>price   </th><th>amount  </th><th>cost          </th><th>fee  </th><th>timestampr   </th><th>price_mean        </th></tr>\n",
       "</thead>\n",
       "<tbody>\n",
       "<tr><td><i style='opacity: 0.6'>0</i>          </td><td>&quot;{&#x27;M&#x27;: True, &#x27;T&#x27;: &#x27;1617235200084&#x27;, &#x27;a&#x27;: &#x27;6597508...</td><td>1617235200084</td><td>2021-04-01T00:00:00.084Z</td><td>BTC/USDT</td><td>659750817</td><td>0.0    </td><td>0.0   </td><td>buy   </td><td>0.0           </td><td>58739.46</td><td>0.006   </td><td>352.43676     </td><td>0.0  </td><td>1617235200084</td><td>58739.46000000051 </td></tr>\n",
       "<tr><td><i style='opacity: 0.6'>1</i>          </td><td>&quot;{&#x27;M&#x27;: True, &#x27;T&#x27;: &#x27;1617235200144&#x27;, &#x27;a&#x27;: &#x27;6597508...</td><td>1617235200144</td><td>2021-04-01T00:00:00.144Z</td><td>BTC/USDT</td><td>659750818</td><td>0.0    </td><td>0.0   </td><td>buy   </td><td>0.0           </td><td>58740.55</td><td>0.002321</td><td>136.33681655  </td><td>0.0  </td><td>1617235200144</td><td>58740.55000000038 </td></tr>\n",
       "<tr><td><i style='opacity: 0.6'>2</i>          </td><td>&quot;{&#x27;M&#x27;: True, &#x27;T&#x27;: &#x27;1617235200345&#x27;, &#x27;a&#x27;: &#x27;6597508...</td><td>1617235200345</td><td>2021-04-01T00:00:00.345Z</td><td>BTC/USDT</td><td>659750819</td><td>0.0    </td><td>0.0   </td><td>buy   </td><td>0.0           </td><td>58740.55</td><td>0.002537</td><td>149.02477535  </td><td>0.0  </td><td>1617235200345</td><td>58740.55000000038 </td></tr>\n",
       "<tr><td><i style='opacity: 0.6'>3</i>          </td><td>&quot;{&#x27;M&#x27;: True, &#x27;T&#x27;: &#x27;1617235200355&#x27;, &#x27;a&#x27;: &#x27;6597508...</td><td>1617235200355</td><td>2021-04-01T00:00:00.355Z</td><td>BTC/USDT</td><td>659750820</td><td>0.0    </td><td>0.0   </td><td>sell  </td><td>0.0           </td><td>58740.54</td><td>0.001674</td><td>98.33166396   </td><td>0.0  </td><td>1617235200355</td><td>58740.53999999949 </td></tr>\n",
       "<tr><td><i style='opacity: 0.6'>4</i>          </td><td>&quot;{&#x27;M&#x27;: True, &#x27;T&#x27;: &#x27;1617235200405&#x27;, &#x27;a&#x27;: &#x27;6597508...</td><td>1617235200405</td><td>2021-04-01T00:00:00.405Z</td><td>BTC/USDT</td><td>659750821</td><td>0.0    </td><td>0.0   </td><td>buy   </td><td>0.0           </td><td>58740.55</td><td>0.01674 </td><td>983.316807    </td><td>0.0  </td><td>1617235200405</td><td>58740.55000000038 </td></tr>\n",
       "<tr><td>...                                    </td><td>...                                                </td><td>...          </td><td>...                     </td><td>...     </td><td>...      </td><td>...    </td><td>...   </td><td>...   </td><td>...           </td><td>...     </td><td>...     </td><td>...           </td><td>...  </td><td>...          </td><td>...               </td></tr>\n",
       "<tr><td><i style='opacity: 0.6'>403,649,995</i></td><td>&quot;{&#x27;M&#x27;: True, &#x27;T&#x27;: &#x27;1617235202708&#x27;, &#x27;a&#x27;: &#x27;6597508...</td><td>1617273800943</td><td>2021-04-01T10:43:20.943Z</td><td>BTC/USDT</td><td>660317062</td><td>0.0    </td><td>0.0   </td><td>buy   </td><td>0.0           </td><td>58802.48</td><td>0.006587</td><td>387.33193576  </td><td>0.0  </td><td>1617273800943</td><td>58802.48000000035 </td></tr>\n",
       "<tr><td><i style='opacity: 0.6'>403,649,996</i></td><td>&quot;{&#x27;M&#x27;: True, &#x27;T&#x27;: &#x27;1617235202720&#x27;, &#x27;a&#x27;: &#x27;6597508...</td><td>1617273801048</td><td>2021-04-01T10:43:21.048Z</td><td>BTC/USDT</td><td>660317063</td><td>0.0    </td><td>0.0   </td><td>buy   </td><td>0.0           </td><td>58802.48</td><td>0.757028</td><td>44515.12382944</td><td>0.0  </td><td>1617273801048</td><td>58802.48000000035 </td></tr>\n",
       "<tr><td><i style='opacity: 0.6'>403,649,997</i></td><td>&quot;{&#x27;M&#x27;: True, &#x27;T&#x27;: &#x27;1617235202753&#x27;, &#x27;a&#x27;: &#x27;6597508...</td><td>1617273801103</td><td>2021-04-01T10:43:21.103Z</td><td>BTC/USDT</td><td>660317064</td><td>0.0    </td><td>0.0   </td><td>buy   </td><td>0.0           </td><td>58802.48</td><td>0.0048  </td><td>282.251904    </td><td>0.0  </td><td>1617273801103</td><td>58802.48000000035 </td></tr>\n",
       "<tr><td><i style='opacity: 0.6'>403,649,998</i></td><td>&quot;{&#x27;M&#x27;: True, &#x27;T&#x27;: &#x27;1617235202760&#x27;, &#x27;a&#x27;: &#x27;6597508...</td><td>1617273801149</td><td>2021-04-01T10:43:21.149Z</td><td>BTC/USDT</td><td>660317065</td><td>0.0    </td><td>0.0   </td><td>sell  </td><td>0.0           </td><td>58803.03</td><td>0.000616</td><td>36.22266648   </td><td>0.0  </td><td>1617273801149</td><td>58803.029999999984</td></tr>\n",
       "<tr><td><i style='opacity: 0.6'>403,649,999</i></td><td>&quot;{&#x27;M&#x27;: True, &#x27;T&#x27;: &#x27;1617235202769&#x27;, &#x27;a&#x27;: &#x27;6597508...</td><td>1617273801437</td><td>2021-04-01T10:43:21.437Z</td><td>BTC/USDT</td><td>660317066</td><td>0.0    </td><td>0.0   </td><td>sell  </td><td>0.0           </td><td>58803.04</td><td>0.008   </td><td>470.42432     </td><td>0.0  </td><td>1617273801437</td><td>58803.03999999949 </td></tr>\n",
       "</tbody>\n",
       "</table>"
      ],
      "text/plain": [
       "#            info                                                 timestampl     datetime                  symbol    id         order    type    side    takerOrMaker    price     amount    cost            fee    timestampr     price_mean\n",
       "0            \"{'M': True, 'T': '1617235200084', 'a': '6597508...  1617235200084  2021-04-01T00:00:00.084Z  BTC/USDT  659750817  0.0      0.0     buy     0.0             58739.46  0.006     352.43676       0.0    1617235200084  58739.46000000051\n",
       "1            \"{'M': True, 'T': '1617235200144', 'a': '6597508...  1617235200144  2021-04-01T00:00:00.144Z  BTC/USDT  659750818  0.0      0.0     buy     0.0             58740.55  0.002321  136.33681655    0.0    1617235200144  58740.55000000038\n",
       "2            \"{'M': True, 'T': '1617235200345', 'a': '6597508...  1617235200345  2021-04-01T00:00:00.345Z  BTC/USDT  659750819  0.0      0.0     buy     0.0             58740.55  0.002537  149.02477535    0.0    1617235200345  58740.55000000038\n",
       "3            \"{'M': True, 'T': '1617235200355', 'a': '6597508...  1617235200355  2021-04-01T00:00:00.355Z  BTC/USDT  659750820  0.0      0.0     sell    0.0             58740.54  0.001674  98.33166396     0.0    1617235200355  58740.53999999949\n",
       "4            \"{'M': True, 'T': '1617235200405', 'a': '6597508...  1617235200405  2021-04-01T00:00:00.405Z  BTC/USDT  659750821  0.0      0.0     buy     0.0             58740.55  0.01674   983.316807      0.0    1617235200405  58740.55000000038\n",
       "...          ...                                                  ...            ...                       ...       ...        ...      ...     ...     ...             ...       ...       ...             ...    ...            ...\n",
       "403,649,995  \"{'M': True, 'T': '1617235202708', 'a': '6597508...  1617273800943  2021-04-01T10:43:20.943Z  BTC/USDT  660317062  0.0      0.0     buy     0.0             58802.48  0.006587  387.33193576    0.0    1617273800943  58802.48000000035\n",
       "403,649,996  \"{'M': True, 'T': '1617235202720', 'a': '6597508...  1617273801048  2021-04-01T10:43:21.048Z  BTC/USDT  660317063  0.0      0.0     buy     0.0             58802.48  0.757028  44515.12382944  0.0    1617273801048  58802.48000000035\n",
       "403,649,997  \"{'M': True, 'T': '1617235202753', 'a': '6597508...  1617273801103  2021-04-01T10:43:21.103Z  BTC/USDT  660317064  0.0      0.0     buy     0.0             58802.48  0.0048    282.251904      0.0    1617273801103  58802.48000000035\n",
       "403,649,998  \"{'M': True, 'T': '1617235202760', 'a': '6597508...  1617273801149  2021-04-01T10:43:21.149Z  BTC/USDT  660317065  0.0      0.0     sell    0.0             58803.03  0.000616  36.22266648     0.0    1617273801149  58803.029999999984\n",
       "403,649,999  \"{'M': True, 'T': '1617235202769', 'a': '6597508...  1617273801437  2021-04-01T10:43:21.437Z  BTC/USDT  660317066  0.0      0.0     sell    0.0             58803.04  0.008     470.42432       0.0    1617273801437  58803.03999999949"
      ]
     },
     "execution_count": 11,
     "metadata": {},
     "output_type": "execute_result"
    }
   ],
   "source": [
    "%%time\n",
    "df.join(avg_vols_by_time, left_on = 'timestamp', right_on = 'timestamp', lsuffix = 'l', rsuffix = 'r')"
   ]
  },
  {
   "cell_type": "code",
   "execution_count": null,
   "id": "80c73717",
   "metadata": {},
   "outputs": [],
   "source": []
  }
 ],
 "metadata": {
  "kernelspec": {
   "display_name": "Python [conda env:root] *",
   "language": "python",
   "name": "conda-root-py"
  },
  "language_info": {
   "codemirror_mode": {
    "name": "ipython",
    "version": 3
   },
   "file_extension": ".py",
   "mimetype": "text/x-python",
   "name": "python",
   "nbconvert_exporter": "python",
   "pygments_lexer": "ipython3",
   "version": "3.8.8"
  }
 },
 "nbformat": 4,
 "nbformat_minor": 5
}
