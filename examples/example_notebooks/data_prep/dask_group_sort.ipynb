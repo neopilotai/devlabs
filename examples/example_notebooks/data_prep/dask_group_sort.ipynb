{
 "cells": [
  {
   "cell_type": "markdown",
   "id": "5148bd4b",
   "metadata": {},
   "source": [
    "## An example of using DASK to speed up pandas operations on Hyperplane\n",
    "- The task is to groupby and sorting 3G of data on s3 bucket "
   ]
  },
  {
   "cell_type": "code",
   "execution_count": 1,
   "id": "b83cc573",
   "metadata": {},
   "outputs": [],
   "source": [
    "import warnings\n",
    "import os\n",
    "import sys\n",
    "import pandas as pd\n",
    "import numpy as np\n",
    "from tqdm.notebook import tqdm\n",
    "import dask\n",
    "import dask.dataframe as dd\n",
    "from dask.distributed import Client\n",
    "from typing import List, Set, Dict, Tuple, Optional\n",
    "import types\n",
    "\n",
    "warnings.filterwarnings('ignore')\n",
    "\n",
    "from hyperplane import notebook_common as nc"
   ]
  },
  {
   "cell_type": "code",
   "execution_count": 2,
   "id": "fb1a12c5",
   "metadata": {
    "tags": [
     "parameter"
    ]
   },
   "outputs": [],
   "source": [
    "data_url = \"s3://dask-data/airline-data\""
   ]
  },
  {
   "cell_type": "markdown",
   "id": "679cbe47",
   "metadata": {},
   "source": [
    "## Use pandas"
   ]
  },
  {
   "cell_type": "code",
   "execution_count": 3,
   "id": "5d528a91",
   "metadata": {},
   "outputs": [
    {
     "data": {
      "application/vnd.jupyter.widget-view+json": {
       "model_id": "4dd3120e984f4cb8b95caf0be9cf2a24",
       "version_major": 2,
       "version_minor": 0
      },
      "text/plain": [
       "  0%|          | 0/3 [00:00<?, ?it/s]"
      ]
     },
     "metadata": {},
     "output_type": "display_data"
    },
    {
     "name": "stdout",
     "output_type": "stream",
     "text": [
      "size of data 0.647086832 G\n",
      "CPU times: user 20.1 s, sys: 7.5 s, total: 27.6 s\n",
      "Wall time: 1min 7s\n"
     ]
    },
    {
     "data": {
      "text/plain": [
       "(2424, 6)"
      ]
     },
     "execution_count": 3,
     "metadata": {},
     "output_type": "execute_result"
    }
   ],
   "source": [
    "%%time\n",
    "import pandas as pd\n",
    "\n",
    "files = [f\"{data_url}/{year}.csv\" for year in range (1987, 1990)]\n",
    "df_list = []\n",
    "for f in tqdm(files):\n",
    "    df = pd.read_csv(f, storage_options = {'anon': True},\n",
    "                usecols = ['DepTime','FlightNum','DepDelay','Origin', 'Dest','Distance'],\n",
    "                dtype={'Distance': 'float64',\n",
    "                      'DepTime':'float64',\n",
    "                      'FlightNum':'int64',\n",
    "                      'DepDelay':'float64',\n",
    "                      'Dest':'object',\n",
    "                      'Origin':'object'}, \n",
    "                encoding = \"ISO-8859-1\")\n",
    "    df_list.append(df)\n",
    "df = pd.concat(df_list)\n",
    "print(f'size of data {df.memory_usage().sum()/1e9 } G')\n",
    "\n",
    "df_sort = df.groupby('Origin').apply(lambda x : x.nlargest(n = 10, columns = 'Distance'))\n",
    "df_sort.shape"
   ]
  },
  {
   "cell_type": "markdown",
   "id": "9dd7aa4f",
   "metadata": {},
   "source": [
    "## Use Dask"
   ]
  },
  {
   "cell_type": "code",
   "execution_count": 4,
   "id": "757bab34",
   "metadata": {},
   "outputs": [
    {
     "name": "stdout",
     "output_type": "stream",
     "text": [
      "👉 Hyperplane: selecting worker node pool\n",
      "👉 Hyperplane: selecting scheduler node pool\n",
      "Creating scheduler pod on cluster. This may take some time.\n",
      "👉 Hyperplane: spinning up a dask cluster with a scheduler as a standalone container.\n",
      "👉 Hyperplane: In a few minutes you'll be able to access the dashboard at https://ds.hyperplane.dev/dask-cluster-961fa205-1399-4261-a7cc-d45ee6253032/status\n",
      "👉 Hyperplane: to get logs from all workers, do `cluster.get_logs()`\n"
     ]
    }
   ],
   "source": [
    "num_workers = 2\n",
    "client, cluster = nc.initialize_cluster(\n",
    "        nprocs=5,\n",
    "        nthreads=3,\n",
    "        ram_gb_per_proc=2.4,\n",
    "        cores_per_worker=15,\n",
    "        num_workers = num_workers\n",
    "    )\n"
   ]
  },
  {
   "cell_type": "code",
   "execution_count": 5,
   "id": "08e93d39",
   "metadata": {},
   "outputs": [
    {
     "name": "stdout",
     "output_type": "stream",
     "text": [
      "CPU times: user 118 ms, sys: 34.8 ms, total: 153 ms\n",
      "Wall time: 865 ms\n"
     ]
    }
   ],
   "source": [
    "%%time\n",
    "df = dd.read_csv(files, \n",
    "                 storage_options = {'anon': True},\n",
    "                usecols = ['DepTime','FlightNum','DepDelay','Origin', 'Dest','Distance'],\n",
    "                dtype={'Distance': 'float64',\n",
    "                      'DepTime':'float64',\n",
    "                      'FlightNum':'int64',\n",
    "                      'DepDelay':'float64',\n",
    "                      'Dest':'object',\n",
    "                      'Origin':'object'}, \n",
    "                encoding = \"ISO-8859-1\")\n",
    "\n",
    "# print(f\"number of rows, {df.map_partitions(len).compute().sum()}\")\n",
    "# print(f\"total size {df.memory_usage_per_partition().compute().sum()/1e9} G\")\n",
    "# df.head(2)\n"
   ]
  },
  {
   "cell_type": "code",
   "execution_count": 6,
   "id": "9c5cc80e",
   "metadata": {},
   "outputs": [
    {
     "name": "stdout",
     "output_type": "stream",
     "text": [
      "CPU times: user 21.2 ms, sys: 3.04 ms, total: 24.2 ms\n",
      "Wall time: 22.7 ms\n"
     ]
    },
    {
     "data": {
      "text/html": [
       "<div><strong>Dask DataFrame Structure:</strong></div>\n",
       "<div>\n",
       "<style scoped>\n",
       "    .dataframe tbody tr th:only-of-type {\n",
       "        vertical-align: middle;\n",
       "    }\n",
       "\n",
       "    .dataframe tbody tr th {\n",
       "        vertical-align: top;\n",
       "    }\n",
       "\n",
       "    .dataframe thead th {\n",
       "        text-align: right;\n",
       "    }\n",
       "</style>\n",
       "<table border=\"1\" class=\"dataframe\">\n",
       "  <thead>\n",
       "    <tr style=\"text-align: right;\">\n",
       "      <th></th>\n",
       "      <th>DepTime</th>\n",
       "      <th>FlightNum</th>\n",
       "      <th>DepDelay</th>\n",
       "      <th>Origin</th>\n",
       "      <th>Dest</th>\n",
       "      <th>Distance</th>\n",
       "    </tr>\n",
       "    <tr>\n",
       "      <th>npartitions=18</th>\n",
       "      <th></th>\n",
       "      <th></th>\n",
       "      <th></th>\n",
       "      <th></th>\n",
       "      <th></th>\n",
       "      <th></th>\n",
       "    </tr>\n",
       "  </thead>\n",
       "  <tbody>\n",
       "    <tr>\n",
       "      <th></th>\n",
       "      <td>float64</td>\n",
       "      <td>int64</td>\n",
       "      <td>float64</td>\n",
       "      <td>object</td>\n",
       "      <td>object</td>\n",
       "      <td>float64</td>\n",
       "    </tr>\n",
       "    <tr>\n",
       "      <th></th>\n",
       "      <td>...</td>\n",
       "      <td>...</td>\n",
       "      <td>...</td>\n",
       "      <td>...</td>\n",
       "      <td>...</td>\n",
       "      <td>...</td>\n",
       "    </tr>\n",
       "    <tr>\n",
       "      <th>...</th>\n",
       "      <td>...</td>\n",
       "      <td>...</td>\n",
       "      <td>...</td>\n",
       "      <td>...</td>\n",
       "      <td>...</td>\n",
       "      <td>...</td>\n",
       "    </tr>\n",
       "    <tr>\n",
       "      <th></th>\n",
       "      <td>...</td>\n",
       "      <td>...</td>\n",
       "      <td>...</td>\n",
       "      <td>...</td>\n",
       "      <td>...</td>\n",
       "      <td>...</td>\n",
       "    </tr>\n",
       "    <tr>\n",
       "      <th></th>\n",
       "      <td>...</td>\n",
       "      <td>...</td>\n",
       "      <td>...</td>\n",
       "      <td>...</td>\n",
       "      <td>...</td>\n",
       "      <td>...</td>\n",
       "    </tr>\n",
       "  </tbody>\n",
       "</table>\n",
       "</div>\n",
       "<div>Dask Name: lambda, 468 tasks</div>"
      ],
      "text/plain": [
       "Dask DataFrame Structure:\n",
       "                DepTime FlightNum DepDelay  Origin    Dest Distance\n",
       "npartitions=18                                                     \n",
       "                float64     int64  float64  object  object  float64\n",
       "                    ...       ...      ...     ...     ...      ...\n",
       "...                 ...       ...      ...     ...     ...      ...\n",
       "                    ...       ...      ...     ...     ...      ...\n",
       "                    ...       ...      ...     ...     ...      ...\n",
       "Dask Name: lambda, 468 tasks"
      ]
     },
     "execution_count": 6,
     "metadata": {},
     "output_type": "execute_result"
    }
   ],
   "source": [
    "%%time\n",
    "# lazy groupby and sorting to get the 10 largest trade per ticker\n",
    "df_sort = df.groupby('Origin').apply(lambda x : x.nlargest(n = 10, columns = 'Distance'))\n",
    "df_sort"
   ]
  },
  {
   "cell_type": "code",
   "execution_count": 7,
   "id": "db91b0bb",
   "metadata": {},
   "outputs": [
    {
     "name": "stdout",
     "output_type": "stream",
     "text": [
      "CPU times: user 242 ms, sys: 17.3 ms, total: 260 ms\n",
      "Wall time: 6.6 s\n"
     ]
    },
    {
     "data": {
      "text/html": [
       "<div>\n",
       "<style scoped>\n",
       "    .dataframe tbody tr th:only-of-type {\n",
       "        vertical-align: middle;\n",
       "    }\n",
       "\n",
       "    .dataframe tbody tr th {\n",
       "        vertical-align: top;\n",
       "    }\n",
       "\n",
       "    .dataframe thead th {\n",
       "        text-align: right;\n",
       "    }\n",
       "</style>\n",
       "<table border=\"1\" class=\"dataframe\">\n",
       "  <thead>\n",
       "    <tr style=\"text-align: right;\">\n",
       "      <th></th>\n",
       "      <th></th>\n",
       "      <th>DepTime</th>\n",
       "      <th>FlightNum</th>\n",
       "      <th>DepDelay</th>\n",
       "      <th>Origin</th>\n",
       "      <th>Dest</th>\n",
       "      <th>Distance</th>\n",
       "    </tr>\n",
       "    <tr>\n",
       "      <th>Origin</th>\n",
       "      <th></th>\n",
       "      <th></th>\n",
       "      <th></th>\n",
       "      <th></th>\n",
       "      <th></th>\n",
       "      <th></th>\n",
       "      <th></th>\n",
       "    </tr>\n",
       "  </thead>\n",
       "  <tbody>\n",
       "    <tr>\n",
       "      <th rowspan=\"5\" valign=\"top\">ALB</th>\n",
       "      <th>113602</th>\n",
       "      <td>1730.0</td>\n",
       "      <td>689</td>\n",
       "      <td>0.0</td>\n",
       "      <td>ALB</td>\n",
       "      <td>ATL</td>\n",
       "      <td>852.0</td>\n",
       "    </tr>\n",
       "    <tr>\n",
       "      <th>113603</th>\n",
       "      <td>1730.0</td>\n",
       "      <td>689</td>\n",
       "      <td>0.0</td>\n",
       "      <td>ALB</td>\n",
       "      <td>ATL</td>\n",
       "      <td>852.0</td>\n",
       "    </tr>\n",
       "    <tr>\n",
       "      <th>113604</th>\n",
       "      <td>1730.0</td>\n",
       "      <td>689</td>\n",
       "      <td>0.0</td>\n",
       "      <td>ALB</td>\n",
       "      <td>ATL</td>\n",
       "      <td>852.0</td>\n",
       "    </tr>\n",
       "    <tr>\n",
       "      <th>113605</th>\n",
       "      <td>1743.0</td>\n",
       "      <td>689</td>\n",
       "      <td>13.0</td>\n",
       "      <td>ALB</td>\n",
       "      <td>ATL</td>\n",
       "      <td>852.0</td>\n",
       "    </tr>\n",
       "    <tr>\n",
       "      <th>113606</th>\n",
       "      <td>1730.0</td>\n",
       "      <td>689</td>\n",
       "      <td>0.0</td>\n",
       "      <td>ALB</td>\n",
       "      <td>ATL</td>\n",
       "      <td>852.0</td>\n",
       "    </tr>\n",
       "    <tr>\n",
       "      <th>...</th>\n",
       "      <th>...</th>\n",
       "      <td>...</td>\n",
       "      <td>...</td>\n",
       "      <td>...</td>\n",
       "      <td>...</td>\n",
       "      <td>...</td>\n",
       "      <td>...</td>\n",
       "    </tr>\n",
       "    <tr>\n",
       "      <th rowspan=\"5\" valign=\"top\">YAP</th>\n",
       "      <th>235540</th>\n",
       "      <td>1225.0</td>\n",
       "      <td>953</td>\n",
       "      <td>10.0</td>\n",
       "      <td>YAP</td>\n",
       "      <td>GUM</td>\n",
       "      <td>531.0</td>\n",
       "    </tr>\n",
       "    <tr>\n",
       "      <th>235541</th>\n",
       "      <td>950.0</td>\n",
       "      <td>953</td>\n",
       "      <td>-5.0</td>\n",
       "      <td>YAP</td>\n",
       "      <td>GUM</td>\n",
       "      <td>531.0</td>\n",
       "    </tr>\n",
       "    <tr>\n",
       "      <th>235542</th>\n",
       "      <td>1229.0</td>\n",
       "      <td>953</td>\n",
       "      <td>14.0</td>\n",
       "      <td>YAP</td>\n",
       "      <td>GUM</td>\n",
       "      <td>531.0</td>\n",
       "    </tr>\n",
       "    <tr>\n",
       "      <th>235543</th>\n",
       "      <td>1000.0</td>\n",
       "      <td>953</td>\n",
       "      <td>5.0</td>\n",
       "      <td>YAP</td>\n",
       "      <td>GUM</td>\n",
       "      <td>531.0</td>\n",
       "    </tr>\n",
       "    <tr>\n",
       "      <th>9609</th>\n",
       "      <td>1214.0</td>\n",
       "      <td>953</td>\n",
       "      <td>-1.0</td>\n",
       "      <td>YAP</td>\n",
       "      <td>GUM</td>\n",
       "      <td>531.0</td>\n",
       "    </tr>\n",
       "  </tbody>\n",
       "</table>\n",
       "<p>2424 rows × 6 columns</p>\n",
       "</div>"
      ],
      "text/plain": [
       "               DepTime  FlightNum  DepDelay Origin Dest  Distance\n",
       "Origin                                                           \n",
       "ALB    113602   1730.0        689       0.0    ALB  ATL     852.0\n",
       "       113603   1730.0        689       0.0    ALB  ATL     852.0\n",
       "       113604   1730.0        689       0.0    ALB  ATL     852.0\n",
       "       113605   1743.0        689      13.0    ALB  ATL     852.0\n",
       "       113606   1730.0        689       0.0    ALB  ATL     852.0\n",
       "...                ...        ...       ...    ...  ...       ...\n",
       "YAP    235540   1225.0        953      10.0    YAP  GUM     531.0\n",
       "       235541    950.0        953      -5.0    YAP  GUM     531.0\n",
       "       235542   1229.0        953      14.0    YAP  GUM     531.0\n",
       "       235543   1000.0        953       5.0    YAP  GUM     531.0\n",
       "       9609     1214.0        953      -1.0    YAP  GUM     531.0\n",
       "\n",
       "[2424 rows x 6 columns]"
      ]
     },
     "execution_count": 7,
     "metadata": {},
     "output_type": "execute_result"
    }
   ],
   "source": [
    "%%time\n",
    "# actual compute of the groupby sorting result\n",
    "df_sort_local = df_sort.compute()\n",
    "df_sort_local"
   ]
  },
  {
   "cell_type": "markdown",
   "id": "42be4722",
   "metadata": {},
   "source": [
    "## close cluster after done to release resources\n",
    "Dask clusters are short-lived and tied to the computation. Hyperplane also automatically garbage collect the dask node after it's being idling for a few minutes."
   ]
  },
  {
   "cell_type": "code",
   "execution_count": 8,
   "id": "67067715",
   "metadata": {},
   "outputs": [],
   "source": [
    "cluster.close()"
   ]
  }
 ],
 "metadata": {
  "kernelspec": {
   "display_name": "Python [conda env:root] *",
   "language": "python",
   "name": "conda-root-py"
  },
  "language_info": {
   "codemirror_mode": {
    "name": "ipython",
    "version": 3
   },
   "file_extension": ".py",
   "mimetype": "text/x-python",
   "name": "python",
   "nbconvert_exporter": "python",
   "pygments_lexer": "ipython3",
   "version": "3.8.10"
  }
 },
 "nbformat": 4,
 "nbformat_minor": 5
}
