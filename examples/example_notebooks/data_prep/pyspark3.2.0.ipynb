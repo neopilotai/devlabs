{
 "cells": [
  {
   "cell_type": "code",
   "execution_count": 3,
   "id": "ded6849d",
   "metadata": {},
   "outputs": [],
   "source": [
    "# !pip install -U raydp"
   ]
  },
  {
   "cell_type": "code",
   "execution_count": 1,
   "id": "229445d5",
   "metadata": {},
   "outputs": [
    {
     "name": "stdout",
     "output_type": "stream",
     "text": [
      "pyspark==3.2.0\n",
      "ray==1.9.1\n",
      "raydp==0.4.1\n",
      "pandas==1.1.4\n"
     ]
    }
   ],
   "source": [
    "import pyspark; print(f'pyspark=={pyspark.__version__}')\n",
    "import ray; print(f'ray=={ray.__version__}')\n",
    "import raydp; print(f'raydp=={raydp.__version__}')\n",
    "import pandas; print(f'pandas=={pandas.__version__}')\n"
   ]
  },
  {
   "cell_type": "code",
   "execution_count": 2,
   "id": "780c37f7",
   "metadata": {},
   "outputs": [
    {
     "name": "stdout",
     "output_type": "stream",
     "text": [
      "openjdk 11.0.13 2021-10-19\n",
      "OpenJDK Runtime Environment (build 11.0.13+8-Ubuntu-0ubuntu1.20.04)\n",
      "OpenJDK 64-Bit Server VM (build 11.0.13+8-Ubuntu-0ubuntu1.20.04, mixed mode, sharing)\n"
     ]
    }
   ],
   "source": [
    "!java --version"
   ]
  },
  {
   "cell_type": "code",
   "execution_count": 3,
   "id": "f876228c",
   "metadata": {},
   "outputs": [
    {
     "name": "stdout",
     "output_type": "stream",
     "text": [
      "👉 Hyperplane: selecting worker node pool\n"
     ]
    },
    {
     "name": "stderr",
     "output_type": "stream",
     "text": [
      "2021-12-29 19:34:17,208\tINFO services.py:1338 -- View the Ray dashboard at \u001b[1m\u001b[32mhttp://10.2.39.2:8787\u001b[39m\u001b[22m\n",
      "2021-12-29 19:34:17,214\tWARNING services.py:1816 -- WARNING: The object store is using /tmp instead of /dev/shm because /dev/shm has only 67108864 bytes available. This will harm performance! You may be able to free up space by deleting files in /dev/shm. If you are inside a Docker container, you can increase /dev/shm size by passing '--shm-size=8.59gb' to 'docker run' (or add it to the run_options list in a Ray cluster config). Make sure to set this to more than 30% of available RAM.\n"
     ]
    },
    {
     "name": "stdout",
     "output_type": "stream",
     "text": [
      "ray dashboard available at https://shakdemo.hyperplane.dev/ray-stella2/#/\n",
      "Waiting for worker ray-worker-faea11e5-338d-4f3c-a49e-462cf6b9cdb5...\n"
     ]
    }
   ],
   "source": [
    "from hyperplane.ray_common import initialize_ray_cluster, stop_ray_cluster, find_ray_workers\n",
    "num_workers = 1\n",
    "cpu_core_per_worker = 15\n",
    "ram_gb_per_worker = 12 #110 GB allocatible for 16_128 nodes, 12 for 16_16 nodes, 27 for 32_32 nodes\n",
    "ray_cluster = initialize_ray_cluster(num_workers, cpu_core_per_worker, ram_gb_per_worker)"
   ]
  },
  {
   "cell_type": "code",
   "execution_count": 4,
   "id": "82630847",
   "metadata": {},
   "outputs": [
    {
     "name": "stderr",
     "output_type": "stream",
     "text": [
      "WARNING: An illegal reflective access operation has occurred\n",
      "WARNING: Illegal reflective access by org.apache.spark.unsafe.Platform (file:/opt/conda/lib/python3.8/site-packages/pyspark/jars/spark-unsafe_2.12-3.2.0.jar) to constructor java.nio.DirectByteBuffer(long,int)\n",
      "WARNING: Please consider reporting this to the maintainers of org.apache.spark.unsafe.Platform\n",
      "WARNING: Use --illegal-access=warn to enable warnings of further illegal reflective access operations\n",
      "WARNING: All illegal access operations will be denied in a future release\n",
      "Using Spark's default log4j profile: org/apache/spark/log4j-defaults.properties\n",
      "Setting default log level to \"WARN\".\n",
      "To adjust logging level use sc.setLogLevel(newLevel). For SparkR, use setLogLevel(newLevel).\n",
      "21/12/29 19:38:48 WARN NativeCodeLoader: Unable to load native-hadoop library for your platform... using builtin-java classes where applicable\n"
     ]
    }
   ],
   "source": [
    "from pyspark import SparkContext, SparkConf\n",
    "# conf = SparkConf().set('spark.ui.port', '8787')\n",
    "sc = SparkContext()\n",
    "log4j = sc._jvm.org.apache.log4j\n",
    "log4j.LogManager.getRootLogger().setLevel(log4j.Level.ERROR)\n"
   ]
  },
  {
   "cell_type": "code",
   "execution_count": 5,
   "id": "03af0bc8",
   "metadata": {},
   "outputs": [
    {
     "name": "stdout",
     "output_type": "stream",
     "text": [
      "WARNING: sun.reflect.Reflection.getCallerClass is not supported. This will impact performance.\n"
     ]
    },
    {
     "name": "stderr",
     "output_type": "stream",
     "text": [
      "WARNING: An illegal reflective access operation has occurred\n",
      "WARNING: Illegal reflective access by org.apache.spark.unsafe.Platform (file:/opt/conda/lib/python3.8/site-packages/pyspark/jars/spark-unsafe_2.12-3.2.0.jar) to constructor java.nio.DirectByteBuffer(long,int)\n",
      "WARNING: Please consider reporting this to the maintainers of org.apache.spark.unsafe.Platform\n",
      "WARNING: Use --illegal-access=warn to enable warnings of further illegal reflective access operations\n",
      "WARNING: All illegal access operations will be denied in a future release\n"
     ]
    },
    {
     "name": "stdout",
     "output_type": "stream",
     "text": [
      "2021-12-29 19:38:54,646 WARN NativeCodeLoader [Thread-1]: Unable to load native-hadoop library for your platform... using builtin-java classes where applicable\n",
      "2021-12-29 19:38:54,756 INFO SecurityManager [Thread-1]: Changing view acls to: root\n",
      "2021-12-29 19:38:54,757 INFO SecurityManager [Thread-1]: Changing modify acls to: root\n",
      "2021-12-29 19:38:54,758 INFO SecurityManager [Thread-1]: Changing view acls groups to: \n",
      "2021-12-29 19:38:54,759 INFO SecurityManager [Thread-1]: Changing modify acls groups to: \n",
      "2021-12-29 19:38:54,759 INFO SecurityManager [Thread-1]: SecurityManager: authentication disabled; ui acls disabled; users  with view permissions: Set(root); groups with view permissions: Set(); users  with modify permissions: Set(root); groups with modify permissions: Set()\n",
      "2021-12-29 19:38:55,146 INFO Utils [Thread-1]: Successfully started service 'RAY_RPC_ENV' on port 34967.\n"
     ]
    }
   ],
   "source": [
    "spark = raydp.init_spark('example', num_executors=2, executor_cores=4, executor_memory='4G')"
   ]
  },
  {
   "cell_type": "code",
   "execution_count": 9,
   "id": "77dfb2c9",
   "metadata": {},
   "outputs": [],
   "source": [
    "import pyspark.pandas as pd"
   ]
  },
  {
   "cell_type": "code",
   "execution_count": 10,
   "id": "2ddb4204",
   "metadata": {},
   "outputs": [
    {
     "name": "stderr",
     "output_type": "stream",
     "text": [
      "                                                                                \r"
     ]
    },
    {
     "data": {
      "text/plain": [
       "(29700, 25)"
      ]
     },
     "execution_count": 10,
     "metadata": {},
     "output_type": "execute_result"
    }
   ],
   "source": [
    "df = pd.read_csv(\"/root/data_nps_score_data_NPS.csv\")\n",
    "df.shape"
   ]
  },
  {
   "cell_type": "code",
   "execution_count": 11,
   "id": "0def55cc",
   "metadata": {},
   "outputs": [
    {
     "data": {
      "text/html": [
       "<div>\n",
       "<style scoped>\n",
       "    .dataframe tbody tr th:only-of-type {\n",
       "        vertical-align: middle;\n",
       "    }\n",
       "\n",
       "    .dataframe tbody tr th {\n",
       "        vertical-align: top;\n",
       "    }\n",
       "\n",
       "    .dataframe thead th {\n",
       "        text-align: right;\n",
       "    }\n",
       "</style>\n",
       "<table border=\"1\" class=\"dataframe\">\n",
       "  <thead>\n",
       "    <tr style=\"text-align: right;\">\n",
       "      <th></th>\n",
       "      <th>Response Date</th>\n",
       "      <th>Unique ID</th>\n",
       "      <th>Survey Type</th>\n",
       "      <th>Country</th>\n",
       "      <th>Unit</th>\n",
       "      <th>Industry</th>\n",
       "      <th>Business Unit</th>\n",
       "      <th>Project ID</th>\n",
       "      <th>Source Type</th>\n",
       "      <th>LTR Services</th>\n",
       "      <th>LTC Services</th>\n",
       "      <th>Overall Satisfaction</th>\n",
       "      <th>Communication</th>\n",
       "      <th>Expertise</th>\n",
       "      <th>Industry Expertise</th>\n",
       "      <th>Innovation</th>\n",
       "      <th>Partnership</th>\n",
       "      <th>Proactivity</th>\n",
       "      <th>Quality</th>\n",
       "      <th>Responsiveness</th>\n",
       "      <th>Staffing</th>\n",
       "      <th>Technical Expertise</th>\n",
       "      <th>Timeliness</th>\n",
       "      <th>Value</th>\n",
       "      <th>Reminded</th>\n",
       "    </tr>\n",
       "  </thead>\n",
       "  <tbody>\n",
       "    <tr>\n",
       "      <th>0</th>\n",
       "      <td>2020-07-11 19:55:35</td>\n",
       "      <td>UIDRS5770.26768582561</td>\n",
       "      <td>Type2</td>\n",
       "      <td>JP</td>\n",
       "      <td>Company976</td>\n",
       "      <td>Chemical</td>\n",
       "      <td>Gateway</td>\n",
       "      <td>PRUIDRS5770.2676858256119</td>\n",
       "      <td>Telephonic</td>\n",
       "      <td>2</td>\n",
       "      <td>2</td>\n",
       "      <td>2.0</td>\n",
       "      <td>8</td>\n",
       "      <td>9</td>\n",
       "      <td>8</td>\n",
       "      <td>7</td>\n",
       "      <td>8</td>\n",
       "      <td>5</td>\n",
       "      <td>8</td>\n",
       "      <td>9</td>\n",
       "      <td>9</td>\n",
       "      <td>8</td>\n",
       "      <td>8</td>\n",
       "      <td>8.0</td>\n",
       "      <td>No</td>\n",
       "    </tr>\n",
       "    <tr>\n",
       "      <th>1</th>\n",
       "      <td>2020-07-11 19:42:00</td>\n",
       "      <td>UIDRS8653.02010100842</td>\n",
       "      <td>Type2</td>\n",
       "      <td>EC</td>\n",
       "      <td>Company351</td>\n",
       "      <td>Financial</td>\n",
       "      <td>Web</td>\n",
       "      <td>PRUIDRS8653.0201010084219</td>\n",
       "      <td>Mail</td>\n",
       "      <td>8</td>\n",
       "      <td>8</td>\n",
       "      <td>8.0</td>\n",
       "      <td>8</td>\n",
       "      <td>8</td>\n",
       "      <td>8</td>\n",
       "      <td>7</td>\n",
       "      <td>8</td>\n",
       "      <td>10</td>\n",
       "      <td>8</td>\n",
       "      <td>8</td>\n",
       "      <td>9</td>\n",
       "      <td>8</td>\n",
       "      <td>8</td>\n",
       "      <td>8.0</td>\n",
       "      <td>No</td>\n",
       "    </tr>\n",
       "  </tbody>\n",
       "</table>\n",
       "</div>"
      ],
      "text/plain": [
       "         Response Date              Unique ID Survey Type Country        Unit   Industry Business Unit                 Project ID Source Type  LTR Services  LTC Services  Overall Satisfaction  Communication  Expertise  Industry Expertise  Innovation  Partnership  Proactivity  Quality  Responsiveness  Staffing  Technical Expertise  Timeliness  Value Reminded\n",
       "0  2020-07-11 19:55:35  UIDRS5770.26768582561       Type2      JP  Company976   Chemical       Gateway  PRUIDRS5770.2676858256119  Telephonic             2             2                   2.0              8          9                   8           7            8            5        8               9         9                    8           8    8.0       No\n",
       "1  2020-07-11 19:42:00  UIDRS8653.02010100842       Type2      EC  Company351  Financial           Web  PRUIDRS8653.0201010084219        Mail             8             8                   8.0              8          8                   8           7            8           10        8               8         9                    8           8    8.0       No"
      ]
     },
     "execution_count": 11,
     "metadata": {},
     "output_type": "execute_result"
    }
   ],
   "source": [
    "df.head(2)"
   ]
  },
  {
   "cell_type": "code",
   "execution_count": 12,
   "id": "a84ae8f3",
   "metadata": {},
   "outputs": [
    {
     "data": {
      "text/plain": [
       "Source Type\n",
       "Telephonic     9663\n",
       "Mail           2056\n",
       "Online        17981\n",
       "dtype: int64"
      ]
     },
     "execution_count": 12,
     "metadata": {},
     "output_type": "execute_result"
    }
   ],
   "source": [
    "df.groupby('Source Type').size()"
   ]
  },
  {
   "cell_type": "code",
   "execution_count": 13,
   "id": "b0c3e728",
   "metadata": {},
   "outputs": [
    {
     "name": "stdout",
     "output_type": "stream",
     "text": [
      "CPU times: user 20.7 ms, sys: 2.47 ms, total: 23.2 ms\n",
      "Wall time: 325 ms\n"
     ]
    },
    {
     "data": {
      "text/plain": [
       "8.156164664117968"
      ]
     },
     "execution_count": 13,
     "metadata": {},
     "output_type": "execute_result"
    }
   ],
   "source": [
    "%%time\n",
    "df.Value.mean()"
   ]
  },
  {
   "cell_type": "code",
   "execution_count": 26,
   "id": "977464fe",
   "metadata": {},
   "outputs": [],
   "source": [
    "## make plot show inline on jlab\n",
    "import plotly.io as pio\n",
    "pio.renderers.default = 'iframe'"
   ]
  },
  {
   "cell_type": "code",
   "execution_count": 27,
   "id": "4af534db",
   "metadata": {},
   "outputs": [
    {
     "name": "stdout",
     "output_type": "stream",
     "text": [
      "CPU times: user 115 ms, sys: 15.1 ms, total: 130 ms\n",
      "Wall time: 378 ms\n"
     ]
    },
    {
     "data": {
      "text/html": [
       "<iframe\n",
       "    scrolling=\"no\"\n",
       "    width=\"100%\"\n",
       "    height=\"545px\"\n",
       "    src=\"iframe_figures/figure_27.html\"\n",
       "    frameborder=\"0\"\n",
       "    allowfullscreen\n",
       "></iframe>\n"
      ]
     },
     "metadata": {},
     "output_type": "display_data"
    }
   ],
   "source": [
    "%%time\n",
    "import numpy as np\n",
    "pyspark.pandas.DataFrame(np.random.rand(100, 4), columns=list(\"abcd\")).plot.area()"
   ]
  },
  {
   "cell_type": "code",
   "execution_count": 28,
   "id": "700efb0d",
   "metadata": {},
   "outputs": [
    {
     "name": "stdout",
     "output_type": "stream",
     "text": [
      "Deleting ray-worker-faea11e5-338d-4f3c-a49e-462cf6b9cdb5\n"
     ]
    }
   ],
   "source": [
    "stop_ray_cluster(ray_cluster)"
   ]
  },
  {
   "cell_type": "code",
   "execution_count": null,
   "id": "7ab3f0e4",
   "metadata": {},
   "outputs": [],
   "source": []
  }
 ],
 "metadata": {
  "kernelspec": {
   "display_name": "Python 3",
   "language": "python",
   "name": "python3"
  },
  "language_info": {
   "codemirror_mode": {
    "name": "ipython",
    "version": 3
   },
   "file_extension": ".py",
   "mimetype": "text/x-python",
   "name": "python",
   "nbconvert_exporter": "python",
   "pygments_lexer": "ipython3",
   "version": "3.8.8"
  }
 },
 "nbformat": 4,
 "nbformat_minor": 5
}
