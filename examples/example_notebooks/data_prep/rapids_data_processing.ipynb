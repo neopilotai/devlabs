{
 "cells": [
  {
   "cell_type": "markdown",
   "id": "e8facdaf",
   "metadata": {},
   "source": [
    "## An example of using RAPIDS to speed up pandas operations on Hyperplane\n",
    "- The task is to groupby and sorting about 3G of data on s3 bucket "
   ]
  },
  {
   "cell_type": "code",
   "execution_count": 1,
   "id": "af2c97bf",
   "metadata": {},
   "outputs": [],
   "source": [
    "import warnings\n",
    "warnings.filterwarnings(\"ignore\")"
   ]
  },
  {
   "cell_type": "code",
   "execution_count": 2,
   "id": "8cb76ab5",
   "metadata": {},
   "outputs": [],
   "source": [
    "import os\n",
    "import dask\n",
    "from hyperplane import notebook_common as nc"
   ]
  },
  {
   "cell_type": "code",
   "execution_count": 4,
   "id": "d7c4064b",
   "metadata": {
    "tags": []
   },
   "outputs": [
    {
     "name": "stdout",
     "output_type": "stream",
     "text": [
      "👉 Hyperplane: selecting worker node pool\n",
      "👉 Hyperplane: selecting scheduler node pool\n",
      "👉 Hyperplane: you can access your dask dashboard at https://jhub.ds.hyperplane.dev/hub/user-redirect/proxy/45601/status\n",
      "👉 Hyperplane: to get logs from all workers, do `cluster.get_logs()`\n"
     ]
    }
   ],
   "source": [
    "client, cluster = nc.initialize_cluster(\n",
    "    nprocs=1,\n",
    "    nthreads=8,\n",
    "    ram_gb_per_proc=7,\n",
    "    cores_per_worker=2,\n",
    "    num_workers = 2,\n",
    "    ngpus = 1,\n",
    "    scheduler_deploy_mode=\"local\"\n",
    ")"
   ]
  },
  {
   "cell_type": "code",
   "execution_count": 5,
   "id": "1382c475",
   "metadata": {},
   "outputs": [
    {
     "data": {
      "text/html": [
       "<table style=\"border: 2px solid white;\">\n",
       "<tr>\n",
       "<td style=\"vertical-align: top; border: 0px solid white\">\n",
       "<h3 style=\"text-align: left;\">Client</h3>\n",
       "<ul style=\"text-align: left; list-style: none; margin: 0; padding: 0;\">\n",
       "  <li><b>Scheduler: </b>tcp://10.0.21.3:43959</li>\n",
       "  <li><b>Dashboard: </b><a href='http://10.0.21.3:45601/status' target='_blank'>http://10.0.21.3:45601/status</a></li>\n",
       "</ul>\n",
       "</td>\n",
       "<td style=\"vertical-align: top; border: 0px solid white\">\n",
       "<h3 style=\"text-align: left;\">Cluster</h3>\n",
       "<ul style=\"text-align: left; list-style:none; margin: 0; padding: 0;\">\n",
       "  <li><b>Workers: </b>2</li>\n",
       "  <li><b>Cores: </b>16</li>\n",
       "  <li><b>Memory: </b>14.57 GiB</li>\n",
       "</ul>\n",
       "</td>\n",
       "</tr>\n",
       "</table>"
      ],
      "text/plain": [
       "<Client: 'tcp://10.0.21.3:43959' processes=0 threads=0, memory=0 B>"
      ]
     },
     "execution_count": 5,
     "metadata": {},
     "output_type": "execute_result"
    }
   ],
   "source": [
    "client"
   ]
  },
  {
   "cell_type": "code",
   "execution_count": 6,
   "id": "e309f622",
   "metadata": {},
   "outputs": [],
   "source": [
    "from dask.distributed import Client\n",
    "client = Client(cluster)"
   ]
  },
  {
   "cell_type": "code",
   "execution_count": 7,
   "id": "24425127",
   "metadata": {},
   "outputs": [],
   "source": [
    "import dask_cudf"
   ]
  },
  {
   "cell_type": "code",
   "execution_count": 8,
   "id": "3c138276",
   "metadata": {},
   "outputs": [],
   "source": [
    "file_path = \"s3://dask-data/airline-data/*.csv\""
   ]
  },
  {
   "cell_type": "code",
   "execution_count": 9,
   "id": "c221a12f",
   "metadata": {},
   "outputs": [],
   "source": [
    "flight_df = dask_cudf.read_csv(file_path, assume_missing=True,\n",
    "                               usecols = [\"UniqueCarrier\",\"FlightNum\",\"Distance\"])"
   ]
  },
  {
   "cell_type": "code",
   "execution_count": 10,
   "id": "1ee25618",
   "metadata": {},
   "outputs": [
    {
     "data": {
      "text/html": [
       "<div>\n",
       "<style scoped>\n",
       "    .dataframe tbody tr th:only-of-type {\n",
       "        vertical-align: middle;\n",
       "    }\n",
       "\n",
       "    .dataframe tbody tr th {\n",
       "        vertical-align: top;\n",
       "    }\n",
       "\n",
       "    .dataframe thead th {\n",
       "        text-align: right;\n",
       "    }\n",
       "</style>\n",
       "<table border=\"1\" class=\"dataframe\">\n",
       "  <thead>\n",
       "    <tr style=\"text-align: right;\">\n",
       "      <th></th>\n",
       "      <th>UniqueCarrier</th>\n",
       "      <th>FlightNum</th>\n",
       "      <th>Distance</th>\n",
       "    </tr>\n",
       "  </thead>\n",
       "  <tbody>\n",
       "    <tr>\n",
       "      <th>0</th>\n",
       "      <td>PS</td>\n",
       "      <td>1451.0</td>\n",
       "      <td>447.0</td>\n",
       "    </tr>\n",
       "    <tr>\n",
       "      <th>1</th>\n",
       "      <td>PS</td>\n",
       "      <td>1451.0</td>\n",
       "      <td>447.0</td>\n",
       "    </tr>\n",
       "    <tr>\n",
       "      <th>2</th>\n",
       "      <td>PS</td>\n",
       "      <td>1451.0</td>\n",
       "      <td>447.0</td>\n",
       "    </tr>\n",
       "    <tr>\n",
       "      <th>3</th>\n",
       "      <td>PS</td>\n",
       "      <td>1451.0</td>\n",
       "      <td>447.0</td>\n",
       "    </tr>\n",
       "    <tr>\n",
       "      <th>4</th>\n",
       "      <td>PS</td>\n",
       "      <td>1451.0</td>\n",
       "      <td>447.0</td>\n",
       "    </tr>\n",
       "  </tbody>\n",
       "</table>\n",
       "</div>"
      ],
      "text/plain": [
       "  UniqueCarrier  FlightNum  Distance\n",
       "0            PS     1451.0     447.0\n",
       "1            PS     1451.0     447.0\n",
       "2            PS     1451.0     447.0\n",
       "3            PS     1451.0     447.0\n",
       "4            PS     1451.0     447.0"
      ]
     },
     "execution_count": 10,
     "metadata": {},
     "output_type": "execute_result"
    }
   ],
   "source": [
    "flight_df.head()"
   ]
  },
  {
   "cell_type": "code",
   "execution_count": 11,
   "id": "fac2898a",
   "metadata": {},
   "outputs": [],
   "source": [
    "flight_df_opt = flight_df.groupby(by=[\"UniqueCarrier\",\"FlightNum\"]).Distance.mean()"
   ]
  },
  {
   "cell_type": "code",
   "execution_count": 12,
   "id": "79d49a53",
   "metadata": {},
   "outputs": [
    {
     "name": "stdout",
     "output_type": "stream",
     "text": [
      "CPU times: user 2.08 s, sys: 223 ms, total: 2.3 s\n",
      "Wall time: 1min 21s\n"
     ]
    }
   ],
   "source": [
    "%%time\n",
    "flight_df_results = flight_df_opt.compute()"
   ]
  },
  {
   "cell_type": "code",
   "execution_count": 13,
   "id": "e7a88d28",
   "metadata": {},
   "outputs": [
    {
     "data": {
      "text/plain": [
       "UniqueCarrier  FlightNum\n",
       "AS             994.0        586.166667\n",
       "               920.0        828.272727\n",
       "XE             4089.0       583.000000\n",
       "WN             3524.0       839.513333\n",
       "CO             874.0        588.002579\n",
       "                               ...    \n",
       "PI             1809.0       195.542662\n",
       "NW             1912.0       354.528543\n",
       "MQ             3238.0       212.074221\n",
       "UA             2563.0       271.504673\n",
       "WN             25.0         298.849527\n",
       "Name: Distance, Length: 50003, dtype: float64"
      ]
     },
     "execution_count": 13,
     "metadata": {},
     "output_type": "execute_result"
    }
   ],
   "source": [
    "flight_df_results"
   ]
  },
  {
   "cell_type": "code",
   "execution_count": null,
   "id": "b3bcb2fa",
   "metadata": {},
   "outputs": [],
   "source": [
    "cluster.close()"
   ]
  },
  {
   "cell_type": "code",
   "execution_count": null,
   "id": "1ce927cb",
   "metadata": {},
   "outputs": [],
   "source": []
  }
 ],
 "metadata": {
  "kernelspec": {
   "display_name": "Python [conda env:root] *",
   "language": "python",
   "name": "conda-root-py"
  },
  "language_info": {
   "codemirror_mode": {
    "name": "ipython",
    "version": 3
   },
   "file_extension": ".py",
   "mimetype": "text/x-python",
   "name": "python",
   "nbconvert_exporter": "python",
   "pygments_lexer": "ipython3",
   "version": "3.8.10"
  }
 },
 "nbformat": 4,
 "nbformat_minor": 5
}
