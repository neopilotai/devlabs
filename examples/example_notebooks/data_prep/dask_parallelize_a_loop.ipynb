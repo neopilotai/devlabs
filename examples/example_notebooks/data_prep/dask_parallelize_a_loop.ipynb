{
 "cells": [
  {
   "cell_type": "markdown",
   "id": "1510e2e2-8001-4ce9-b5d8-cc78a2b966fc",
   "metadata": {},
   "source": [
    "### example code for submitting a distributed dask job with a function and a list\n",
    "#### more info on dask distributed client https://distributed.dask.org/en/stable/client.html"
   ]
  },
  {
   "cell_type": "markdown",
   "id": "f92fa29f-4ed4-4c9b-9f04-c3e3996456f4",
   "metadata": {},
   "source": [
    "## A normal looping of a list"
   ]
  },
  {
   "cell_type": "code",
   "execution_count": 1,
   "id": "3b4e40f6-62bb-417e-ae32-1a2d0ef68abc",
   "metadata": {},
   "outputs": [],
   "source": [
    "import time\n",
    "from tqdm.notebook import tqdm"
   ]
  },
  {
   "cell_type": "code",
   "execution_count": 2,
   "id": "c8785cd2-7519-4fbc-9130-330dcaab0070",
   "metadata": {},
   "outputs": [],
   "source": [
    "def process_one_item(item):\n",
    "    # result = some_magic(item)\n",
    "    time.sleep(1)\n",
    "    result = 'done'\n",
    "    return result"
   ]
  },
  {
   "cell_type": "code",
   "execution_count": 3,
   "id": "d2b1cb1d-130b-47c5-ad34-7143bcc1304a",
   "metadata": {},
   "outputs": [],
   "source": [
    "list_of_things = list(range(30))"
   ]
  },
  {
   "cell_type": "code",
   "execution_count": 4,
   "id": "d50ec4cc-6c8b-4ae3-93c4-4f69b5128ba7",
   "metadata": {},
   "outputs": [
    {
     "data": {
      "application/vnd.jupyter.widget-view+json": {
       "model_id": "a631d9619e3c4adf99dff0243d4b2d78",
       "version_major": 2,
       "version_minor": 0
      },
      "text/plain": [
       "  0%|          | 0/30 [00:00<?, ?it/s]"
      ]
     },
     "metadata": {},
     "output_type": "display_data"
    },
    {
     "name": "stdout",
     "output_type": "stream",
     "text": [
      "CPU times: user 141 ms, sys: 16.6 ms, total: 158 ms\n",
      "Wall time: 30.2 s\n"
     ]
    }
   ],
   "source": [
    "%%time\n",
    "for i in tqdm(list_of_things):\n",
    "    process_one_item(i)"
   ]
  },
  {
   "cell_type": "markdown",
   "id": "a9da80e9-ed8f-47a3-93ad-dbe4529074b1",
   "metadata": {},
   "source": [
    "## start a dask cluster"
   ]
  },
  {
   "cell_type": "code",
   "execution_count": 4,
   "id": "21611ea7-c4e9-4517-be18-5ff6510b80f6",
   "metadata": {},
   "outputs": [
    {
     "name": "stdout",
     "output_type": "stream",
     "text": [
      "initializing with 2 num_workers, 15 nprocs each proc has 0.8 GB\n",
      "👉 Hyperplane: selecting worker node pool\n",
      "👉 Hyperplane: selecting scheduler node pool\n",
      "Creating scheduler pod on cluster. This may take some time.\n",
      "👉 Hyperplane: spinning up a dask cluster with a scheduler as a standalone container.\n",
      "👉 Hyperplane: In a few minutes you'll be able to access the dashboard at https://riskthinking1.hyperplane.dev/dask-cluster-6b30e880-cf65-4250-b052-39eabdeda3e9/status\n",
      "👉 Hyperplane: to get logs from all workers, do `cluster.get_logs()`\n"
     ]
    }
   ],
   "source": [
    "from hyperplane import notebook_common as nc\n",
    "num_workers = 2\n",
    "\n",
    "## node specific parameters\n",
    "total_memory = 12  #110 GB allocatible for 16_128 nodes, 12G for 16_16 nodes, 27G for 32_32\n",
    "cors_per_worker = 15   # 15 cores for 16_128 nodes and 16_16 nodes, 28 cores for 32_32 nodes\n",
    "nprocs = 15\n",
    "ram_gb_per_proc = total_memory/nprocs\n",
    "nthreads = int(cors_per_worker/nprocs)\n",
    "\n",
    "print(f'initializing with {num_workers} num_workers, {nprocs} nprocs each proc has {ram_gb_per_proc} GB')\n",
    "client, cluster = nc.initialize_cluster(\n",
    "        num_workers = num_workers,\n",
    "        nprocs = nprocs,\n",
    "        nthreads = nthreads,\n",
    "        ram_gb_per_proc = ram_gb_per_proc,\n",
    "        cores_per_worker = cors_per_worker\n",
    "    )"
   ]
  },
  {
   "cell_type": "code",
   "execution_count": 4,
   "id": "09f9a2f6-fac0-44cb-97bb-b0ea435bdb5d",
   "metadata": {},
   "outputs": [
    {
     "data": {
      "text/html": [
       "<table style=\"border: 2px solid white;\">\n",
       "<tr>\n",
       "<td style=\"vertical-align: top; border: 0px solid white\">\n",
       "<h3 style=\"text-align: left;\">Client</h3>\n",
       "<ul style=\"text-align: left; list-style: none; margin: 0; padding: 0;\">\n",
       "  <li><b>Scheduler: </b>tcp://dask-cluster-dd70f1bf-30ef-4ab3-ae97-46f2d3d1404e.jhub-5hjo3sdt:8786</li>\n",
       "  <li><b>Dashboard: </b><a href='http://dask-cluster-dd70f1bf-30ef-4ab3-ae97-46f2d3d1404e.jhub-5hjo3sdt:8787/status' target='_blank'>http://dask-cluster-dd70f1bf-30ef-4ab3-ae97-46f2d3d1404e.jhub-5hjo3sdt:8787/status</a></li>\n",
       "</ul>\n",
       "</td>\n",
       "<td style=\"vertical-align: top; border: 0px solid white\">\n",
       "<h3 style=\"text-align: left;\">Cluster</h3>\n",
       "<ul style=\"text-align: left; list-style:none; margin: 0; padding: 0;\">\n",
       "  <li><b>Workers: </b>30</li>\n",
       "  <li><b>Cores: </b>30</li>\n",
       "  <li><b>Memory: </b>22.35 GiB</li>\n",
       "</ul>\n",
       "</td>\n",
       "</tr>\n",
       "</table>"
      ],
      "text/plain": [
       "<Client: 'tcp://10.30.112.6:8786' processes=0 threads=0, memory=0 B>"
      ]
     },
     "execution_count": 4,
     "metadata": {},
     "output_type": "execute_result"
    }
   ],
   "source": [
    "## whenever you want to clean up the dask memory this is the magic line\n",
    "client.restart()"
   ]
  },
  {
   "cell_type": "markdown",
   "id": "6e815a06-170d-4e1e-b93d-81bc5b62ed39",
   "metadata": {},
   "source": [
    "## use dask bags"
   ]
  },
  {
   "cell_type": "code",
   "execution_count": 6,
   "id": "2e13648c-252b-4eef-83eb-5f7dda567277",
   "metadata": {},
   "outputs": [
    {
     "data": {
      "text/plain": [
       "30"
      ]
     },
     "execution_count": 6,
     "metadata": {},
     "output_type": "execute_result"
    }
   ],
   "source": [
    "len(list_of_things)"
   ]
  },
  {
   "cell_type": "code",
   "execution_count": 7,
   "id": "2dd8b3ab-1519-4691-bd36-8730b2641862",
   "metadata": {},
   "outputs": [
    {
     "name": "stdout",
     "output_type": "stream",
     "text": [
      "30 {'done'}\n",
      "CPU times: user 24.4 ms, sys: 4.15 ms, total: 28.6 ms\n",
      "Wall time: 1.22 s\n"
     ]
    }
   ],
   "source": [
    "%%time \n",
    "from dask import bag as db\n",
    "bag_list = db.from_sequence(list_of_things, npartitions=len(client.nthreads()))\n",
    "results = db.map(process_one_item, bag_list).compute()\n",
    "print(len(results), set(results))"
   ]
  },
  {
   "cell_type": "markdown",
   "id": "a1334a52-75cd-402b-ab02-67df40676479",
   "metadata": {},
   "source": [
    "## use barebone dask distributed"
   ]
  },
  {
   "cell_type": "code",
   "execution_count": 8,
   "id": "5336925c-c560-42e6-b8b2-6f3f0c67ad1a",
   "metadata": {},
   "outputs": [
    {
     "name": "stdout",
     "output_type": "stream",
     "text": [
      "CPU times: user 3.1 ms, sys: 116 µs, total: 3.21 ms\n",
      "Wall time: 2.41 ms\n"
     ]
    }
   ],
   "source": [
    "%%time\n",
    "## run it on dask cluster for all urls\n",
    "L = client.map(process_one_item, list_of_things)"
   ]
  },
  {
   "cell_type": "code",
   "execution_count": 12,
   "id": "6a3ac9f7-0a92-40f9-aa58-5523c663b56a",
   "metadata": {
    "tags": []
   },
   "outputs": [
    {
     "name": "stdout",
     "output_type": "stream",
     "text": [
      "['done', 'done', 'done', 'done', 'done', 'done', 'done', 'done', 'done', 'done', 'done', 'done', 'done', 'done', 'done', 'done', 'done', 'done', 'done', 'done', 'done', 'done', 'done', 'done', 'done', 'done', 'done', 'done', 'done', 'done']\n",
      "CPU times: user 5.31 ms, sys: 1.04 ms, total: 6.35 ms\n",
      "Wall time: 15.7 ms\n"
     ]
    }
   ],
   "source": [
    "%%time\n",
    "results_distributed = client.gather(L)\n",
    "print(results_distributed) ## this will display a list of result, results being the return from process_one_url function"
   ]
  },
  {
   "cell_type": "code",
   "execution_count": 13,
   "id": "2fac2023-3167-4208-bc5d-69081f017d3a",
   "metadata": {},
   "outputs": [],
   "source": [
    "client.close()\n",
    "cluster.close()"
   ]
  },
  {
   "cell_type": "code",
   "execution_count": null,
   "id": "e1251987-2a07-48fb-ba89-1b6da85a9e9a",
   "metadata": {},
   "outputs": [],
   "source": []
  }
 ],
 "metadata": {
  "kernelspec": {
   "display_name": "Python 3 (ipykernel)",
   "language": "python",
   "name": "python3"
  },
  "language_info": {
   "codemirror_mode": {
    "name": "ipython",
    "version": 3
   },
   "file_extension": ".py",
   "mimetype": "text/x-python",
   "name": "python",
   "nbconvert_exporter": "python",
   "pygments_lexer": "ipython3",
   "version": "3.8.10"
  }
 },
 "nbformat": 4,
 "nbformat_minor": 5
}
