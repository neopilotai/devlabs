{
 "cells": [
  {
   "cell_type": "markdown",
   "id": "374839b7",
   "metadata": {},
   "source": [
    "# Ray Tune on Hyperplane demo"
   ]
  },
  {
   "cell_type": "markdown",
   "id": "829f2b23",
   "metadata": {},
   "source": [
    "### install and update libraries\n",
    "- this can be skipped when ray is fully integrated"
   ]
  },
  {
   "cell_type": "code",
   "execution_count": 1,
   "id": "b38f46ae",
   "metadata": {},
   "outputs": [],
   "source": [
    "# !pip install tensorboardX --quiet\n"
   ]
  },
  {
   "cell_type": "code",
   "execution_count": 2,
   "id": "4c46de2f",
   "metadata": {},
   "outputs": [
    {
     "name": "stdout",
     "output_type": "stream",
     "text": [
      "ray version 1.8.0\n",
      "pandas version 1.2.3\n"
     ]
    }
   ],
   "source": [
    "import pandas as pd\n",
    "import ray\n",
    "print(f'ray version {ray.__version__}')\n",
    "print(f'pandas version {pd.__version__}')"
   ]
  },
  {
   "cell_type": "markdown",
   "id": "cab3b779",
   "metadata": {},
   "source": [
    "### initialize ray cluster with remote cluster"
   ]
  },
  {
   "cell_type": "code",
   "execution_count": 3,
   "id": "d11326f5",
   "metadata": {},
   "outputs": [
    {
     "name": "stdout",
     "output_type": "stream",
     "text": [
      "deleting pod ray-worker-77eb2548-bc5f-43bd-9c1a-4ff59fb03b26\n",
      "deleting pod ray-worker-e3fc8c5b-84c0-41b9-ba23-149d722384be\n",
      "👉 Hyperplane: selecting worker node pool\n",
      "best pool spec {'pool_env_var': 'DASK_POOL_16_16', 'allocatable_cores': 15.0, 'allocatable_ram': 12.0}\n"
     ]
    },
    {
     "name": "stderr",
     "output_type": "stream",
     "text": [
      "2021-12-08 15:10:53,795\tINFO services.py:1270 -- View the Ray dashboard at \u001b[1m\u001b[32mhttp://127.0.0.1:8265\u001b[39m\u001b[22m\n",
      "2021-12-08 15:10:53,799\tWARNING services.py:1748 -- WARNING: The object store is using /tmp instead of /dev/shm because /dev/shm has only 67108864 bytes available. This will harm performance! You may be able to free up space by deleting files in /dev/shm. If you are inside a Docker container, you can increase /dev/shm size by passing '--shm-size=8.51gb' to 'docker run' (or add it to the run_options list in a Ray cluster config). Make sure to set this to more than 30% of available RAM.\n"
     ]
    },
    {
     "name": "stdout",
     "output_type": "stream",
     "text": [
      "Waiting for worker ray-worker-b629b041-9f6c-49c3-bb7c-4f338b0d49b9...\n",
      "Waiting for worker ray-worker-cee4eb89-6773-4c15-9e80-35b79ae5a181...\n"
     ]
    }
   ],
   "source": [
    "from hyperplane.ray_common import initialize_ray_cluster, stop_ray_cluster, find_ray_workers\n",
    "num_workers = 2\n",
    "cpu_core_per_worker = 15\n",
    "ram_gb_per_worker = 12 #110 GB allocatible for 16_128 nodes, 12 for 16_16 nodes, 27 for 32_32 nodes\n",
    "ray_cluster = initialize_ray_cluster(num_workers, cpu_core_per_worker, ram_gb_per_worker)"
   ]
  },
  {
   "cell_type": "markdown",
   "id": "6306bed5",
   "metadata": {},
   "source": [
    "## example 1 - basic"
   ]
  },
  {
   "cell_type": "code",
   "execution_count": 7,
   "id": "6fa264f5",
   "metadata": {},
   "outputs": [],
   "source": [
    "from ray import tune"
   ]
  },
  {
   "cell_type": "code",
   "execution_count": 8,
   "id": "557193c3",
   "metadata": {},
   "outputs": [
    {
     "data": {
      "text/html": [
       "== Status ==<br>Current time: 2021-12-08 15:19:00 (running for 00:00:01.27)<br>Memory usage on this node: 2.7/31.4 GiB<br>Using FIFO scheduling algorithm.<br>Resources requested: 0/37 CPUs, 0/0 GPUs, 0.0/32.21 GiB heap, 0.0/14.91 GiB objects<br>Result logdir: /root/ray_results/training_function_2021-12-08_15-18-59<br>Number of trials: 3/3 (3 TERMINATED)<br><br>"
      ],
      "text/plain": [
       "<IPython.core.display.HTML object>"
      ]
     },
     "metadata": {},
     "output_type": "display_data"
    },
    {
     "name": "stderr",
     "output_type": "stream",
     "text": [
      "2021-12-08 15:19:00,531\tINFO tune.py:630 -- Total run time: 1.39 seconds (1.26 seconds for the tuning loop).\n"
     ]
    },
    {
     "name": "stdout",
     "output_type": "stream",
     "text": [
      "Best config:  {'alpha': 0.1, 'beta': 1}\n"
     ]
    }
   ],
   "source": [
    "def objective(step, alpha, beta):\n",
    "    return (0.1 + alpha * step / 100)**(-1) + beta * 0.1\n",
    "\n",
    "\n",
    "def training_function(config,  checkpoint_dir=None):\n",
    "    # Hyperparameters\n",
    "    alpha, beta = config[\"alpha\"], config[\"beta\"]\n",
    "    for step in range(10):\n",
    "        # Iterative training function - can be any arbitrary training procedure.\n",
    "        intermediate_score = objective(step, alpha, beta)\n",
    "        # Feed the score back back to Tune.\n",
    "        tune.report(mean_loss=intermediate_score)\n",
    "\n",
    "\n",
    "analysis = tune.run(\n",
    "    training_function,\n",
    "    config={\n",
    "        \"alpha\": tune.grid_search([0.001, 0.01, 0.1]),\n",
    "        \"beta\": tune.choice([1, 2, 3])\n",
    "    },\n",
    "#     sync_config=tune.SyncConfig(\n",
    "#         sync_to_driver=False,\n",
    "#         upload_dir=\"gs://pipeline_data/ray_data\"\n",
    "#     ),\n",
    "    verbose = 1\n",
    ")\n",
    "\n",
    "print(\"Best config: \", analysis.get_best_config(\n",
    "    metric=\"mean_loss\", mode=\"min\"))\n",
    "\n",
    "# Get a dataframe for analyzing trial results.\n",
    "df = analysis.results_df"
   ]
  },
  {
   "cell_type": "code",
   "execution_count": 9,
   "id": "232542f8",
   "metadata": {},
   "outputs": [
    {
     "data": {
      "text/html": [
       "<div>\n",
       "<style scoped>\n",
       "    .dataframe tbody tr th:only-of-type {\n",
       "        vertical-align: middle;\n",
       "    }\n",
       "\n",
       "    .dataframe tbody tr th {\n",
       "        vertical-align: top;\n",
       "    }\n",
       "\n",
       "    .dataframe thead th {\n",
       "        text-align: right;\n",
       "    }\n",
       "</style>\n",
       "<table border=\"1\" class=\"dataframe\">\n",
       "  <thead>\n",
       "    <tr style=\"text-align: right;\">\n",
       "      <th></th>\n",
       "      <th>mean_loss</th>\n",
       "      <th>time_this_iter_s</th>\n",
       "      <th>done</th>\n",
       "      <th>timesteps_total</th>\n",
       "      <th>episodes_total</th>\n",
       "      <th>training_iteration</th>\n",
       "      <th>neg_mean_loss</th>\n",
       "      <th>experiment_id</th>\n",
       "      <th>date</th>\n",
       "      <th>timestamp</th>\n",
       "      <th>time_total_s</th>\n",
       "      <th>pid</th>\n",
       "      <th>hostname</th>\n",
       "      <th>node_ip</th>\n",
       "      <th>time_since_restore</th>\n",
       "      <th>timesteps_since_restore</th>\n",
       "      <th>iterations_since_restore</th>\n",
       "      <th>experiment_tag</th>\n",
       "      <th>config.alpha</th>\n",
       "      <th>config.beta</th>\n",
       "    </tr>\n",
       "    <tr>\n",
       "      <th>trial_id</th>\n",
       "      <th></th>\n",
       "      <th></th>\n",
       "      <th></th>\n",
       "      <th></th>\n",
       "      <th></th>\n",
       "      <th></th>\n",
       "      <th></th>\n",
       "      <th></th>\n",
       "      <th></th>\n",
       "      <th></th>\n",
       "      <th></th>\n",
       "      <th></th>\n",
       "      <th></th>\n",
       "      <th></th>\n",
       "      <th></th>\n",
       "      <th></th>\n",
       "      <th></th>\n",
       "      <th></th>\n",
       "      <th></th>\n",
       "      <th></th>\n",
       "    </tr>\n",
       "  </thead>\n",
       "  <tbody>\n",
       "    <tr>\n",
       "      <th>2ad3d_00000</th>\n",
       "      <td>10.191008</td>\n",
       "      <td>0.005508</td>\n",
       "      <td>True</td>\n",
       "      <td>None</td>\n",
       "      <td>None</td>\n",
       "      <td>10</td>\n",
       "      <td>-10.191008</td>\n",
       "      <td>af590b6141e54d738fa90c137ee16b22</td>\n",
       "      <td>2021-12-08_15-18-59</td>\n",
       "      <td>1638976739</td>\n",
       "      <td>0.044360</td>\n",
       "      <td>67</td>\n",
       "      <td>ray-worker-cee4eb89-6773-4c15-9e80-35b79ae5a181</td>\n",
       "      <td>10.1.169.3</td>\n",
       "      <td>0.044360</td>\n",
       "      <td>0</td>\n",
       "      <td>10</td>\n",
       "      <td>0_alpha=0.001,beta=2</td>\n",
       "      <td>0.001</td>\n",
       "      <td>2</td>\n",
       "    </tr>\n",
       "    <tr>\n",
       "      <th>2ad3d_00001</th>\n",
       "      <td>10.010803</td>\n",
       "      <td>0.003587</td>\n",
       "      <td>True</td>\n",
       "      <td>None</td>\n",
       "      <td>None</td>\n",
       "      <td>10</td>\n",
       "      <td>-10.010803</td>\n",
       "      <td>6cfa5230e59248b9943bc6e919e96d54</td>\n",
       "      <td>2021-12-08_15-18-59</td>\n",
       "      <td>1638976739</td>\n",
       "      <td>0.047009</td>\n",
       "      <td>71</td>\n",
       "      <td>ray-worker-b629b041-9f6c-49c3-bb7c-4f338b0d49b9</td>\n",
       "      <td>10.1.165.8</td>\n",
       "      <td>0.047009</td>\n",
       "      <td>0</td>\n",
       "      <td>10</td>\n",
       "      <td>1_alpha=0.01,beta=1</td>\n",
       "      <td>0.010</td>\n",
       "      <td>1</td>\n",
       "    </tr>\n",
       "    <tr>\n",
       "      <th>2ad3d_00002</th>\n",
       "      <td>9.274312</td>\n",
       "      <td>0.002995</td>\n",
       "      <td>True</td>\n",
       "      <td>None</td>\n",
       "      <td>None</td>\n",
       "      <td>10</td>\n",
       "      <td>-9.274312</td>\n",
       "      <td>94b0595d01404bf0898c095f44c8d338</td>\n",
       "      <td>2021-12-08_15-19-00</td>\n",
       "      <td>1638976740</td>\n",
       "      <td>0.033999</td>\n",
       "      <td>143</td>\n",
       "      <td>ray-worker-cee4eb89-6773-4c15-9e80-35b79ae5a181</td>\n",
       "      <td>10.1.169.3</td>\n",
       "      <td>0.033999</td>\n",
       "      <td>0</td>\n",
       "      <td>10</td>\n",
       "      <td>2_alpha=0.1,beta=1</td>\n",
       "      <td>0.100</td>\n",
       "      <td>1</td>\n",
       "    </tr>\n",
       "  </tbody>\n",
       "</table>\n",
       "</div>"
      ],
      "text/plain": [
       "             mean_loss  time_this_iter_s  done timesteps_total episodes_total  \\\n",
       "trial_id                                                                        \n",
       "2ad3d_00000  10.191008          0.005508  True            None           None   \n",
       "2ad3d_00001  10.010803          0.003587  True            None           None   \n",
       "2ad3d_00002   9.274312          0.002995  True            None           None   \n",
       "\n",
       "             training_iteration  neg_mean_loss  \\\n",
       "trial_id                                         \n",
       "2ad3d_00000                  10     -10.191008   \n",
       "2ad3d_00001                  10     -10.010803   \n",
       "2ad3d_00002                  10      -9.274312   \n",
       "\n",
       "                                experiment_id                 date  \\\n",
       "trial_id                                                             \n",
       "2ad3d_00000  af590b6141e54d738fa90c137ee16b22  2021-12-08_15-18-59   \n",
       "2ad3d_00001  6cfa5230e59248b9943bc6e919e96d54  2021-12-08_15-18-59   \n",
       "2ad3d_00002  94b0595d01404bf0898c095f44c8d338  2021-12-08_15-19-00   \n",
       "\n",
       "              timestamp  time_total_s  pid  \\\n",
       "trial_id                                     \n",
       "2ad3d_00000  1638976739      0.044360   67   \n",
       "2ad3d_00001  1638976739      0.047009   71   \n",
       "2ad3d_00002  1638976740      0.033999  143   \n",
       "\n",
       "                                                    hostname     node_ip  \\\n",
       "trial_id                                                                   \n",
       "2ad3d_00000  ray-worker-cee4eb89-6773-4c15-9e80-35b79ae5a181  10.1.169.3   \n",
       "2ad3d_00001  ray-worker-b629b041-9f6c-49c3-bb7c-4f338b0d49b9  10.1.165.8   \n",
       "2ad3d_00002  ray-worker-cee4eb89-6773-4c15-9e80-35b79ae5a181  10.1.169.3   \n",
       "\n",
       "             time_since_restore  timesteps_since_restore  \\\n",
       "trial_id                                                   \n",
       "2ad3d_00000            0.044360                        0   \n",
       "2ad3d_00001            0.047009                        0   \n",
       "2ad3d_00002            0.033999                        0   \n",
       "\n",
       "             iterations_since_restore        experiment_tag  config.alpha  \\\n",
       "trial_id                                                                    \n",
       "2ad3d_00000                        10  0_alpha=0.001,beta=2         0.001   \n",
       "2ad3d_00001                        10   1_alpha=0.01,beta=1         0.010   \n",
       "2ad3d_00002                        10    2_alpha=0.1,beta=1         0.100   \n",
       "\n",
       "             config.beta  \n",
       "trial_id                  \n",
       "2ad3d_00000            2  \n",
       "2ad3d_00001            1  \n",
       "2ad3d_00002            1  "
      ]
     },
     "execution_count": 9,
     "metadata": {},
     "output_type": "execute_result"
    }
   ],
   "source": [
    "df"
   ]
  },
  {
   "cell_type": "markdown",
   "id": "7b6c0c12",
   "metadata": {},
   "source": [
    "## Example 2 - Early stopping and Bayesian Optimization (via HyperOpt) "
   ]
  },
  {
   "cell_type": "code",
   "execution_count": 10,
   "id": "f020eb47",
   "metadata": {},
   "outputs": [],
   "source": [
    "import numpy as np\n",
    "import torch\n",
    "import torch.optim as optim\n",
    "import torch.nn as nn\n",
    "from torchvision import datasets, transforms\n",
    "from torch.utils.data import DataLoader\n",
    "import torch.nn.functional as F\n",
    "\n",
    "from ray import tune\n",
    "from ray.tune.schedulers import ASHAScheduler"
   ]
  },
  {
   "cell_type": "code",
   "execution_count": 11,
   "id": "3ded2355",
   "metadata": {},
   "outputs": [],
   "source": [
    "class ConvNet(nn.Module):\n",
    "    def __init__(self):\n",
    "        super(ConvNet, self).__init__()\n",
    "        # In this example, we don't change the model architecture\n",
    "        # due to simplicity.\n",
    "        self.conv1 = nn.Conv2d(1, 3, kernel_size=3)\n",
    "        self.fc = nn.Linear(192, 10)\n",
    "\n",
    "    def forward(self, x):\n",
    "        x = F.relu(F.max_pool2d(self.conv1(x), 3))\n",
    "        x = x.view(-1, 192)\n",
    "        x = self.fc(x)\n",
    "        return F.log_softmax(x, dim=1)\n"
   ]
  },
  {
   "cell_type": "code",
   "execution_count": 12,
   "id": "7854dd3d",
   "metadata": {},
   "outputs": [],
   "source": [
    "from google.cloud import storage\n",
    "\n",
    "def upload_blob(bucket_name, source_file_name, destination_blob_name):\n",
    "    \"\"\"Uploads a file to the bucket.\"\"\"\n",
    "    # bucket_name = \"your-bucket-name\"\n",
    "    # source_file_name = \"local/path/to/file\"\n",
    "    # destination_blob_name = \"storage-object-name\"\n",
    "\n",
    "    storage_client = storage.Client()\n",
    "    bucket = storage_client.bucket(bucket_name)\n",
    "    blob = bucket.blob(destination_blob_name)\n",
    "\n",
    "    blob.upload_from_filename(source_file_name)\n",
    "\n",
    "    print(\n",
    "        \"File {} uploaded to {}.\".format(\n",
    "            source_file_name, destination_blob_name\n",
    "        )\n",
    "    )\n",
    "    \n",
    "def download_blob(bucket_name, source_blob_name, destination_file_name):\n",
    "    \"\"\"Downloads a blob from the bucket.\"\"\"\n",
    "    # bucket_name = \"your-bucket-name\"\n",
    "    # source_blob_name = \"storage-object-name\"\n",
    "    # destination_file_name = \"local/path/to/file\"\n",
    "\n",
    "    storage_client = storage.Client()\n",
    "\n",
    "    bucket = storage_client.bucket(bucket_name)\n",
    "\n",
    "    # Construct a client side representation of a blob.\n",
    "    # Note `Bucket.blob` differs from `Bucket.get_blob` as it doesn't retrieve\n",
    "    # any content from Google Cloud Storage. As we don't need additional data,\n",
    "    # using `Bucket.blob` is preferred here.\n",
    "    blob = bucket.blob(source_blob_name)\n",
    "    blob.download_to_filename(destination_file_name)\n",
    "\n",
    "    print(\n",
    "        \"Blob {} downloaded to {}.\".format(\n",
    "            source_blob_name, destination_file_name\n",
    "        )\n",
    "    )"
   ]
  },
  {
   "cell_type": "code",
   "execution_count": 13,
   "id": "f0aeef6e",
   "metadata": {},
   "outputs": [],
   "source": [
    "# Change these values if you want the training to run quicker or slower.\n",
    "EPOCH_SIZE = 512\n",
    "TEST_SIZE = 256\n",
    "\n",
    "def train(model, optimizer, train_loader):\n",
    "    device = torch.device(\"cuda\" if torch.cuda.is_available() else \"cpu\")\n",
    "    model.train()\n",
    "    for batch_idx, (data, target) in enumerate(train_loader):\n",
    "        # We set this just for the example to run quickly.\n",
    "        if batch_idx * len(data) > EPOCH_SIZE:\n",
    "            return\n",
    "        data, target = data.to(device), target.to(device)\n",
    "        optimizer.zero_grad()\n",
    "        output = model(data)\n",
    "        loss = F.nll_loss(output, target)\n",
    "        loss.backward()\n",
    "        optimizer.step()\n",
    "\n",
    "\n",
    "def test(model, data_loader):\n",
    "    device = torch.device(\"cuda\" if torch.cuda.is_available() else \"cpu\")\n",
    "    model.eval()\n",
    "    correct = 0\n",
    "    total = 0\n",
    "    with torch.no_grad():\n",
    "        for batch_idx, (data, target) in enumerate(data_loader):\n",
    "            # We set this just for the example to run quickly.\n",
    "            if batch_idx * len(data) > TEST_SIZE:\n",
    "                break\n",
    "            data, target = data.to(device), target.to(device)\n",
    "            outputs = model(data)\n",
    "            _, predicted = torch.max(outputs.data, 1)\n",
    "            total += target.size(0)\n",
    "            correct += (predicted == target).sum().item()\n",
    "\n",
    "    return correct / total"
   ]
  },
  {
   "cell_type": "code",
   "execution_count": 14,
   "id": "02befb5f",
   "metadata": {},
   "outputs": [],
   "source": [
    "def train_mnist(config):\n",
    "    # Data Setup\n",
    "    mnist_transforms = transforms.Compose(\n",
    "        [transforms.ToTensor(),\n",
    "         transforms.Normalize((0.1307, ), (0.3081, ))])\n",
    "\n",
    "    train_loader = DataLoader(\n",
    "        datasets.MNIST(\"~/data\", train=True, download=True, transform=mnist_transforms),\n",
    "        batch_size=64,\n",
    "        shuffle=True)\n",
    "    test_loader = DataLoader(\n",
    "        datasets.MNIST(\"~/data\", train=False, transform=mnist_transforms),\n",
    "        batch_size=64,\n",
    "        shuffle=True)\n",
    "\n",
    "    device = torch.device(\"cuda\" if torch.cuda.is_available() else \"cpu\")\n",
    "\n",
    "    model = ConvNet()\n",
    "    model.to(device)\n",
    "\n",
    "    optimizer = optim.SGD(\n",
    "        model.parameters(), lr=config[\"lr\"], momentum=config[\"momentum\"])\n",
    "    for i in range(10):\n",
    "        train(model, optimizer, train_loader)\n",
    "        acc = test(model, test_loader)\n",
    "\n",
    "        # Send the current training result back to Tune\n",
    "        tune.report(mean_accuracy=acc)\n",
    "\n",
    "        if i % 5 == 0:\n",
    "            # This saves the model to the trial directory\n",
    "            torch.save(model.state_dict(), \"./model.pth\")\n",
    "#             upload_blob('pipeline_data', './model.pth', 'ray/model.pth')"
   ]
  },
  {
   "cell_type": "markdown",
   "id": "5c9f827a",
   "metadata": {},
   "source": [
    "### 2.1 run 1 trial from a uniform distribution for learning rate and momentum."
   ]
  },
  {
   "cell_type": "code",
   "execution_count": 15,
   "id": "05bcada9",
   "metadata": {},
   "outputs": [],
   "source": [
    "search_space = {\n",
    "    \"lr\": tune.sample_from(lambda spec: 10**(-10 * np.random.rand())),\n",
    "    \"momentum\": tune.uniform(0.1, 0.9)\n",
    "}"
   ]
  },
  {
   "cell_type": "code",
   "execution_count": 16,
   "id": "504571ce",
   "metadata": {},
   "outputs": [],
   "source": [
    "##download data\n",
    "# datasets.MNIST(\"~/data\", train=True, download=True)"
   ]
  },
  {
   "cell_type": "code",
   "execution_count": 17,
   "id": "e9be6f20",
   "metadata": {},
   "outputs": [
    {
     "data": {
      "text/html": [
       "== Status ==<br>Current time: 2021-12-08 15:19:18 (running for 00:00:04.80)<br>Memory usage on this node: 2.7/31.4 GiB<br>Using FIFO scheduling algorithm.<br>Resources requested: 0/37 CPUs, 0/0 GPUs, 0.0/32.21 GiB heap, 0.0/14.91 GiB objects<br>Result logdir: /root/ray_results/train_mnist_2021-12-08_15-19-13<br>Number of trials: 1/1 (1 TERMINATED)<br><br>"
      ],
      "text/plain": [
       "<IPython.core.display.HTML object>"
      ]
     },
     "metadata": {},
     "output_type": "display_data"
    },
    {
     "name": "stderr",
     "output_type": "stream",
     "text": [
      "2021-12-08 15:19:18,300\tINFO tune.py:630 -- Total run time: 4.93 seconds (4.79 seconds for the tuning loop).\n"
     ]
    }
   ],
   "source": [
    "analysis = tune.run(train_mnist, config=search_space, verbose = 1)"
   ]
  },
  {
   "cell_type": "code",
   "execution_count": 18,
   "id": "b3521bda",
   "metadata": {},
   "outputs": [
    {
     "name": "stdout",
     "output_type": "stream",
     "text": [
      "[<matplotlib.axes._subplots.AxesSubplot object at 0x7f60e3f80b20>]\n"
     ]
    },
    {
     "data": {
      "text/html": [
       "<div>\n",
       "<style scoped>\n",
       "    .dataframe tbody tr th:only-of-type {\n",
       "        vertical-align: middle;\n",
       "    }\n",
       "\n",
       "    .dataframe tbody tr th {\n",
       "        vertical-align: top;\n",
       "    }\n",
       "\n",
       "    .dataframe thead th {\n",
       "        text-align: right;\n",
       "    }\n",
       "</style>\n",
       "<table border=\"1\" class=\"dataframe\">\n",
       "  <thead>\n",
       "    <tr style=\"text-align: right;\">\n",
       "      <th></th>\n",
       "      <th>mean_accuracy</th>\n",
       "      <th>time_this_iter_s</th>\n",
       "      <th>done</th>\n",
       "      <th>timesteps_total</th>\n",
       "      <th>episodes_total</th>\n",
       "      <th>training_iteration</th>\n",
       "      <th>experiment_id</th>\n",
       "      <th>date</th>\n",
       "      <th>timestamp</th>\n",
       "      <th>time_total_s</th>\n",
       "      <th>pid</th>\n",
       "      <th>hostname</th>\n",
       "      <th>node_ip</th>\n",
       "      <th>time_since_restore</th>\n",
       "      <th>timesteps_since_restore</th>\n",
       "      <th>iterations_since_restore</th>\n",
       "      <th>experiment_tag</th>\n",
       "      <th>config.lr</th>\n",
       "      <th>config.momentum</th>\n",
       "    </tr>\n",
       "    <tr>\n",
       "      <th>trial_id</th>\n",
       "      <th></th>\n",
       "      <th></th>\n",
       "      <th></th>\n",
       "      <th></th>\n",
       "      <th></th>\n",
       "      <th></th>\n",
       "      <th></th>\n",
       "      <th></th>\n",
       "      <th></th>\n",
       "      <th></th>\n",
       "      <th></th>\n",
       "      <th></th>\n",
       "      <th></th>\n",
       "      <th></th>\n",
       "      <th></th>\n",
       "      <th></th>\n",
       "      <th></th>\n",
       "      <th></th>\n",
       "      <th></th>\n",
       "    </tr>\n",
       "  </thead>\n",
       "  <tbody>\n",
       "    <tr>\n",
       "      <th>957d6_00000</th>\n",
       "      <td>0.859375</td>\n",
       "      <td>0.231261</td>\n",
       "      <td>True</td>\n",
       "      <td>None</td>\n",
       "      <td>None</td>\n",
       "      <td>10</td>\n",
       "      <td>867a68314aa4409096bda9d4d8f4fab5</td>\n",
       "      <td>2021-08-23_07-15-41</td>\n",
       "      <td>1629728141</td>\n",
       "      <td>5.284904</td>\n",
       "      <td>173</td>\n",
       "      <td>example-cluster-ray-worker-mqdd4</td>\n",
       "      <td>10.1.124.8</td>\n",
       "      <td>5.284904</td>\n",
       "      <td>0</td>\n",
       "      <td>10</td>\n",
       "      <td>0_lr=0.063148,momentum=0.58491</td>\n",
       "      <td>0.063148</td>\n",
       "      <td>0.584906</td>\n",
       "    </tr>\n",
       "  </tbody>\n",
       "</table>\n",
       "</div>"
      ],
      "text/plain": [
       "             mean_accuracy  time_this_iter_s  done timesteps_total  \\\n",
       "trial_id                                                             \n",
       "957d6_00000       0.859375          0.231261  True            None   \n",
       "\n",
       "            episodes_total  training_iteration  \\\n",
       "trial_id                                         \n",
       "957d6_00000           None                  10   \n",
       "\n",
       "                                experiment_id                 date  \\\n",
       "trial_id                                                             \n",
       "957d6_00000  867a68314aa4409096bda9d4d8f4fab5  2021-08-23_07-15-41   \n",
       "\n",
       "              timestamp  time_total_s  pid                          hostname  \\\n",
       "trial_id                                                                       \n",
       "957d6_00000  1629728141      5.284904  173  example-cluster-ray-worker-mqdd4   \n",
       "\n",
       "                node_ip  time_since_restore  timesteps_since_restore  \\\n",
       "trial_id                                                               \n",
       "957d6_00000  10.1.124.8            5.284904                        0   \n",
       "\n",
       "             iterations_since_restore                  experiment_tag  \\\n",
       "trial_id                                                                \n",
       "957d6_00000                        10  0_lr=0.063148,momentum=0.58491   \n",
       "\n",
       "             config.lr  config.momentum  \n",
       "trial_id                                 \n",
       "957d6_00000   0.063148         0.584906  "
      ]
     },
     "execution_count": 18,
     "metadata": {},
     "output_type": "execute_result"
    },
    {
     "data": {
      "image/png": "[encoded data removed]",
      "text/plain": [
       "<Figure size 432x288 with 1 Axes>"
      ]
     },
     "metadata": {
      "needs_background": "light"
     },
     "output_type": "display_data"
    }
   ],
   "source": [
    "dfs = analysis.trial_dataframes\n",
    "print([d.mean_accuracy.plot() for d in dfs.values()])\n",
    "\n",
    "# Get a dataframe for analyzing trial results.\n",
    "df = analysis.results_df\n",
    "df"
   ]
  },
  {
   "cell_type": "markdown",
   "id": "86015228",
   "metadata": {},
   "source": [
    "### 2.2 Early Stopping with ASHA by adding scheduler"
   ]
  },
  {
   "cell_type": "code",
   "execution_count": 24,
   "id": "f1ed34f0",
   "metadata": {},
   "outputs": [
    {
     "name": "stdout",
     "output_type": "stream",
     "text": [
      "\u001b[2m\u001b[36m(pid=383)\u001b[0m == Status ==\n",
      "\u001b[2m\u001b[36m(pid=383)\u001b[0m Memory usage on this node: 1.8/15.6 GiB\n",
      "\u001b[2m\u001b[36m(pid=383)\u001b[0m Using AsyncHyperBand: num_stopped=0\n",
      "\u001b[2m\u001b[36m(pid=383)\u001b[0m Bracket: Iter 64.000: None | Iter 16.000: None | Iter 4.000: None | Iter 1.000: None\n",
      "\u001b[2m\u001b[36m(pid=383)\u001b[0m Resources requested: 0/16 CPUs, 0/0 GPUs, 0.0/11.2 GiB heap, 0.0/5.09 GiB objects (0.0/3.0 example-resource-a, 0.0/3.0 example-resource-b)\n",
      "\u001b[2m\u001b[36m(pid=383)\u001b[0m Result logdir: /home/ray/ray_results/train_mnist_2021-08-23_07-28-01\n",
      "\u001b[2m\u001b[36m(pid=383)\u001b[0m Number of trials: 17/20 (17 PENDING)\n",
      "\u001b[2m\u001b[36m(pid=383)\u001b[0m \n",
      "\u001b[2m\u001b[36m(pid=383)\u001b[0m \n",
      "\u001b[2m\u001b[36m(pid=383)\u001b[0m == Status ==\n",
      "\u001b[2m\u001b[36m(pid=383)\u001b[0m Memory usage on this node: 2.6/15.6 GiB\n",
      "\u001b[2m\u001b[36m(pid=383)\u001b[0m Using AsyncHyperBand: num_stopped=8\n",
      "\u001b[2m\u001b[36m(pid=383)\u001b[0m Bracket: Iter 64.000: None | Iter 16.000: None | Iter 4.000: 0.11562499999999999 | Iter 1.000: 0.15390625\n",
      "\u001b[2m\u001b[36m(pid=383)\u001b[0m Resources requested: 11.0/16 CPUs, 0/0 GPUs, 0.0/11.2 GiB heap, 0.0/5.09 GiB objects (0.0/3.0 example-resource-a, 0.0/3.0 example-resource-b)\n",
      "\u001b[2m\u001b[36m(pid=383)\u001b[0m Result logdir: /home/ray/ray_results/train_mnist_2021-08-23_07-28-01\n",
      "\u001b[2m\u001b[36m(pid=383)\u001b[0m Number of trials: 20/20 (11 RUNNING, 9 TERMINATED)\n",
      "\u001b[2m\u001b[36m(pid=383)\u001b[0m \n",
      "\u001b[2m\u001b[36m(pid=383)\u001b[0m \n",
      "\u001b[2m\u001b[36m(pid=383)\u001b[0m == Status ==\n",
      "\u001b[2m\u001b[36m(pid=383)\u001b[0m Memory usage on this node: 2.1/15.6 GiB\n",
      "\u001b[2m\u001b[36m(pid=383)\u001b[0m Using AsyncHyperBand: num_stopped=14\n",
      "\u001b[2m\u001b[36m(pid=383)\u001b[0m Bracket: Iter 64.000: None | Iter 16.000: None | Iter 4.000: 0.190625 | Iter 1.000: 0.15\n",
      "\u001b[2m\u001b[36m(pid=383)\u001b[0m Resources requested: 0/16 CPUs, 0/0 GPUs, 0.0/11.2 GiB heap, 0.0/5.09 GiB objects (0.0/3.0 example-resource-a, 0.0/3.0 example-resource-b)\n",
      "\u001b[2m\u001b[36m(pid=383)\u001b[0m Result logdir: /home/ray/ray_results/train_mnist_2021-08-23_07-28-01\n",
      "\u001b[2m\u001b[36m(pid=383)\u001b[0m Number of trials: 20/20 (20 TERMINATED)\n",
      "\u001b[2m\u001b[36m(pid=383)\u001b[0m \n",
      "\u001b[2m\u001b[36m(pid=383)\u001b[0m \n"
     ]
    },
    {
     "name": "stderr",
     "output_type": "stream",
     "text": [
      "\u001b[2m\u001b[36m(pid=383)\u001b[0m 2021-08-23 07:28:09,339\tINFO tune.py:550 -- Total run time: 8.21 seconds (8.03 seconds for the tuning loop).\n"
     ]
    }
   ],
   "source": [
    "analysis = tune.run(\n",
    "    train_mnist,\n",
    "    num_samples=20,\n",
    "    scheduler=ASHAScheduler(metric=\"mean_accuracy\", mode=\"max\"),\n",
    "    config=search_space,\n",
    "     verbose = 1)"
   ]
  },
  {
   "cell_type": "code",
   "execution_count": 25,
   "id": "75ed53e1",
   "metadata": {},
   "outputs": [
    {
     "data": {
      "image/png": "[encoded data removed]",
      "text/plain": [
       "<Figure size 432x288 with 1 Axes>"
      ]
     },
     "metadata": {
      "needs_background": "light"
     },
     "output_type": "display_data"
    }
   ],
   "source": [
    "# Obtain a trial dataframe from all run trials of this `tune.run` call.\n",
    "dfs = analysis.trial_dataframes\n",
    "\n",
    "# Plot by epoch\n",
    "ax = None  # This plots everything on the same plot\n",
    "for d in dfs.values():\n",
    "    ax = d.mean_accuracy.plot(ax=ax, legend=False)"
   ]
  },
  {
   "cell_type": "code",
   "execution_count": 21,
   "id": "e97ec8ce",
   "metadata": {},
   "outputs": [
    {
     "name": "stdout",
     "output_type": "stream",
     "text": [
      "Deleting ray-worker-b629b041-9f6c-49c3-bb7c-4f338b0d49b9\n",
      "Deleting ray-worker-cee4eb89-6773-4c15-9e80-35b79ae5a181\n"
     ]
    }
   ],
   "source": [
    "stop_ray_cluster(ray_cluster)"
   ]
  },
  {
   "cell_type": "code",
   "execution_count": null,
   "id": "2534887e",
   "metadata": {},
   "outputs": [],
   "source": []
  }
 ],
 "metadata": {
  "kernelspec": {
   "display_name": "Python [conda env:root] *",
   "language": "python",
   "name": "conda-root-py"
  },
  "language_info": {
   "codemirror_mode": {
    "name": "ipython",
    "version": 3
   },
   "file_extension": ".py",
   "mimetype": "text/x-python",
   "name": "python",
   "nbconvert_exporter": "python",
   "pygments_lexer": "ipython3",
   "version": "3.8.10"
  }
 },
 "nbformat": 4,
 "nbformat_minor": 5
}
