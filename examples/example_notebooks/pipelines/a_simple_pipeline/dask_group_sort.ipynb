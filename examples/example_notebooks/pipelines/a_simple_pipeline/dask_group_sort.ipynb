{
 "cells": [
  {
   "cell_type": "markdown",
   "id": "2a5571b1",
   "metadata": {},
   "source": [
    "## DASK groupby and sorting on Hyperplane "
   ]
  },
  {
   "cell_type": "code",
   "execution_count": 1,
   "id": "3df64229",
   "metadata": {},
   "outputs": [],
   "source": [
    "import warnings\n",
    "import os\n",
    "import sys\n",
    "import pandas as pd\n",
    "import numpy as np\n",
    "import dask\n",
    "import dask.dataframe as dd\n",
    "from dask.distributed import Client\n",
    "from typing import List, Set, Dict, Tuple, Optional\n",
    "import types\n",
    "from google.cloud import storage\n",
    "from tqdm.notebook import tqdm\n",
    "\n",
    "import matplotlib\n",
    "matplotlib.use('Agg')\n",
    "import matplotlib.pyplot as plt \n",
    "%matplotlib inline\n",
    "\n",
    "pd.options.display.max_rows = 999\n",
    "warnings.filterwarnings('ignore')\n",
    "\n",
    "from hyperplane import notebook_common as nc"
   ]
  },
  {
   "cell_type": "markdown",
   "id": "c16eeeb3",
   "metadata": {},
   "source": [
    "###  set parameters \n",
    "A parameter cell is marked by clicking on the cog symbol at the top right corner.\n",
    "Variables set in this cell will then become environment variable and can be overwritten by injected parameters when running notebook as a pipeline job.\n"
   ]
  },
  {
   "cell_type": "code",
   "execution_count": 2,
   "id": "9c714fe6",
   "metadata": {
    "tags": [
     "parameters"
    ]
   },
   "outputs": [],
   "source": [
    "year = \"199*\""
   ]
  },
  {
   "cell_type": "code",
   "execution_count": 3,
   "id": "007a1c8f",
   "metadata": {},
   "outputs": [
    {
     "data": {
      "text/plain": [
       "'s3://dask-data/airline-data/199*.csv'"
      ]
     },
     "execution_count": 3,
     "metadata": {},
     "output_type": "execute_result"
    }
   ],
   "source": [
    "data_url = f\"s3://dask-data/airline-data/{year}.csv\"\n",
    "data_url"
   ]
  },
  {
   "cell_type": "markdown",
   "id": "21dc344e",
   "metadata": {},
   "source": [
    "#### Below is the one liner to scale up the job to kubernetes"
   ]
  },
  {
   "cell_type": "code",
   "execution_count": 4,
   "id": "d0911a29",
   "metadata": {},
   "outputs": [
    {
     "name": "stdout",
     "output_type": "stream",
     "text": [
      "👉 Hyperplane: selecting worker node pool\n",
      "👉 Hyperplane: selecting scheduler node pool\n",
      "Creating scheduler pod on cluster. This may take some time.\n",
      "👉 Hyperplane: spinning up a dask cluster with a scheduler as a standalone container.\n",
      "👉 Hyperplane: In a few minutes you'll be able to access the dashboard at https://ds.hyperplane.dev/dask-cluster-a71138c2-92c7-4870-b200-69e10989c489/status\n",
      "👉 Hyperplane: to get logs from all workers, do `cluster.get_logs()`\n"
     ]
    }
   ],
   "source": [
    "client, cluster = nc.initialize_cluster(\n",
    "        nprocs=3,\n",
    "        nthreads=5,\n",
    "        ram_gb_per_proc = 4,\n",
    "        cores_per_worker=15,\n",
    "        scheduler_deploy_mode=\"remote\",\n",
    "        num_workers = 3\n",
    "    )\n"
   ]
  },
  {
   "cell_type": "code",
   "execution_count": 5,
   "id": "2fe9aa85",
   "metadata": {},
   "outputs": [
    {
     "name": "stdout",
     "output_type": "stream",
     "text": [
      "CPU times: user 798 ms, sys: 70.9 ms, total: 869 ms\n",
      "Wall time: 18.8 s\n"
     ]
    },
    {
     "data": {
      "text/html": [
       "<div>\n",
       "<style scoped>\n",
       "    .dataframe tbody tr th:only-of-type {\n",
       "        vertical-align: middle;\n",
       "    }\n",
       "\n",
       "    .dataframe tbody tr th {\n",
       "        vertical-align: top;\n",
       "    }\n",
       "\n",
       "    .dataframe thead th {\n",
       "        text-align: right;\n",
       "    }\n",
       "</style>\n",
       "<table border=\"1\" class=\"dataframe\">\n",
       "  <thead>\n",
       "    <tr style=\"text-align: right;\">\n",
       "      <th></th>\n",
       "      <th></th>\n",
       "      <th>DepTime</th>\n",
       "      <th>FlightNum</th>\n",
       "      <th>DepDelay</th>\n",
       "      <th>Origin</th>\n",
       "      <th>Dest</th>\n",
       "      <th>Distance</th>\n",
       "    </tr>\n",
       "    <tr>\n",
       "      <th>Origin</th>\n",
       "      <th></th>\n",
       "      <th></th>\n",
       "      <th></th>\n",
       "      <th></th>\n",
       "      <th></th>\n",
       "      <th></th>\n",
       "      <th></th>\n",
       "    </tr>\n",
       "  </thead>\n",
       "  <tbody>\n",
       "    <tr>\n",
       "      <th rowspan=\"5\" valign=\"top\">ROA</th>\n",
       "      <th>65653</th>\n",
       "      <td>1140.0</td>\n",
       "      <td>1777</td>\n",
       "      <td>0.0</td>\n",
       "      <td>ROA</td>\n",
       "      <td>LGA</td>\n",
       "      <td>405.0</td>\n",
       "    </tr>\n",
       "    <tr>\n",
       "      <th>65654</th>\n",
       "      <td>1142.0</td>\n",
       "      <td>1777</td>\n",
       "      <td>2.0</td>\n",
       "      <td>ROA</td>\n",
       "      <td>LGA</td>\n",
       "      <td>405.0</td>\n",
       "    </tr>\n",
       "    <tr>\n",
       "      <th>65655</th>\n",
       "      <td>1140.0</td>\n",
       "      <td>1777</td>\n",
       "      <td>0.0</td>\n",
       "      <td>ROA</td>\n",
       "      <td>LGA</td>\n",
       "      <td>405.0</td>\n",
       "    </tr>\n",
       "    <tr>\n",
       "      <th>65656</th>\n",
       "      <td>NaN</td>\n",
       "      <td>1777</td>\n",
       "      <td>NaN</td>\n",
       "      <td>ROA</td>\n",
       "      <td>LGA</td>\n",
       "      <td>405.0</td>\n",
       "    </tr>\n",
       "    <tr>\n",
       "      <th>65657</th>\n",
       "      <td>1140.0</td>\n",
       "      <td>1777</td>\n",
       "      <td>0.0</td>\n",
       "      <td>ROA</td>\n",
       "      <td>LGA</td>\n",
       "      <td>405.0</td>\n",
       "    </tr>\n",
       "    <tr>\n",
       "      <th>...</th>\n",
       "      <th>...</th>\n",
       "      <td>...</td>\n",
       "      <td>...</td>\n",
       "      <td>...</td>\n",
       "      <td>...</td>\n",
       "      <td>...</td>\n",
       "      <td>...</td>\n",
       "    </tr>\n",
       "    <tr>\n",
       "      <th rowspan=\"5\" valign=\"top\">ITH</th>\n",
       "      <th>11497</th>\n",
       "      <td>800.0</td>\n",
       "      <td>253</td>\n",
       "      <td>0.0</td>\n",
       "      <td>ITH</td>\n",
       "      <td>PIT</td>\n",
       "      <td>239.0</td>\n",
       "    </tr>\n",
       "    <tr>\n",
       "      <th>11498</th>\n",
       "      <td>800.0</td>\n",
       "      <td>253</td>\n",
       "      <td>0.0</td>\n",
       "      <td>ITH</td>\n",
       "      <td>PIT</td>\n",
       "      <td>239.0</td>\n",
       "    </tr>\n",
       "    <tr>\n",
       "      <th>11499</th>\n",
       "      <td>800.0</td>\n",
       "      <td>253</td>\n",
       "      <td>0.0</td>\n",
       "      <td>ITH</td>\n",
       "      <td>PIT</td>\n",
       "      <td>239.0</td>\n",
       "    </tr>\n",
       "    <tr>\n",
       "      <th>11500</th>\n",
       "      <td>800.0</td>\n",
       "      <td>253</td>\n",
       "      <td>0.0</td>\n",
       "      <td>ITH</td>\n",
       "      <td>PIT</td>\n",
       "      <td>239.0</td>\n",
       "    </tr>\n",
       "    <tr>\n",
       "      <th>11501</th>\n",
       "      <td>800.0</td>\n",
       "      <td>253</td>\n",
       "      <td>0.0</td>\n",
       "      <td>ITH</td>\n",
       "      <td>PIT</td>\n",
       "      <td>239.0</td>\n",
       "    </tr>\n",
       "  </tbody>\n",
       "</table>\n",
       "<p>2541 rows × 6 columns</p>\n",
       "</div>"
      ],
      "text/plain": [
       "              DepTime  FlightNum  DepDelay Origin Dest  Distance\n",
       "Origin                                                          \n",
       "ROA    65653   1140.0       1777       0.0    ROA  LGA     405.0\n",
       "       65654   1142.0       1777       2.0    ROA  LGA     405.0\n",
       "       65655   1140.0       1777       0.0    ROA  LGA     405.0\n",
       "       65656      NaN       1777       NaN    ROA  LGA     405.0\n",
       "       65657   1140.0       1777       0.0    ROA  LGA     405.0\n",
       "...               ...        ...       ...    ...  ...       ...\n",
       "ITH    11497    800.0        253       0.0    ITH  PIT     239.0\n",
       "       11498    800.0        253       0.0    ITH  PIT     239.0\n",
       "       11499    800.0        253       0.0    ITH  PIT     239.0\n",
       "       11500    800.0        253       0.0    ITH  PIT     239.0\n",
       "       11501    800.0        253       0.0    ITH  PIT     239.0\n",
       "\n",
       "[2541 rows x 6 columns]"
      ]
     },
     "execution_count": 5,
     "metadata": {},
     "output_type": "execute_result"
    }
   ],
   "source": [
    "%%time\n",
    "df = dd.read_csv(data_url, \n",
    "                 storage_options = {'anon': True},\n",
    "                usecols = ['DepTime','FlightNum','DepDelay','Origin', 'Dest','Distance'],\n",
    "                dtype={'Distance': 'float64',\n",
    "                      'DepTime':'float64',\n",
    "                      'FlightNum':'int64',\n",
    "                      'DepDelay':'float64',\n",
    "                      'Dest':'object',\n",
    "                      }, \n",
    "                encoding = \"ISO-8859-1\")\n",
    "df_sort = df.groupby('Origin').apply(lambda x : x.nlargest(n = 10, columns = 'Distance'))\n",
    "df_sort.compute()"
   ]
  },
  {
   "cell_type": "markdown",
   "id": "50764fae",
   "metadata": {},
   "source": [
    "## Compare with pandas \n",
    "- will run **out of memory** for this operation with data from 1999 to 1999 2.5G\n",
    "- took 21 second for one year of data, if process all 10 years one by one will take at least **3.5mins**"
   ]
  },
  {
   "cell_type": "code",
   "execution_count": 1,
   "id": "d81d42f3",
   "metadata": {},
   "outputs": [
    {
     "name": "stdout",
     "output_type": "stream",
     "text": [
      "CPU times: user 9.29 s, sys: 1.56 s, total: 10.8 s\n",
      "Wall time: 21 s\n"
     ]
    }
   ],
   "source": [
    "%%time\n",
    "import pandas as pd\n",
    "df_pd = pd.read_csv(\"s3://dask-data/airline-data/1990.csv\", \n",
    "                    usecols = ['DepTime','FlightNum','DepDelay','Origin', 'Dest','Distance'])\n",
    "df_sort_pd = df_pd.groupby('Origin').apply(lambda x : x.nlargest(n = 10, columns = 'Distance'))"
   ]
  },
  {
   "cell_type": "markdown",
   "id": "dade6b1c",
   "metadata": {},
   "source": [
    "## close cluster after done\n",
    "It's a good idea to close the cluster after use. If you forgot to add this cell, don't worry :) Hyperplane will automatically garbage collect the node after it detects it's being idle for a bit\n"
   ]
  },
  {
   "cell_type": "code",
   "execution_count": 8,
   "id": "f13947c7",
   "metadata": {},
   "outputs": [],
   "source": [
    "cluster.close()"
   ]
  },
  {
   "cell_type": "code",
   "execution_count": null,
   "id": "7b2f037c",
   "metadata": {},
   "outputs": [],
   "source": []
  }
 ],
 "metadata": {
  "kernelspec": {
   "display_name": "Python [conda env:root] *",
   "language": "python",
   "name": "conda-root-py"
  },
  "language_info": {
   "codemirror_mode": {
    "name": "ipython",
    "version": 3
   },
   "file_extension": ".py",
   "mimetype": "text/x-python",
   "name": "python",
   "nbconvert_exporter": "python",
   "pygments_lexer": "ipython3",
   "version": "3.8.10"
  }
 },
 "nbformat": 4,
 "nbformat_minor": 5
}
