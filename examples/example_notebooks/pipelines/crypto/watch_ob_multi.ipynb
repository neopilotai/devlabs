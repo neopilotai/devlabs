{
 "cells": [
  {
   "cell_type": "markdown",
   "id": "deff5e3c-7789-4a7e-84ad-3e6da2279aaf",
   "metadata": {},
   "source": [
    "## Watch OrderBook of multiple ticker pair and multiple exchange asynchronous  \n",
    "- this code runs on the `crypto` image \n",
    "- you can change the `slack_channel` to a your existing slack channel to get alert to the job\n",
    "- you can use the `pipeline.yaml` to spin up a `Hyperplane service` to watch the orderbook indefinitly "
   ]
  },
  {
   "cell_type": "code",
   "execution_count": 2,
   "id": "26a17fa6-9e70-47c7-a9fc-71528cc7be54",
   "metadata": {},
   "outputs": [],
   "source": [
    "import warnings\n",
    "warnings.filterwarnings(\"ignore\")\n",
    "\n",
    "import json\n",
    "import os\n",
    "import ccxtpro\n",
    "import ccxt\n",
    "import asyncio\n",
    "import pandas as pd\n",
    "import numpy as np\n",
    "import time\n",
    "from datetime import datetime, timedelta\n",
    "import traceback\n",
    "\n",
    "import nest_asyncio\n",
    "nest_asyncio.apply()\n",
    "\n",
    "## initialize a slack notification for trades or other alerts\n",
    "from hyperplane import notebook_common as nc\n",
    "sh = nc.SlackHelper()"
   ]
  },
  {
   "cell_type": "code",
   "execution_count": 4,
   "id": "afab5fb3-1676-47d5-accd-be40017e3989",
   "metadata": {},
   "outputs": [],
   "source": []
  },
  {
   "cell_type": "code",
   "execution_count": 5,
   "id": "1ef92959-ebd5-4c2d-bd1e-713c44e6d514",
   "metadata": {
    "tags": [
     "parameters"
    ]
   },
   "outputs": [],
   "source": [
    "## parameters can be injected when spijn up the jobs\n",
    "\n",
    "slack_channel = '#orderbook'\n",
    "\n",
    "exchanges = {\n",
    "        'kucoin': ['BTC/USDT', 'ETH/BTC', 'ETH/USDT'],\n",
    "        'binance': ['BTC/USDT', 'ETH/USDT','XRP/USDT']\n",
    "    }"
   ]
  },
  {
   "cell_type": "markdown",
   "id": "030c37f4-5c00-4bc8-84c1-9924e6de6c37",
   "metadata": {},
   "source": [
    "## Watch multiple orderbooks \n",
    "- available apis : watch_trades, watch_ticker, watch_orderbook, watch_market, watchOHLCV"
   ]
  },
  {
   "cell_type": "code",
   "execution_count": 22,
   "id": "28052eb3-96f5-4784-9ec7-4cc6d3ddce9c",
   "metadata": {},
   "outputs": [],
   "source": [
    "orderbooks = {}\n",
    "\n",
    "def handle_all_orderbooks(orderbooks):\n",
    "    \"\"\"your function to use the OrderBooks\"\"\"\n",
    "#     print('We have the following orderbooks:')\n",
    "    for exchange_id, orderbooks_by_symbol in orderbooks.items():\n",
    "        for symbol in orderbooks_by_symbol.keys():\n",
    "            orderbook = orderbooks_by_symbol[symbol]\n",
    "            print(ccxtpro.Exchange.iso8601(orderbook['timestamp']), exchange_id, symbol, \n",
    "                  orderbook['asks'][0], orderbook['bids'][0])\n",
    "            # print(orderbook)"
   ]
  },
  {
   "cell_type": "code",
   "execution_count": 23,
   "id": "6a007133-1f83-465c-bb5b-a8131d946990",
   "metadata": {},
   "outputs": [],
   "source": [
    "async def loop(asyncio_loop, exchange_id, symbol):\n",
    "    exchange = getattr(ccxtpro, exchange_id)({\n",
    "        'enableRateLimit': True,\n",
    "        'asyncio_loop': asyncio_loop,\n",
    "    })\n",
    "    \n",
    "    output_parent_path = f\"gs://{os.environ['HYPERPLANE_GCP_BUCKET']}/data/crypto_trading/{exchange_id}\"\n",
    "    logs = []\n",
    "    \n",
    "    starttime = time.time()\n",
    "    starttime_h = datetime.fromtimestamp(starttime).strftime(\"%Y-%m-%d %I:%M:%S\")\n",
    "    sh.post_message(json.dumps({'starttime_h': \"test\"}), channel=slack_channel)\n",
    "\n",
    "    while True:\n",
    "        try:\n",
    "            orderbook = await exchange.watch_order_book(symbol, limit = 10)\n",
    "            orderbooks[exchange.id] = orderbooks.get(exchange.id, {})\n",
    "            orderbooks[exchange.id][symbol] = orderbook\n",
    "            print('===========================================================')\n",
    "            # print(type(orderbooks), orderbooks.keys())\n",
    "            ## code for profit calculation and order \n",
    "\n",
    "            sh.post_message(json.dumps({'orderbooks': orderbooks}), channel=slack_channel)\n",
    "            \n",
    "            handle_all_orderbooks(orderbooks)\n",
    "            \n",
    "        except Exception as e:\n",
    "            print(str(e))\n",
    "            # raise e  # uncomment to break all loops in case of an error in any one of them\n",
    "            # break  # uncomment to break just this one loop if it fails\n",
    "    await exchange.close()"
   ]
  },
  {
   "cell_type": "code",
   "execution_count": 24,
   "id": "f516d1da-163a-48e0-b6bc-83018d36b106",
   "metadata": {},
   "outputs": [
    {
     "name": "stdout",
     "output_type": "stream",
     "text": [
      "symbols ['BTC/USDT', 'ETH/USDT']\n",
      "===========================================================\n",
      "None binance ETH/USDT [2587.04, 9.3855] [2587.03, 0.0386]\n",
      "===========================================================\n",
      "None binance ETH/USDT [2587.04, 9.3855] [2587.03, 0.0386]\n",
      "None binance BTC/USDT [37870.02, 1.86727] [37870.01, 1e-05]\n",
      "===========================================================\n",
      "2022-01-29T20:18:27.411Z binance ETH/USDT [2587.04, 9.3855] [2587.03, 0.0386]\n",
      "None binance BTC/USDT [37870.02, 1.86727] [37870.01, 1e-05]\n",
      "===========================================================\n",
      "2022-01-29T20:18:27.411Z binance ETH/USDT [2587.04, 9.3855] [2587.03, 0.0386]\n",
      "2022-01-29T20:18:27.411Z binance BTC/USDT [37870.02, 1.09138] [37870.01, 0.21132]\n"
     ]
    }
   ],
   "source": [
    "async def main(asyncio_loop):\n",
    "    symbols = [f\"{t}/{base_ticker}\" for t in trade_ticker]\n",
    "    print('symbols', symbols)\n",
    "    exchanges = {\n",
    "        exchange: symbols,\n",
    "    }\n",
    "    loops = [loop(asyncio_loop, exchange_id, symbol) for exchange_id, symbols in exchanges.items() for symbol in symbols]\n",
    "    await asyncio.gather(*loops)\n",
    "\n",
    "\n",
    "if __name__ == '__main__':\n",
    "    asyncio_loop = asyncio.get_event_loop()\n",
    "    asyncio_loop.run_until_complete(main(asyncio_loop))"
   ]
  },
  {
   "cell_type": "code",
   "execution_count": null,
   "id": "0816123c-8d23-4cbf-a55a-58d65d54ef9b",
   "metadata": {},
   "outputs": [],
   "source": []
  }
 ],
 "metadata": {
  "kernelspec": {
   "display_name": "Python 3 (ipykernel)",
   "language": "python",
   "name": "python3"
  },
  "language_info": {
   "codemirror_mode": {
    "name": "ipython",
    "version": 3
   },
   "file_extension": ".py",
   "mimetype": "text/x-python",
   "name": "python",
   "nbconvert_exporter": "python",
   "pygments_lexer": "ipython3",
   "version": "3.8.10"
  }
 },
 "nbformat": 4,
 "nbformat_minor": 5
}
