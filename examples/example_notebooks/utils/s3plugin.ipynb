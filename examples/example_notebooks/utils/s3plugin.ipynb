{
 "cells": [
  {
   "cell_type": "markdown",
   "id": "6e82ddaa",
   "metadata": {},
   "source": [
    "## S3 plugin to download data to dask workers"
   ]
  },
  {
   "cell_type": "code",
   "execution_count": null,
   "id": "4258997f",
   "metadata": {},
   "outputs": [],
   "source": [
    "!pip install boto3 --quiet\n",
    "!pip install s3urls --quiet"
   ]
  },
  {
   "cell_type": "markdown",
   "id": "fb4535f4",
   "metadata": {},
   "source": [
    "### customized dask worker plugin for files and gz files"
   ]
  },
  {
   "cell_type": "code",
   "execution_count": 1,
   "id": "a5878f47",
   "metadata": {},
   "outputs": [],
   "source": [
    "from distributed.diagnostics.plugin import WorkerPlugin\n",
    "class S3DownloadPlugin(WorkerPlugin):\n",
    "    def __init__(self, s3Url, filename):\n",
    "        self.s3Url = s3Url\n",
    "        self.filename = filename\n",
    "        \n",
    "    def setup(self, worker):\n",
    "        self.worker = worker\n",
    "        import boto3\n",
    "        import click\n",
    "        from s3urls import parse_url\n",
    "        import tarfile\n",
    "\n",
    "        import logging, traceback, sys, os    \n",
    "        logger = logging.getLogger(\"embeddings microservice\")\n",
    "        logger.debug(\"downloading file...\")\n",
    "        vocab_parsed_url = parse_url(self.s3Url)\n",
    "        s3 = boto3.client('s3')\n",
    "        s3.download_file(vocab_parsed_url['bucket'], vocab_parsed_url['key'], self.filename)\n",
    "        logger.debug(\"done downloading....\")\n",
    "        logger.debug(\"extracting....\")\n",
    "        if self.filename.endswith(\"tar.gz\") or self.filename.endswith(\"tgz\"):\n",
    "            tar = tarfile.open(self.filename, \"r:gz\")\n",
    "            tar.extractall(path='/tmp/')\n",
    "            tar.close()\n",
    "            os.remove(self.filename)\n",
    "            logger.debug(\"done extracting....\")"
   ]
  },
  {
   "cell_type": "code",
   "execution_count": 2,
   "id": "43fd1edb",
   "metadata": {},
   "outputs": [
    {
     "name": "stdout",
     "output_type": "stream",
     "text": [
      "s3://d2v-tmp/demo/data/aclImdb_v1.tar.gz\n"
     ]
    }
   ],
   "source": [
    "## this is the file you want to download to dask workers, here assumes it's sitting in a s3 bucket \n",
    "tgz_file_global = \"aclImdb_v1.tar.gz\"\n",
    "s3Url=f\"s3://d2v-tmp/demo/data/{tgz_file_global}\"\n",
    "filename=tgz_file_global\n",
    "print(s3Url)"
   ]
  },
  {
   "cell_type": "markdown",
   "id": "55bb1331",
   "metadata": {},
   "source": [
    "## Download data to local "
   ]
  },
  {
   "cell_type": "code",
   "execution_count": 9,
   "id": "ec46cc7d",
   "metadata": {},
   "outputs": [],
   "source": [
    "import boto3\n",
    "import click\n",
    "from s3urls import parse_url\n",
    "import tarfile\n",
    "\n",
    "import logging, traceback, sys, os    \n",
    "vocab_parsed_url = parse_url(s3Url)\n",
    "s3 = boto3.client('s3')\n",
    "s3.download_file(vocab_parsed_url['bucket'], vocab_parsed_url['key'], filename)"
   ]
  },
  {
   "cell_type": "markdown",
   "id": "fee1a5e7",
   "metadata": {},
   "source": [
    "## Upload data to dask wokers"
   ]
  },
  {
   "cell_type": "code",
   "execution_count": 4,
   "id": "3b275fdc",
   "metadata": {},
   "outputs": [
    {
     "name": "stdout",
     "output_type": "stream",
     "text": [
      "👉 Hyperplane: selecting worker node pool\n",
      "👉 Hyperplane: selecting scheduler node pool\n",
      "Creating scheduler pod on cluster. This may take some time.\n",
      "👉 Hyperplane: spinning up a dask cluster with a scheduler as a standalone container.\n",
      "👉 Hyperplane: In a few minutes you'll be able to access the dashboard at https://ds.hyperplane.dev/dask-cluster-45548bff-fd74-4136-8efa-8fde70d27961/status\n",
      "👉 Hyperplane: to get logs from all workers, do `cluster.get_logs()`\n"
     ]
    }
   ],
   "source": [
    "from hyperplane import notebook_common as nc\n",
    "client, cluster = nc.initialize_cluster(num_workers=1)"
   ]
  },
  {
   "cell_type": "markdown",
   "id": "85731ca9",
   "metadata": {},
   "source": [
    "## Upload file to remote workers and extract if it's a compressed file\n",
    "- first install necessary packages on the workers \n",
    "- wait for 30 seconds for all workers to finish installation before moving to the next step"
   ]
  },
  {
   "cell_type": "code",
   "execution_count": null,
   "id": "df1fa98c",
   "metadata": {
    "tags": []
   },
   "outputs": [],
   "source": [
    "from dask.distributed import PipInstall\n",
    "import time\n",
    "plugin = PipInstall(packages=[\"boto3\", \"s3urls\", \"botocore\", \"click\"], pip_options=[\"--upgrade\"])\n",
    "client.register_worker_plugin(plugin)"
   ]
  },
  {
   "cell_type": "code",
   "execution_count": null,
   "id": "740742b1",
   "metadata": {},
   "outputs": [],
   "source": [
    "client.register_worker_plugin(S3DownloadPlugin(s3Url=s3Url, filename=tgz_file_global))"
   ]
  },
  {
   "cell_type": "code",
   "execution_count": 17,
   "id": "5616d2a8",
   "metadata": {},
   "outputs": [],
   "source": [
    "cluster.close()"
   ]
  },
  {
   "cell_type": "code",
   "execution_count": null,
   "id": "76d6cfae",
   "metadata": {},
   "outputs": [],
   "source": []
  }
 ],
 "metadata": {
  "kernelspec": {
   "display_name": "Python [conda env:root] *",
   "language": "python",
   "name": "conda-root-py"
  },
  "language_info": {
   "codemirror_mode": {
    "name": "ipython",
    "version": 3
   },
   "file_extension": ".py",
   "mimetype": "text/x-python",
   "name": "python",
   "nbconvert_exporter": "python",
   "pygments_lexer": "ipython3",
   "version": "3.8.10"
  }
 },
 "nbformat": 4,
 "nbformat_minor": 5
}
