{
 "cells": [
  {
   "cell_type": "markdown",
   "id": "66400b02",
   "metadata": {},
   "source": [
    "\n",
    "### Example of submit GraphQL query with the `graphql_operation` function"
   ]
  },
  {
   "cell_type": "code",
   "execution_count": 7,
   "id": "7a025c40",
   "metadata": {},
   "outputs": [],
   "source": [
    "from hyperplane.notebook_common import graphql_operation\n",
    "import numpy as np"
   ]
  },
  {
   "cell_type": "markdown",
   "id": "237e53e3",
   "metadata": {},
   "source": [
    "## submit one job"
   ]
  },
  {
   "cell_type": "code",
   "execution_count": 36,
   "id": "ba283457",
   "metadata": {},
   "outputs": [],
   "source": [
    "gql_query = \"\"\"\n",
    "    mutation submitJob {\n",
    "      createPipelineJob(\n",
    "        data: {\n",
    "          jobType: \"basic\"\n",
    "          timeout: 1800\n",
    "          activeTimeout: 1800\n",
    "          maxRetries: 1\n",
    "          pipelineYamlPath: \"crypto-bot/balance_pipeline/get_balances.yaml\"\n",
    "        }\n",
    "      ) {\n",
    "        id\n",
    "        status\n",
    "      }\n",
    "    }\n",
    "\n",
    "\"\"\" "
   ]
  },
  {
   "cell_type": "code",
   "execution_count": 37,
   "id": "19d0a352",
   "metadata": {},
   "outputs": [
    {
     "name": "stdout",
     "output_type": "stream",
     "text": [
      "[{'createPipelineJob': {'id': 'cdd1e16c-9e42-4d2d-add7-12d974cf0d08', 'status': 'pending'}}]\n"
     ]
    }
   ],
   "source": [
    "### the graphql_operation funcition is a async function so we add await. \n",
    "data = await graphql_operation(gql_query)\n",
    "print(data)"
   ]
  },
  {
   "cell_type": "markdown",
   "id": "1b5098b2",
   "metadata": {},
   "source": [
    "## submit with parameters"
   ]
  },
  {
   "cell_type": "code",
   "execution_count": 32,
   "id": "76063976",
   "metadata": {},
   "outputs": [
    {
     "data": {
      "text/plain": [
       "[{'createPipelineJob': {'id': 'bf63b1c4-1a92-4ce3-bbac-e2e590241c3e',\n",
       "   'status': 'pending'}}]"
      ]
     },
     "execution_count": 32,
     "metadata": {},
     "output_type": "execute_result"
    }
   ],
   "source": [
    "timeout = 180\n",
    "max_retries = 1\n",
    "param = \"param1\"\n",
    "\n",
    "gql_query = \"\"\"\n",
    "    mutation submitModel { \n",
    "      createPipelineJob (data: {\n",
    "        jobType: \"basic\",\n",
    "        timeout: %d,\n",
    "        maxRetries: %d,\n",
    "        pipelineYamlPath: \"example.yaml\",\n",
    "        parameters: {\n",
    "          create: [\n",
    "            {key: \"param1\", value: \"%s\"},\n",
    "          ]\n",
    "        }\n",
    "      }) { \n",
    "        id \n",
    "        status\n",
    "\n",
    "      } \n",
    "    }\n",
    "    \"\"\" % (timeout, max_retries, param)\n",
    "\n",
    "data = await graphql_operation(gql_query)\n",
    "data"
   ]
  },
  {
   "cell_type": "code",
   "execution_count": null,
   "id": "00097b87",
   "metadata": {},
   "outputs": [],
   "source": []
  }
 ],
 "metadata": {
  "kernelspec": {
   "display_name": "Python [conda env:root] *",
   "language": "python",
   "name": "conda-root-py"
  },
  "language_info": {
   "codemirror_mode": {
    "name": "ipython",
    "version": 3
   },
   "file_extension": ".py",
   "mimetype": "text/x-python",
   "name": "python",
   "nbconvert_exporter": "python",
   "pygments_lexer": "ipython3",
   "version": "3.8.10"
  }
 },
 "nbformat": 4,
 "nbformat_minor": 5
}
