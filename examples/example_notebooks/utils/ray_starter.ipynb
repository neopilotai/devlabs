{
 "cells": [
  {
   "cell_type": "code",
   "execution_count": null,
   "id": "31f5f060-610d-44d1-ac83-938c82870904",
   "metadata": {},
   "outputs": [],
   "source": [
    "from hyperplane.ray_common import initialize_ray_cluster, stop_ray_cluster, find_ray_workers\n",
    "num_workers = 2\n",
    "cpu_core_per_worker = 15\n",
    "ram_gb_per_worker = 12 #110 GB allocatible for 16_128 nodes, 12 for 16_16 nodes, 27 for 32_32 nodes\n",
    "ray_cluster = initialize_ray_cluster(num_workers, cpu_core_per_worker, ram_gb_per_worker)"
   ]
  },
  {
   "cell_type": "code",
   "execution_count": null,
   "id": "42fc1e86-ee3e-4b18-8b3a-2a7a73b25b61",
   "metadata": {},
   "outputs": [],
   "source": [
    "import ray\n",
    "# Create a Dataset of Python objects.\n",
    "ds = ray.data.range(10000)\n",
    "ds"
   ]
  },
  {
   "cell_type": "code",
   "execution_count": null,
   "id": "a8561398-4bc6-43c5-aab5-516f156c8e02",
   "metadata": {},
   "outputs": [],
   "source": [
    "import pyarrow\n",
    "pyarrow.__version__"
   ]
  },
  {
   "cell_type": "code",
   "execution_count": null,
   "id": "724f59e5-a70a-4ce2-8eef-e598b106af75",
   "metadata": {},
   "outputs": [],
   "source": [
    "ds.take(5)"
   ]
  },
  {
   "cell_type": "code",
   "execution_count": null,
   "id": "5386dfd4-7073-4165-8a5d-da346705a23a",
   "metadata": {},
   "outputs": [],
   "source": [
    "ds.count()"
   ]
  },
  {
   "cell_type": "code",
   "execution_count": null,
   "id": "8710a815-db9e-4bc6-a477-a5cc21ef1dbd",
   "metadata": {},
   "outputs": [],
   "source": [
    "# Create a Dataset of Arrow records.\n",
    "ds = ray.data.from_items([{\"col1\": i, \"col2\": str(i)} for i in range(10000)])"
   ]
  },
  {
   "cell_type": "code",
   "execution_count": null,
   "id": "db5cc7ea-12d3-4ca8-a597-47058695e71c",
   "metadata": {},
   "outputs": [],
   "source": [
    "ds.show(5)"
   ]
  },
  {
   "cell_type": "code",
   "execution_count": null,
   "id": "6b013285-e164-493e-80e0-32f7885e4cf6",
   "metadata": {},
   "outputs": [],
   "source": [
    "ds.schema()"
   ]
  },
  {
   "cell_type": "code",
   "execution_count": null,
   "id": "335814b0-e935-4f75-8a9b-a49cf3b19996",
   "metadata": {},
   "outputs": [],
   "source": [
    "stop_ray_cluster(ray_cluster)"
   ]
  },
  {
   "cell_type": "code",
   "execution_count": null,
   "id": "91312729-f717-4655-8e8e-1607564b03ac",
   "metadata": {},
   "outputs": [],
   "source": []
  }
 ],
 "metadata": {
  "kernelspec": {
   "display_name": "Python [conda env:root] *",
   "language": "python",
   "name": "conda-root-py"
  },
  "language_info": {
   "codemirror_mode": {
    "name": "ipython",
    "version": 3
   },
   "file_extension": ".py",
   "mimetype": "text/x-python",
   "name": "python",
   "nbconvert_exporter": "python",
   "pygments_lexer": "ipython3",
   "version": "3.8.10"
  }
 },
 "nbformat": 4,
 "nbformat_minor": 5
}
