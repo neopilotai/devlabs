{
 "cells": [
  {
   "cell_type": "markdown",
   "id": "7fb81398",
   "metadata": {},
   "source": [
    "## Train an AutoML model to classify IoT signals"
   ]
  },
  {
   "cell_type": "code",
   "execution_count": 24,
   "id": "ab90540b",
   "metadata": {
    "scrolled": true,
    "tags": []
   },
   "outputs": [],
   "source": [
    "pip install -r requirements.txt --ignore-installed"
   ]
  },
  {
   "cell_type": "code",
   "execution_count": null,
   "id": "619e1ebe",
   "metadata": {},
   "outputs": [],
   "source": [
    "# First, we'll import pandas, a data processing and CSV file I/O library\n",
    "import warnings \n",
    "warnings.filterwarnings(\"ignore\")\n",
    "import pandas as pd; print(f\"pandas=={pd.__version__}\")\n",
    "import numpy as np\n",
    "import seaborn as sns\n",
    "sns.set_theme(style=\"white\", context=\"talk\")\n",
    "import matplotlib.pyplot as plt"
   ]
  },
  {
   "cell_type": "code",
   "execution_count": 2,
   "id": "23f690bd",
   "metadata": {},
   "outputs": [],
   "source": [
    "data_path = \"s3://shakdemo-aws/data/iot/iot_telemetry_data.csv\"\n",
    "label = 'motion'"
   ]
  },
  {
   "cell_type": "code",
   "execution_count": 4,
   "id": "8a0d8058",
   "metadata": {},
   "outputs": [
    {
     "name": "stdout",
     "output_type": "stream",
     "text": [
      "(405184, 9)\n"
     ]
    },
    {
     "data": {
      "text/html": [
       "<div>\n",
       "<style scoped>\n",
       "    .dataframe tbody tr th:only-of-type {\n",
       "        vertical-align: middle;\n",
       "    }\n",
       "\n",
       "    .dataframe tbody tr th {\n",
       "        vertical-align: top;\n",
       "    }\n",
       "\n",
       "    .dataframe thead th {\n",
       "        text-align: right;\n",
       "    }\n",
       "</style>\n",
       "<table border=\"1\" class=\"dataframe\">\n",
       "  <thead>\n",
       "    <tr style=\"text-align: right;\">\n",
       "      <th></th>\n",
       "      <th>ts</th>\n",
       "      <th>device</th>\n",
       "      <th>co</th>\n",
       "      <th>humidity</th>\n",
       "      <th>light</th>\n",
       "      <th>lpg</th>\n",
       "      <th>motion</th>\n",
       "      <th>smoke</th>\n",
       "      <th>temp</th>\n",
       "    </tr>\n",
       "  </thead>\n",
       "  <tbody>\n",
       "    <tr>\n",
       "      <th>0</th>\n",
       "      <td>1.594512e+09</td>\n",
       "      <td>b8:27:eb:bf:9d:51</td>\n",
       "      <td>0.004956</td>\n",
       "      <td>51.0</td>\n",
       "      <td>False</td>\n",
       "      <td>0.007651</td>\n",
       "      <td>False</td>\n",
       "      <td>0.020411</td>\n",
       "      <td>22.700000</td>\n",
       "    </tr>\n",
       "    <tr>\n",
       "      <th>1</th>\n",
       "      <td>1.594512e+09</td>\n",
       "      <td>00:0f:00:70:91:0a</td>\n",
       "      <td>0.002840</td>\n",
       "      <td>76.0</td>\n",
       "      <td>False</td>\n",
       "      <td>0.005114</td>\n",
       "      <td>False</td>\n",
       "      <td>0.013275</td>\n",
       "      <td>19.700001</td>\n",
       "    </tr>\n",
       "  </tbody>\n",
       "</table>\n",
       "</div>"
      ],
      "text/plain": [
       "             ts             device        co  humidity  light       lpg  \\\n",
       "0  1.594512e+09  b8:27:eb:bf:9d:51  0.004956      51.0  False  0.007651   \n",
       "1  1.594512e+09  00:0f:00:70:91:0a  0.002840      76.0  False  0.005114   \n",
       "\n",
       "   motion     smoke       temp  \n",
       "0   False  0.020411  22.700000  \n",
       "1   False  0.013275  19.700001  "
      ]
     },
     "execution_count": 4,
     "metadata": {},
     "output_type": "execute_result"
    }
   ],
   "source": [
    "data = pd.read_csv(data_path) \n",
    "print(data.shape)\n",
    "data.head(2)"
   ]
  },
  {
   "cell_type": "markdown",
   "id": "ce94f837",
   "metadata": {},
   "source": [
    "<a href=\"#results\">Go to Results</a>"
   ]
  },
  {
   "cell_type": "code",
   "execution_count": 5,
   "id": "522faf8d",
   "metadata": {},
   "outputs": [
    {
     "data": {
      "text/plain": [
       "False    0.99881\n",
       "True     0.00119\n",
       "Name: motion, dtype: float64"
      ]
     },
     "execution_count": 5,
     "metadata": {},
     "output_type": "execute_result"
    }
   ],
   "source": [
    "data[label].value_counts(normalize= True)"
   ]
  },
  {
   "cell_type": "code",
   "execution_count": 6,
   "id": "716c6f72",
   "metadata": {},
   "outputs": [
    {
     "data": {
      "text/plain": [
       "((405184,), (405184, 7))"
      ]
     },
     "execution_count": 6,
     "metadata": {},
     "output_type": "execute_result"
    }
   ],
   "source": [
    "y = data[label]\n",
    "X = data.drop([label, 'device'], axis= 1)\n",
    "y.shape, X.shape"
   ]
  },
  {
   "cell_type": "code",
   "execution_count": 7,
   "id": "f8172c44",
   "metadata": {},
   "outputs": [
    {
     "data": {
      "text/plain": [
       "((809404, 7), (809404,))"
      ]
     },
     "execution_count": 7,
     "metadata": {},
     "output_type": "execute_result"
    }
   ],
   "source": [
    "from imblearn.over_sampling import SMOTE \n",
    "sm = SMOTE(random_state=42)\n",
    "X, y = sm.fit_resample(X, y)\n",
    "X.shape, y.shape"
   ]
  },
  {
   "cell_type": "code",
   "execution_count": 8,
   "id": "1e6b3272",
   "metadata": {},
   "outputs": [
    {
     "data": {
      "text/plain": [
       "(809404, 8)"
      ]
     },
     "execution_count": 8,
     "metadata": {},
     "output_type": "execute_result"
    }
   ],
   "source": [
    "data = pd.concat([X, y], axis = 1)\n",
    "data.shape"
   ]
  },
  {
   "cell_type": "code",
   "execution_count": 9,
   "id": "d831892d",
   "metadata": {},
   "outputs": [
    {
     "data": {
      "text/plain": [
       "False    0.5\n",
       "True     0.5\n",
       "Name: motion, dtype: float64"
      ]
     },
     "execution_count": 9,
     "metadata": {},
     "output_type": "execute_result"
    }
   ],
   "source": [
    "data[label].value_counts(normalize= True)"
   ]
  },
  {
   "cell_type": "code",
   "execution_count": 10,
   "id": "a13800eb",
   "metadata": {},
   "outputs": [
    {
     "data": {
      "text/plain": [
       "(40.0, 80.0)"
      ]
     },
     "execution_count": 10,
     "metadata": {},
     "output_type": "execute_result"
    },
    {
     "data": {
      "image/png": "[encoded data removed]",
      "text/plain": [
       "<Figure size 432x432 with 3 Axes>"
      ]
     },
     "metadata": {
      "needs_background": "light"
     },
     "output_type": "display_data"
    }
   ],
   "source": [
    "sns.jointplot(x=data.temp, y=data.humidity, kind=\"hex\", color=\"#4CB391\")\n",
    "plt.xlim(15, 30)\n",
    "plt.ylim(40, 80)"
   ]
  },
  {
   "cell_type": "code",
   "execution_count": 11,
   "id": "ef97c139",
   "metadata": {},
   "outputs": [
    {
     "name": "stdout",
     "output_type": "stream",
     "text": [
      "(647523, 8) (161881, 8)\n",
      "distribution of labels in train: True     0.500123\n",
      "False    0.499877\n",
      "Name: motion, dtype: float64\n",
      "distribution of labels in test:  False    0.500491\n",
      "True     0.499509\n",
      "Name: motion, dtype: float64\n"
     ]
    }
   ],
   "source": [
    "from sklearn.model_selection import train_test_split\n",
    "train, test = train_test_split(data, test_size = 0.2)\n",
    "print(train.shape, test.shape)\n",
    "print(f\"distribution of labels in train: {train[label].value_counts(normalize = True)}\")\n",
    "print(f\"distribution of labels in test:  {test[label].value_counts(normalize = True)}\")"
   ]
  },
  {
   "cell_type": "markdown",
   "id": "26331753",
   "metadata": {},
   "source": [
    "## Train and select model automatically with AutoGluon\n",
    "AutoGluon enables easy-to-use and easy-to-extend AutoML with a focus on automated stack ensembling, deep learning, and real-world applications spanning text, image, and tabular data. "
   ]
  },
  {
   "cell_type": "code",
   "execution_count": 12,
   "id": "8296e2a8",
   "metadata": {},
   "outputs": [],
   "source": [
    "from autogluon.tabular import TabularDataset, TabularPredictor"
   ]
  },
  {
   "cell_type": "code",
   "execution_count": 13,
   "id": "aec1d9ba",
   "metadata": {},
   "outputs": [
    {
     "name": "stdout",
     "output_type": "stream",
     "text": [
      "(1000, 8)\n"
     ]
    },
    {
     "data": {
      "text/html": [
       "<div>\n",
       "<style scoped>\n",
       "    .dataframe tbody tr th:only-of-type {\n",
       "        vertical-align: middle;\n",
       "    }\n",
       "\n",
       "    .dataframe tbody tr th {\n",
       "        vertical-align: top;\n",
       "    }\n",
       "\n",
       "    .dataframe thead th {\n",
       "        text-align: right;\n",
       "    }\n",
       "</style>\n",
       "<table border=\"1\" class=\"dataframe\">\n",
       "  <thead>\n",
       "    <tr style=\"text-align: right;\">\n",
       "      <th></th>\n",
       "      <th>ts</th>\n",
       "      <th>co</th>\n",
       "      <th>humidity</th>\n",
       "      <th>light</th>\n",
       "      <th>lpg</th>\n",
       "      <th>smoke</th>\n",
       "      <th>temp</th>\n",
       "      <th>motion</th>\n",
       "    </tr>\n",
       "  </thead>\n",
       "  <tbody>\n",
       "    <tr>\n",
       "      <th>242848</th>\n",
       "      <td>1.594926e+09</td>\n",
       "      <td>0.006207</td>\n",
       "      <td>50.200000</td>\n",
       "      <td>False</td>\n",
       "      <td>0.009004</td>\n",
       "      <td>0.024289</td>\n",
       "      <td>21.6</td>\n",
       "      <td>False</td>\n",
       "    </tr>\n",
       "    <tr>\n",
       "      <th>154957</th>\n",
       "      <td>1.594777e+09</td>\n",
       "      <td>0.004674</td>\n",
       "      <td>59.599998</td>\n",
       "      <td>True</td>\n",
       "      <td>0.007333</td>\n",
       "      <td>0.019507</td>\n",
       "      <td>25.0</td>\n",
       "      <td>False</td>\n",
       "    </tr>\n",
       "  </tbody>\n",
       "</table>\n",
       "</div>"
      ],
      "text/plain": [
       "                  ts        co   humidity  light       lpg     smoke  temp  \\\n",
       "242848  1.594926e+09  0.006207  50.200000  False  0.009004  0.024289  21.6   \n",
       "154957  1.594777e+09  0.004674  59.599998   True  0.007333  0.019507  25.0   \n",
       "\n",
       "        motion  \n",
       "242848   False  \n",
       "154957   False  "
      ]
     },
     "execution_count": 13,
     "metadata": {},
     "output_type": "execute_result"
    }
   ],
   "source": [
    "train_data = TabularDataset(train)\n",
    "subsample_size = 1000  # subsample subset of data for faster demo, try setting this to much larger values\n",
    "train_data = train_data.sample(n=subsample_size, random_state=0)\n",
    "print(train_data.shape)\n",
    "train_data.head(2)"
   ]
  },
  {
   "cell_type": "code",
   "execution_count": 14,
   "id": "03f9399e",
   "metadata": {},
   "outputs": [
    {
     "name": "stderr",
     "output_type": "stream",
     "text": [
      "Warning: path already exists! This predictor may overwrite an existing predictor! path=\"models\"\n",
      "Beginning AutoGluon training ...\n",
      "AutoGluon will save models to \"models/\"\n",
      "AutoGluon Version:  0.5.2\n",
      "Python Version:     3.8.10\n",
      "Operating System:   Linux\n",
      "Train Data Rows:    1000\n",
      "Train Data Columns: 7\n",
      "Label Column: motion\n",
      "Preprocessing data ...\n",
      "AutoGluon infers your prediction problem is: 'binary' (because only two unique label-values observed).\n",
      "\t2 unique label values:  [False, True]\n",
      "\tIf 'binary' is not the correct problem_type, please manually specify the problem_type parameter during predictor init (You may specify problem_type as one of: ['binary', 'multiclass', 'regression'])\n",
      "Selected class <--> label mapping:  class 1 = True, class 0 = False\n",
      "Using Feature Generators to preprocess the data ...\n",
      "Fitting AutoMLPipelineFeatureGenerator...\n",
      "\tAvailable Memory:                    14264.36 MB\n",
      "\tTrain Data (Original)  Memory Usage: 0.05 MB (0.0% of available memory)\n",
      "\tInferring data type of each feature based on column values. Set feature_metadata_in to manually specify special dtypes of the features.\n",
      "\tStage 1 Generators:\n",
      "\t\tFitting AsTypeFeatureGenerator...\n",
      "\t\t\tNote: Converting 1 features to boolean dtype as they only contain 2 unique values.\n",
      "\tStage 2 Generators:\n",
      "\t\tFitting FillNaFeatureGenerator...\n",
      "\tStage 3 Generators:\n",
      "\t\tFitting IdentityFeatureGenerator...\n",
      "\tStage 4 Generators:\n",
      "\t\tFitting DropUniqueFeatureGenerator...\n",
      "\tTypes of features in original data (raw dtype, special dtypes):\n",
      "\t\t('bool', [])  : 1 | ['light']\n",
      "\t\t('float', []) : 6 | ['ts', 'co', 'humidity', 'lpg', 'smoke', ...]\n",
      "\tTypes of features in processed data (raw dtype, special dtypes):\n",
      "\t\t('float', [])     : 6 | ['ts', 'co', 'humidity', 'lpg', 'smoke', ...]\n",
      "\t\t('int', ['bool']) : 1 | ['light']\n",
      "\t0.0s = Fit runtime\n",
      "\t7 features in original data used to generate 7 features in processed data.\n",
      "\tTrain Data (Processed) Memory Usage: 0.05 MB (0.0% of available memory)\n",
      "Data preprocessing and feature engineering runtime = 0.03s ...\n",
      "AutoGluon will gauge predictive performance using evaluation metric: 'f1_weighted'\n",
      "\tTo change this, specify the eval_metric parameter of Predictor()\n",
      "Automatically generating train/validation split with holdout_frac=0.2, Train Rows: 800, Val Rows: 200\n",
      "Fitting 13 L1 models ...\n",
      "Fitting model: KNeighborsUnif ...\n",
      "\t0.7237\t = Validation score   (f1_weighted)\n",
      "\t0.0s\t = Training   runtime\n",
      "\t0.01s\t = Validation runtime\n",
      "Fitting model: KNeighborsDist ...\n",
      "\t0.7695\t = Validation score   (f1_weighted)\n",
      "\t0.0s\t = Training   runtime\n",
      "\t0.01s\t = Validation runtime\n",
      "Fitting model: LightGBMXT ...\n",
      "\t0.89\t = Validation score   (f1_weighted)\n",
      "\t1.41s\t = Training   runtime\n",
      "\t0.0s\t = Validation runtime\n",
      "Fitting model: LightGBM ...\n",
      "\t0.8849\t = Validation score   (f1_weighted)\n",
      "\t0.56s\t = Training   runtime\n",
      "\t0.0s\t = Validation runtime\n",
      "Fitting model: RandomForestGini ...\n",
      "\t0.875\t = Validation score   (f1_weighted)\n",
      "\t0.46s\t = Training   runtime\n",
      "\t0.06s\t = Validation runtime\n",
      "Fitting model: RandomForestEntr ...\n",
      "\t0.8748\t = Validation score   (f1_weighted)\n",
      "\t0.47s\t = Training   runtime\n",
      "\t0.05s\t = Validation runtime\n",
      "Fitting model: CatBoost ...\n",
      "\t0.89\t = Validation score   (f1_weighted)\n",
      "\t1.02s\t = Training   runtime\n",
      "\t0.0s\t = Validation runtime\n",
      "Fitting model: ExtraTreesGini ...\n",
      "\t0.8699\t = Validation score   (f1_weighted)\n",
      "\t0.48s\t = Training   runtime\n",
      "\t0.05s\t = Validation runtime\n",
      "Fitting model: ExtraTreesEntr ...\n",
      "\t0.855\t = Validation score   (f1_weighted)\n",
      "\t0.45s\t = Training   runtime\n",
      "\t0.05s\t = Validation runtime\n",
      "Fitting model: NeuralNetFastAI ...\n",
      "\t0.8248\t = Validation score   (f1_weighted)\n",
      "\t1.23s\t = Training   runtime\n",
      "\t0.01s\t = Validation runtime\n",
      "Fitting model: XGBoost ...\n",
      "\t0.89\t = Validation score   (f1_weighted)\n",
      "\t0.55s\t = Training   runtime\n",
      "\t0.01s\t = Validation runtime\n",
      "Fitting model: NeuralNetTorch ...\n",
      "\t0.7945\t = Validation score   (f1_weighted)\n",
      "\t1.3s\t = Training   runtime\n",
      "\t0.01s\t = Validation runtime\n",
      "Fitting model: LightGBMLarge ...\n",
      "\t0.88\t = Validation score   (f1_weighted)\n",
      "\t1.07s\t = Training   runtime\n",
      "\t0.02s\t = Validation runtime\n",
      "Fitting model: WeightedEnsemble_L2 ...\n",
      "\t0.9099\t = Validation score   (f1_weighted)\n",
      "\t1.04s\t = Training   runtime\n",
      "\t0.0s\t = Validation runtime\n",
      "AutoGluon training complete, total runtime = 10.53s ... Best model: \"WeightedEnsemble_L2\"\n",
      "TabularPredictor saved. To load, use: predictor = TabularPredictor.load(\"models/\")\n"
     ]
    },
    {
     "name": "stdout",
     "output_type": "stream",
     "text": [
      "CPU times: user 27.8 s, sys: 1.37 s, total: 29.1 s\n",
      "Wall time: 10.5 s\n"
     ]
    }
   ],
   "source": [
    "%%time\n",
    "save_path = f\"models\"\n",
    "predictor = TabularPredictor(label=label, path=save_path, eval_metric = 'f1_weighted').fit(train_data)"
   ]
  },
  {
   "cell_type": "code",
   "execution_count": 15,
   "id": "85ffc660",
   "metadata": {},
   "outputs": [
    {
     "data": {
      "text/html": [
       "<div>\n",
       "<style scoped>\n",
       "    .dataframe tbody tr th:only-of-type {\n",
       "        vertical-align: middle;\n",
       "    }\n",
       "\n",
       "    .dataframe tbody tr th {\n",
       "        vertical-align: top;\n",
       "    }\n",
       "\n",
       "    .dataframe thead th {\n",
       "        text-align: right;\n",
       "    }\n",
       "</style>\n",
       "<table border=\"1\" class=\"dataframe\">\n",
       "  <thead>\n",
       "    <tr style=\"text-align: right;\">\n",
       "      <th></th>\n",
       "      <th>model</th>\n",
       "      <th>score_test</th>\n",
       "      <th>score_val</th>\n",
       "      <th>pred_time_test</th>\n",
       "      <th>pred_time_val</th>\n",
       "      <th>fit_time</th>\n",
       "      <th>pred_time_test_marginal</th>\n",
       "      <th>pred_time_val_marginal</th>\n",
       "      <th>fit_time_marginal</th>\n",
       "      <th>stack_level</th>\n",
       "      <th>can_infer</th>\n",
       "      <th>fit_order</th>\n",
       "    </tr>\n",
       "  </thead>\n",
       "  <tbody>\n",
       "    <tr>\n",
       "      <th>0</th>\n",
       "      <td>CatBoost</td>\n",
       "      <td>0.977000</td>\n",
       "      <td>0.890000</td>\n",
       "      <td>0.002208</td>\n",
       "      <td>0.001870</td>\n",
       "      <td>1.017290</td>\n",
       "      <td>0.002208</td>\n",
       "      <td>0.001870</td>\n",
       "      <td>1.017290</td>\n",
       "      <td>1</td>\n",
       "      <td>True</td>\n",
       "      <td>7</td>\n",
       "    </tr>\n",
       "    <tr>\n",
       "      <th>1</th>\n",
       "      <td>RandomForestGini</td>\n",
       "      <td>0.975000</td>\n",
       "      <td>0.874953</td>\n",
       "      <td>0.085942</td>\n",
       "      <td>0.055055</td>\n",
       "      <td>0.461376</td>\n",
       "      <td>0.085942</td>\n",
       "      <td>0.055055</td>\n",
       "      <td>0.461376</td>\n",
       "      <td>1</td>\n",
       "      <td>True</td>\n",
       "      <td>5</td>\n",
       "    </tr>\n",
       "    <tr>\n",
       "      <th>2</th>\n",
       "      <td>RandomForestEntr</td>\n",
       "      <td>0.974999</td>\n",
       "      <td>0.874803</td>\n",
       "      <td>0.085858</td>\n",
       "      <td>0.051774</td>\n",
       "      <td>0.467206</td>\n",
       "      <td>0.085858</td>\n",
       "      <td>0.051774</td>\n",
       "      <td>0.467206</td>\n",
       "      <td>1</td>\n",
       "      <td>True</td>\n",
       "      <td>6</td>\n",
       "    </tr>\n",
       "    <tr>\n",
       "      <th>3</th>\n",
       "      <td>LightGBMLarge</td>\n",
       "      <td>0.974000</td>\n",
       "      <td>0.880000</td>\n",
       "      <td>0.004583</td>\n",
       "      <td>0.015908</td>\n",
       "      <td>1.066322</td>\n",
       "      <td>0.004583</td>\n",
       "      <td>0.015908</td>\n",
       "      <td>1.066322</td>\n",
       "      <td>1</td>\n",
       "      <td>True</td>\n",
       "      <td>13</td>\n",
       "    </tr>\n",
       "    <tr>\n",
       "      <th>4</th>\n",
       "      <td>ExtraTreesGini</td>\n",
       "      <td>0.974000</td>\n",
       "      <td>0.869922</td>\n",
       "      <td>0.086510</td>\n",
       "      <td>0.054189</td>\n",
       "      <td>0.480752</td>\n",
       "      <td>0.086510</td>\n",
       "      <td>0.054189</td>\n",
       "      <td>0.480752</td>\n",
       "      <td>1</td>\n",
       "      <td>True</td>\n",
       "      <td>8</td>\n",
       "    </tr>\n",
       "    <tr>\n",
       "      <th>5</th>\n",
       "      <td>ExtraTreesEntr</td>\n",
       "      <td>0.971000</td>\n",
       "      <td>0.854989</td>\n",
       "      <td>0.086658</td>\n",
       "      <td>0.052582</td>\n",
       "      <td>0.453593</td>\n",
       "      <td>0.086658</td>\n",
       "      <td>0.052582</td>\n",
       "      <td>0.453593</td>\n",
       "      <td>1</td>\n",
       "      <td>True</td>\n",
       "      <td>9</td>\n",
       "    </tr>\n",
       "    <tr>\n",
       "      <th>6</th>\n",
       "      <td>WeightedEnsemble_L2</td>\n",
       "      <td>0.955988</td>\n",
       "      <td>0.909946</td>\n",
       "      <td>0.105279</td>\n",
       "      <td>0.067782</td>\n",
       "      <td>4.384229</td>\n",
       "      <td>0.003243</td>\n",
       "      <td>0.001130</td>\n",
       "      <td>1.044353</td>\n",
       "      <td>2</td>\n",
       "      <td>True</td>\n",
       "      <td>14</td>\n",
       "    </tr>\n",
       "    <tr>\n",
       "      <th>7</th>\n",
       "      <td>KNeighborsDist</td>\n",
       "      <td>0.953998</td>\n",
       "      <td>0.769539</td>\n",
       "      <td>0.006634</td>\n",
       "      <td>0.005631</td>\n",
       "      <td>0.003492</td>\n",
       "      <td>0.006634</td>\n",
       "      <td>0.005631</td>\n",
       "      <td>0.003492</td>\n",
       "      <td>1</td>\n",
       "      <td>True</td>\n",
       "      <td>2</td>\n",
       "    </tr>\n",
       "    <tr>\n",
       "      <th>8</th>\n",
       "      <td>XGBoost</td>\n",
       "      <td>0.927975</td>\n",
       "      <td>0.889978</td>\n",
       "      <td>0.005122</td>\n",
       "      <td>0.005407</td>\n",
       "      <td>0.551961</td>\n",
       "      <td>0.005122</td>\n",
       "      <td>0.005407</td>\n",
       "      <td>0.551961</td>\n",
       "      <td>1</td>\n",
       "      <td>True</td>\n",
       "      <td>11</td>\n",
       "    </tr>\n",
       "    <tr>\n",
       "      <th>9</th>\n",
       "      <td>LightGBMXT</td>\n",
       "      <td>0.924976</td>\n",
       "      <td>0.889978</td>\n",
       "      <td>0.009945</td>\n",
       "      <td>0.003217</td>\n",
       "      <td>1.412318</td>\n",
       "      <td>0.009945</td>\n",
       "      <td>0.003217</td>\n",
       "      <td>1.412318</td>\n",
       "      <td>1</td>\n",
       "      <td>True</td>\n",
       "      <td>3</td>\n",
       "    </tr>\n",
       "    <tr>\n",
       "      <th>10</th>\n",
       "      <td>LightGBM</td>\n",
       "      <td>0.912922</td>\n",
       "      <td>0.884899</td>\n",
       "      <td>0.002077</td>\n",
       "      <td>0.002223</td>\n",
       "      <td>0.558659</td>\n",
       "      <td>0.002077</td>\n",
       "      <td>0.002223</td>\n",
       "      <td>0.558659</td>\n",
       "      <td>1</td>\n",
       "      <td>True</td>\n",
       "      <td>4</td>\n",
       "    </tr>\n",
       "    <tr>\n",
       "      <th>11</th>\n",
       "      <td>NeuralNetFastAI</td>\n",
       "      <td>0.813920</td>\n",
       "      <td>0.824847</td>\n",
       "      <td>0.019458</td>\n",
       "      <td>0.010278</td>\n",
       "      <td>1.234659</td>\n",
       "      <td>0.019458</td>\n",
       "      <td>0.010278</td>\n",
       "      <td>1.234659</td>\n",
       "      <td>1</td>\n",
       "      <td>True</td>\n",
       "      <td>10</td>\n",
       "    </tr>\n",
       "    <tr>\n",
       "      <th>12</th>\n",
       "      <td>KNeighborsUnif</td>\n",
       "      <td>0.812081</td>\n",
       "      <td>0.723654</td>\n",
       "      <td>0.005925</td>\n",
       "      <td>0.006687</td>\n",
       "      <td>0.004071</td>\n",
       "      <td>0.005925</td>\n",
       "      <td>0.006687</td>\n",
       "      <td>0.004071</td>\n",
       "      <td>1</td>\n",
       "      <td>True</td>\n",
       "      <td>1</td>\n",
       "    </tr>\n",
       "    <tr>\n",
       "      <th>13</th>\n",
       "      <td>NeuralNetTorch</td>\n",
       "      <td>0.755507</td>\n",
       "      <td>0.794492</td>\n",
       "      <td>0.011810</td>\n",
       "      <td>0.007504</td>\n",
       "      <td>1.302552</td>\n",
       "      <td>0.011810</td>\n",
       "      <td>0.007504</td>\n",
       "      <td>1.302552</td>\n",
       "      <td>1</td>\n",
       "      <td>True</td>\n",
       "      <td>12</td>\n",
       "    </tr>\n",
       "  </tbody>\n",
       "</table>\n",
       "</div>"
      ],
      "text/plain": [
       "                  model  score_test  score_val  pred_time_test  pred_time_val  \\\n",
       "0              CatBoost    0.977000   0.890000        0.002208       0.001870   \n",
       "1      RandomForestGini    0.975000   0.874953        0.085942       0.055055   \n",
       "2      RandomForestEntr    0.974999   0.874803        0.085858       0.051774   \n",
       "3         LightGBMLarge    0.974000   0.880000        0.004583       0.015908   \n",
       "4        ExtraTreesGini    0.974000   0.869922        0.086510       0.054189   \n",
       "5        ExtraTreesEntr    0.971000   0.854989        0.086658       0.052582   \n",
       "6   WeightedEnsemble_L2    0.955988   0.909946        0.105279       0.067782   \n",
       "7        KNeighborsDist    0.953998   0.769539        0.006634       0.005631   \n",
       "8               XGBoost    0.927975   0.889978        0.005122       0.005407   \n",
       "9            LightGBMXT    0.924976   0.889978        0.009945       0.003217   \n",
       "10             LightGBM    0.912922   0.884899        0.002077       0.002223   \n",
       "11      NeuralNetFastAI    0.813920   0.824847        0.019458       0.010278   \n",
       "12       KNeighborsUnif    0.812081   0.723654        0.005925       0.006687   \n",
       "13       NeuralNetTorch    0.755507   0.794492        0.011810       0.007504   \n",
       "\n",
       "    fit_time  pred_time_test_marginal  pred_time_val_marginal  \\\n",
       "0   1.017290                 0.002208                0.001870   \n",
       "1   0.461376                 0.085942                0.055055   \n",
       "2   0.467206                 0.085858                0.051774   \n",
       "3   1.066322                 0.004583                0.015908   \n",
       "4   0.480752                 0.086510                0.054189   \n",
       "5   0.453593                 0.086658                0.052582   \n",
       "6   4.384229                 0.003243                0.001130   \n",
       "7   0.003492                 0.006634                0.005631   \n",
       "8   0.551961                 0.005122                0.005407   \n",
       "9   1.412318                 0.009945                0.003217   \n",
       "10  0.558659                 0.002077                0.002223   \n",
       "11  1.234659                 0.019458                0.010278   \n",
       "12  0.004071                 0.005925                0.006687   \n",
       "13  1.302552                 0.011810                0.007504   \n",
       "\n",
       "    fit_time_marginal  stack_level  can_infer  fit_order  \n",
       "0            1.017290            1       True          7  \n",
       "1            0.461376            1       True          5  \n",
       "2            0.467206            1       True          6  \n",
       "3            1.066322            1       True         13  \n",
       "4            0.480752            1       True          8  \n",
       "5            0.453593            1       True          9  \n",
       "6            1.044353            2       True         14  \n",
       "7            0.003492            1       True          2  \n",
       "8            0.551961            1       True         11  \n",
       "9            1.412318            1       True          3  \n",
       "10           0.558659            1       True          4  \n",
       "11           1.234659            1       True         10  \n",
       "12           0.004071            1       True          1  \n",
       "13           1.302552            1       True         12  "
      ]
     },
     "execution_count": 15,
     "metadata": {},
     "output_type": "execute_result"
    }
   ],
   "source": [
    "result = predictor.leaderboard(train_data.dropna(subset =[label]), silent=True)\n",
    "result"
   ]
  },
  {
   "cell_type": "code",
   "execution_count": 16,
   "id": "6ebd9ba7",
   "metadata": {},
   "outputs": [
    {
     "data": {
      "image/png": "[encoded data removed]",
      "text/plain": [
       "<Figure size 288x432 with 1 Axes>"
      ]
     },
     "metadata": {
      "needs_background": "light"
     },
     "output_type": "display_data"
    }
   ],
   "source": [
    "result = result.sort_values('score_val', ascending = False)\n",
    "\n",
    "# Initialize the matplotlib figure\n",
    "f, ax = plt.subplots(figsize=(4,6))\n",
    "\n",
    "# Plot the total crashes\n",
    "sns.set_color_codes(\"pastel\")\n",
    "sns.barplot(x=\"score_test\", y=\"model\", data=result, label=\"Test\", color=\"b\")\n",
    "\n",
    "# Plot the crashes where alcohol was involved\n",
    "sns.set_color_codes(\"muted\")\n",
    "sns.barplot(x=\"score_val\", y=\"model\", data=result, label=\"Val\", color=\"b\")\n",
    "\n",
    "# # Add a legend and informative axis label\n",
    "ax.legend(ncol=2,frameon=True, bbox_to_anchor=(1, -0.1))\n",
    "ax.set(xlim=(0, 1), ylabel=\"\", xlabel =\"\", title=\"Test and val accuracy\")\n",
    "sns.despine(left=True, bottom=True)"
   ]
  },
  {
   "cell_type": "markdown",
   "id": "217796d7",
   "metadata": {},
   "source": [
    "## Inference with the trained model"
   ]
  },
  {
   "cell_type": "code",
   "execution_count": 17,
   "id": "73565a11",
   "metadata": {},
   "outputs": [
    {
     "name": "stdout",
     "output_type": "stream",
     "text": [
      "(161881, 8)\n"
     ]
    },
    {
     "data": {
      "text/html": [
       "<div>\n",
       "<style scoped>\n",
       "    .dataframe tbody tr th:only-of-type {\n",
       "        vertical-align: middle;\n",
       "    }\n",
       "\n",
       "    .dataframe tbody tr th {\n",
       "        vertical-align: top;\n",
       "    }\n",
       "\n",
       "    .dataframe thead th {\n",
       "        text-align: right;\n",
       "    }\n",
       "</style>\n",
       "<table border=\"1\" class=\"dataframe\">\n",
       "  <thead>\n",
       "    <tr style=\"text-align: right;\">\n",
       "      <th></th>\n",
       "      <th>ts</th>\n",
       "      <th>co</th>\n",
       "      <th>humidity</th>\n",
       "      <th>light</th>\n",
       "      <th>lpg</th>\n",
       "      <th>smoke</th>\n",
       "      <th>temp</th>\n",
       "    </tr>\n",
       "  </thead>\n",
       "  <tbody>\n",
       "    <tr>\n",
       "      <th>414822</th>\n",
       "      <td>1.594753e+09</td>\n",
       "      <td>0.004906</td>\n",
       "      <td>51.530168</td>\n",
       "      <td>True</td>\n",
       "      <td>0.007594</td>\n",
       "      <td>0.020251</td>\n",
       "      <td>23.282554</td>\n",
       "    </tr>\n",
       "    <tr>\n",
       "      <th>459625</th>\n",
       "      <td>1.595000e+09</td>\n",
       "      <td>0.003995</td>\n",
       "      <td>68.963702</td>\n",
       "      <td>True</td>\n",
       "      <td>0.006546</td>\n",
       "      <td>0.017279</td>\n",
       "      <td>26.022064</td>\n",
       "    </tr>\n",
       "  </tbody>\n",
       "</table>\n",
       "</div>"
      ],
      "text/plain": [
       "                  ts        co   humidity  light       lpg     smoke  \\\n",
       "414822  1.594753e+09  0.004906  51.530168   True  0.007594  0.020251   \n",
       "459625  1.595000e+09  0.003995  68.963702   True  0.006546  0.017279   \n",
       "\n",
       "             temp  \n",
       "414822  23.282554  \n",
       "459625  26.022064  "
      ]
     },
     "execution_count": 17,
     "metadata": {},
     "output_type": "execute_result"
    }
   ],
   "source": [
    "test_data = TabularDataset(test)\n",
    "test_data = test_data.dropna(subset = [label])\n",
    "print(test_data.shape)\n",
    "y_test = test_data[label]  # values to predict\n",
    "test_data_nolab = test_data.drop(columns=[label])  # delete label column to prove we're not cheating\n",
    "test_data_nolab.head(2)"
   ]
  },
  {
   "cell_type": "code",
   "execution_count": 18,
   "id": "7a8ae844",
   "metadata": {},
   "outputs": [
    {
     "name": "stdout",
     "output_type": "stream",
     "text": [
      "Predictions:  \n",
      " True     84105\n",
      "False    77776\n",
      "Name: motion, dtype: int64\n"
     ]
    },
    {
     "name": "stderr",
     "output_type": "stream",
     "text": [
      "Evaluation: f1_weighted on test data: 0.8704727087640898\n",
      "Evaluations on test data:\n",
      "{\n",
      "    \"f1_weighted\": 0.8704727087640898,\n",
      "    \"accuracy\": 0.8705221736954923,\n",
      "    \"balanced_accuracy\": 0.8705417315739452,\n",
      "    \"mcc\": 0.7416501455263177,\n",
      "    \"f1\": 0.8729435156335243,\n",
      "    \"precision\": 0.8561084358837168,\n",
      "    \"recall\": 0.8904539889439903\n",
      "}\n"
     ]
    }
   ],
   "source": [
    "predictor = TabularPredictor.load(save_path)  # unnecessary, just demonstrates how to load previously-trained predictor from file\n",
    "y_pred = predictor.predict(test_data_nolab)\n",
    "print(\"Predictions:  \\n\", y_pred.value_counts())\n",
    "perf = predictor.evaluate_predictions(y_true=y_test, y_pred=y_pred, auxiliary_metrics=True)"
   ]
  },
  {
   "cell_type": "markdown",
   "id": "84c48433",
   "metadata": {},
   "source": [
    "<a id='results'></a>"
   ]
  },
  {
   "cell_type": "code",
   "execution_count": 19,
   "id": "9d08163e",
   "metadata": {},
   "outputs": [
    {
     "data": {
      "text/html": [
       "<div>\n",
       "<style scoped>\n",
       "    .dataframe tbody tr th:only-of-type {\n",
       "        vertical-align: middle;\n",
       "    }\n",
       "\n",
       "    .dataframe tbody tr th {\n",
       "        vertical-align: top;\n",
       "    }\n",
       "\n",
       "    .dataframe thead th {\n",
       "        text-align: right;\n",
       "    }\n",
       "</style>\n",
       "<table border=\"1\" class=\"dataframe\">\n",
       "  <thead>\n",
       "    <tr style=\"text-align: right;\">\n",
       "      <th></th>\n",
       "      <th>model</th>\n",
       "      <th>score_test</th>\n",
       "      <th>score_val</th>\n",
       "      <th>pred_time_test</th>\n",
       "      <th>pred_time_val</th>\n",
       "      <th>fit_time</th>\n",
       "      <th>pred_time_test_marginal</th>\n",
       "      <th>pred_time_val_marginal</th>\n",
       "      <th>fit_time_marginal</th>\n",
       "      <th>stack_level</th>\n",
       "      <th>can_infer</th>\n",
       "      <th>fit_order</th>\n",
       "    </tr>\n",
       "  </thead>\n",
       "  <tbody>\n",
       "    <tr>\n",
       "      <th>0</th>\n",
       "      <td>CatBoost</td>\n",
       "      <td>0.883191</td>\n",
       "      <td>0.890000</td>\n",
       "      <td>0.032234</td>\n",
       "      <td>0.001870</td>\n",
       "      <td>1.017290</td>\n",
       "      <td>0.032234</td>\n",
       "      <td>0.001870</td>\n",
       "      <td>1.017290</td>\n",
       "      <td>1</td>\n",
       "      <td>True</td>\n",
       "      <td>7</td>\n",
       "    </tr>\n",
       "    <tr>\n",
       "      <th>1</th>\n",
       "      <td>ExtraTreesEntr</td>\n",
       "      <td>0.877233</td>\n",
       "      <td>0.854989</td>\n",
       "      <td>0.854819</td>\n",
       "      <td>0.052582</td>\n",
       "      <td>0.453593</td>\n",
       "      <td>0.854819</td>\n",
       "      <td>0.052582</td>\n",
       "      <td>0.453593</td>\n",
       "      <td>1</td>\n",
       "      <td>True</td>\n",
       "      <td>9</td>\n",
       "    </tr>\n",
       "    <tr>\n",
       "      <th>2</th>\n",
       "      <td>ExtraTreesGini</td>\n",
       "      <td>0.876802</td>\n",
       "      <td>0.869922</td>\n",
       "      <td>0.857360</td>\n",
       "      <td>0.054189</td>\n",
       "      <td>0.480752</td>\n",
       "      <td>0.857360</td>\n",
       "      <td>0.054189</td>\n",
       "      <td>0.480752</td>\n",
       "      <td>1</td>\n",
       "      <td>True</td>\n",
       "      <td>8</td>\n",
       "    </tr>\n",
       "    <tr>\n",
       "      <th>3</th>\n",
       "      <td>RandomForestEntr</td>\n",
       "      <td>0.872547</td>\n",
       "      <td>0.874803</td>\n",
       "      <td>0.876315</td>\n",
       "      <td>0.051774</td>\n",
       "      <td>0.467206</td>\n",
       "      <td>0.876315</td>\n",
       "      <td>0.051774</td>\n",
       "      <td>0.467206</td>\n",
       "      <td>1</td>\n",
       "      <td>True</td>\n",
       "      <td>6</td>\n",
       "    </tr>\n",
       "    <tr>\n",
       "      <th>4</th>\n",
       "      <td>RandomForestGini</td>\n",
       "      <td>0.871368</td>\n",
       "      <td>0.874953</td>\n",
       "      <td>0.748444</td>\n",
       "      <td>0.055055</td>\n",
       "      <td>0.461376</td>\n",
       "      <td>0.748444</td>\n",
       "      <td>0.055055</td>\n",
       "      <td>0.461376</td>\n",
       "      <td>1</td>\n",
       "      <td>True</td>\n",
       "      <td>5</td>\n",
       "    </tr>\n",
       "    <tr>\n",
       "      <th>5</th>\n",
       "      <td>WeightedEnsemble_L2</td>\n",
       "      <td>0.870473</td>\n",
       "      <td>0.909946</td>\n",
       "      <td>1.629099</td>\n",
       "      <td>0.067782</td>\n",
       "      <td>4.384229</td>\n",
       "      <td>0.005633</td>\n",
       "      <td>0.001130</td>\n",
       "      <td>1.044353</td>\n",
       "      <td>2</td>\n",
       "      <td>True</td>\n",
       "      <td>14</td>\n",
       "    </tr>\n",
       "    <tr>\n",
       "      <th>6</th>\n",
       "      <td>LightGBMLarge</td>\n",
       "      <td>0.870160</td>\n",
       "      <td>0.880000</td>\n",
       "      <td>0.170819</td>\n",
       "      <td>0.015908</td>\n",
       "      <td>1.066322</td>\n",
       "      <td>0.170819</td>\n",
       "      <td>0.015908</td>\n",
       "      <td>1.066322</td>\n",
       "      <td>1</td>\n",
       "      <td>True</td>\n",
       "      <td>13</td>\n",
       "    </tr>\n",
       "    <tr>\n",
       "      <th>7</th>\n",
       "      <td>XGBoost</td>\n",
       "      <td>0.863347</td>\n",
       "      <td>0.889978</td>\n",
       "      <td>0.073676</td>\n",
       "      <td>0.005407</td>\n",
       "      <td>0.551961</td>\n",
       "      <td>0.073676</td>\n",
       "      <td>0.005407</td>\n",
       "      <td>0.551961</td>\n",
       "      <td>1</td>\n",
       "      <td>True</td>\n",
       "      <td>11</td>\n",
       "    </tr>\n",
       "    <tr>\n",
       "      <th>8</th>\n",
       "      <td>LightGBMXT</td>\n",
       "      <td>0.856236</td>\n",
       "      <td>0.889978</td>\n",
       "      <td>0.864525</td>\n",
       "      <td>0.003217</td>\n",
       "      <td>1.412318</td>\n",
       "      <td>0.864525</td>\n",
       "      <td>0.003217</td>\n",
       "      <td>1.412318</td>\n",
       "      <td>1</td>\n",
       "      <td>True</td>\n",
       "      <td>3</td>\n",
       "    </tr>\n",
       "    <tr>\n",
       "      <th>9</th>\n",
       "      <td>LightGBM</td>\n",
       "      <td>0.853288</td>\n",
       "      <td>0.884899</td>\n",
       "      <td>0.055674</td>\n",
       "      <td>0.002223</td>\n",
       "      <td>0.558659</td>\n",
       "      <td>0.055674</td>\n",
       "      <td>0.002223</td>\n",
       "      <td>0.558659</td>\n",
       "      <td>1</td>\n",
       "      <td>True</td>\n",
       "      <td>4</td>\n",
       "    </tr>\n",
       "    <tr>\n",
       "      <th>10</th>\n",
       "      <td>NeuralNetFastAI</td>\n",
       "      <td>0.784073</td>\n",
       "      <td>0.824847</td>\n",
       "      <td>1.430317</td>\n",
       "      <td>0.010278</td>\n",
       "      <td>1.234659</td>\n",
       "      <td>1.430317</td>\n",
       "      <td>0.010278</td>\n",
       "      <td>1.234659</td>\n",
       "      <td>1</td>\n",
       "      <td>True</td>\n",
       "      <td>10</td>\n",
       "    </tr>\n",
       "    <tr>\n",
       "      <th>11</th>\n",
       "      <td>KNeighborsDist</td>\n",
       "      <td>0.764943</td>\n",
       "      <td>0.769539</td>\n",
       "      <td>0.351887</td>\n",
       "      <td>0.005631</td>\n",
       "      <td>0.003492</td>\n",
       "      <td>0.351887</td>\n",
       "      <td>0.005631</td>\n",
       "      <td>0.003492</td>\n",
       "      <td>1</td>\n",
       "      <td>True</td>\n",
       "      <td>2</td>\n",
       "    </tr>\n",
       "    <tr>\n",
       "      <th>12</th>\n",
       "      <td>NeuralNetTorch</td>\n",
       "      <td>0.763162</td>\n",
       "      <td>0.794492</td>\n",
       "      <td>0.787112</td>\n",
       "      <td>0.007504</td>\n",
       "      <td>1.302552</td>\n",
       "      <td>0.787112</td>\n",
       "      <td>0.007504</td>\n",
       "      <td>1.302552</td>\n",
       "      <td>1</td>\n",
       "      <td>True</td>\n",
       "      <td>12</td>\n",
       "    </tr>\n",
       "    <tr>\n",
       "      <th>13</th>\n",
       "      <td>KNeighborsUnif</td>\n",
       "      <td>0.755462</td>\n",
       "      <td>0.723654</td>\n",
       "      <td>0.352354</td>\n",
       "      <td>0.006687</td>\n",
       "      <td>0.004071</td>\n",
       "      <td>0.352354</td>\n",
       "      <td>0.006687</td>\n",
       "      <td>0.004071</td>\n",
       "      <td>1</td>\n",
       "      <td>True</td>\n",
       "      <td>1</td>\n",
       "    </tr>\n",
       "  </tbody>\n",
       "</table>\n",
       "</div>"
      ],
      "text/plain": [
       "                  model  score_test  score_val  pred_time_test  pred_time_val  \\\n",
       "0              CatBoost    0.883191   0.890000        0.032234       0.001870   \n",
       "1        ExtraTreesEntr    0.877233   0.854989        0.854819       0.052582   \n",
       "2        ExtraTreesGini    0.876802   0.869922        0.857360       0.054189   \n",
       "3      RandomForestEntr    0.872547   0.874803        0.876315       0.051774   \n",
       "4      RandomForestGini    0.871368   0.874953        0.748444       0.055055   \n",
       "5   WeightedEnsemble_L2    0.870473   0.909946        1.629099       0.067782   \n",
       "6         LightGBMLarge    0.870160   0.880000        0.170819       0.015908   \n",
       "7               XGBoost    0.863347   0.889978        0.073676       0.005407   \n",
       "8            LightGBMXT    0.856236   0.889978        0.864525       0.003217   \n",
       "9              LightGBM    0.853288   0.884899        0.055674       0.002223   \n",
       "10      NeuralNetFastAI    0.784073   0.824847        1.430317       0.010278   \n",
       "11       KNeighborsDist    0.764943   0.769539        0.351887       0.005631   \n",
       "12       NeuralNetTorch    0.763162   0.794492        0.787112       0.007504   \n",
       "13       KNeighborsUnif    0.755462   0.723654        0.352354       0.006687   \n",
       "\n",
       "    fit_time  pred_time_test_marginal  pred_time_val_marginal  \\\n",
       "0   1.017290                 0.032234                0.001870   \n",
       "1   0.453593                 0.854819                0.052582   \n",
       "2   0.480752                 0.857360                0.054189   \n",
       "3   0.467206                 0.876315                0.051774   \n",
       "4   0.461376                 0.748444                0.055055   \n",
       "5   4.384229                 0.005633                0.001130   \n",
       "6   1.066322                 0.170819                0.015908   \n",
       "7   0.551961                 0.073676                0.005407   \n",
       "8   1.412318                 0.864525                0.003217   \n",
       "9   0.558659                 0.055674                0.002223   \n",
       "10  1.234659                 1.430317                0.010278   \n",
       "11  0.003492                 0.351887                0.005631   \n",
       "12  1.302552                 0.787112                0.007504   \n",
       "13  0.004071                 0.352354                0.006687   \n",
       "\n",
       "    fit_time_marginal  stack_level  can_infer  fit_order  \n",
       "0            1.017290            1       True          7  \n",
       "1            0.453593            1       True          9  \n",
       "2            0.480752            1       True          8  \n",
       "3            0.467206            1       True          6  \n",
       "4            0.461376            1       True          5  \n",
       "5            1.044353            2       True         14  \n",
       "6            1.066322            1       True         13  \n",
       "7            0.551961            1       True         11  \n",
       "8            1.412318            1       True          3  \n",
       "9            0.558659            1       True          4  \n",
       "10           1.234659            1       True         10  \n",
       "11           0.003492            1       True          2  \n",
       "12           1.302552            1       True         12  \n",
       "13           0.004071            1       True          1  "
      ]
     },
     "execution_count": 19,
     "metadata": {},
     "output_type": "execute_result"
    }
   ],
   "source": [
    "predictor.leaderboard(test_data, silent=True)"
   ]
  },
  {
   "cell_type": "code",
   "execution_count": 20,
   "id": "25b8e0bf",
   "metadata": {},
   "outputs": [
    {
     "name": "stderr",
     "output_type": "stream",
     "text": [
      "Computing feature importance via permutation shuffling for 7 features using 5000 rows with 5 shuffle sets...\n",
      "\t6.64s\t= Expected runtime (1.33s per shuffle set)\n",
      "\t3.14s\t= Actual runtime (Completed 5 of 5 shuffle sets)\n"
     ]
    }
   ],
   "source": [
    "feature_importance = predictor.feature_importance(test_data)"
   ]
  },
  {
   "cell_type": "code",
   "execution_count": 21,
   "id": "37f4e7db",
   "metadata": {},
   "outputs": [
    {
     "data": {
      "image/png": "[encoded data removed]",
      "text/plain": [
       "<Figure size 432x288 with 1 Axes>"
      ]
     },
     "metadata": {
      "needs_background": "light"
     },
     "output_type": "display_data"
    }
   ],
   "source": [
    "# Initialize the matplotlib figure\n",
    "f, ax = plt.subplots(figsize=(6,4))\n",
    "sns.barplot(x=\"importance\", y=\"index\", palette=\"vlag\", data=feature_importance.reset_index())\n",
    "ax.set(ylabel=\"\", xlabel =\"\", title=\"Feature Importance\")\n",
    "sns.despine(left=True, bottom=True)"
   ]
  },
  {
   "cell_type": "markdown",
   "id": "19011ccd",
   "metadata": {},
   "source": [
    "## save model to Cloud for inference"
   ]
  },
  {
   "cell_type": "code",
   "execution_count": 22,
   "id": "a370ea15",
   "metadata": {},
   "outputs": [],
   "source": [
    "def upload_to_cloud(local_file_name, remote_file_name):\n",
    "    import os\n",
    "    import s3fs\n",
    "    import gcsfs\n",
    "    cloud_name = remote_file_name.split('://')[0]\n",
    "    if cloud_name =='gs':\n",
    "        fs = gcsfs.GCSFileSystem(project=os.environ['GCP_PROJECT'])\n",
    "    elif cloud_name =='s3':\n",
    "        fs = s3fs.S3FileSystem()\n",
    "    else:\n",
    "        raise NameError(f'cloud name {cloud_name} unknown')\n",
    "    try:    \n",
    "        print(f'uploading {local_file_name} to {remote_file_name} ...')\n",
    "        fs.put(local_file_name, remote_file_name, recursive=True)\n",
    "        print(\"done uploading!\")\n",
    "    except Exception as exp:\n",
    "        print(f\"upload failed: {exp}\")\n",
    "        \n",
    "    return "
   ]
  },
  {
   "cell_type": "code",
   "execution_count": 23,
   "id": "9055fe2d",
   "metadata": {},
   "outputs": [
    {
     "name": "stdout",
     "output_type": "stream",
     "text": [
      "uploading models to s3://shakdemo-aws/demo/iot/models ...\n",
      "done uploading!\n"
     ]
    }
   ],
   "source": [
    "model_file_path = 'models'\n",
    "remote_file_path = f\"s3://shakdemo-aws/demo/iot/{model_file_path}\"\n",
    "upload_to_cloud(model_file_path, remote_file_path)"
   ]
  }
 ],
 "metadata": {
  "kernelspec": {
   "display_name": "Python [conda env:root] *",
   "language": "python",
   "name": "conda-root-py"
  },
  "language_info": {
   "codemirror_mode": {
    "name": "ipython",
    "version": 3
   },
   "file_extension": ".py",
   "mimetype": "text/x-python",
   "name": "python",
   "nbconvert_exporter": "python",
   "pygments_lexer": "ipython3",
   "version": "3.8.16"
  }
 },
 "nbformat": 4,
 "nbformat_minor": 5
}
