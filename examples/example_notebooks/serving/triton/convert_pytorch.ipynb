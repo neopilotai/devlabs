{
 "cells": [
  {
   "cell_type": "markdown",
   "id": "3ef528ba",
   "metadata": {},
   "source": [
    "## How to trace/convert Transformer model into Triton acceptable models?\n",
    "- source https://github.com/sachinsharma9780/AI-Enterprise-Workshop-Building-ML-Pipelines/blob/main/"
   ]
  },
  {
   "cell_type": "code",
   "execution_count": null,
   "id": "3d57e014",
   "metadata": {},
   "outputs": [],
   "source": [
    "!pip3 install torch torchvision torchaudio --quiet"
   ]
  },
  {
   "cell_type": "code",
   "execution_count": null,
   "id": "c24f512d",
   "metadata": {},
   "outputs": [],
   "source": [
    "import torch\n",
    "from torch.nn import functional as F"
   ]
  },
  {
   "cell_type": "code",
   "execution_count": 2,
   "id": "e28cbf33",
   "metadata": {},
   "outputs": [
    {
     "name": "stderr",
     "output_type": "stream",
     "text": [
      "Some weights of the model checkpoint at distilbert-base-uncased were not used when initializing DistilBertForSequenceClassification: ['vocab_transform.weight', 'vocab_transform.bias', 'vocab_layer_norm.weight', 'vocab_layer_norm.bias', 'vocab_projector.weight', 'vocab_projector.bias']\n",
      "- This IS expected if you are initializing DistilBertForSequenceClassification from the checkpoint of a model trained on another task or with another architecture (e.g. initializing a BertForSequenceClassification model from a BertForPreTraining model).\n",
      "- This IS NOT expected if you are initializing DistilBertForSequenceClassification from the checkpoint of a model that you expect to be exactly identical (initializing a BertForSequenceClassification model from a BertForSequenceClassification model).\n",
      "Some weights of DistilBertForSequenceClassification were not initialized from the model checkpoint at distilbert-base-uncased and are newly initialized: ['pre_classifier.weight', 'pre_classifier.bias', 'classifier.weight', 'classifier.bias']\n",
      "You should probably TRAIN this model on a down-stream task to be able to use it for predictions and inference.\n"
     ]
    }
   ],
   "source": [
    "from transformers import DistilBertTokenizer, DistilBertForSequenceClassification\n",
    "tokenizer = DistilBertTokenizer.from_pretrained('distilbert-base-uncased')\n",
    "model = DistilBertForSequenceClassification.from_pretrained('distilbert-base-uncased')\n",
    "\n",
    "sentence = \"Hello, my dog is cute!\"\n",
    "labels = \"happy\"\n"
   ]
  },
  {
   "cell_type": "code",
   "execution_count": null,
   "id": "24ec7710",
   "metadata": {},
   "outputs": [],
   "source": [
    "input_ids = tokenizer.encode(sentence, hypothesis, return_tensors = 'pt', max_length= 256, truncation = True, \n",
    "                            padding = \"max_length\")\n",
    "\n",
    "mask = input_ids !=1\n",
    "mask = mask.long()"
   ]
  },
  {
   "cell_type": "markdown",
   "id": "43d84a99",
   "metadata": {},
   "source": [
    "## Tracing PyTorch Model with torchscript\n",
    "- this is to create serializable and optimizable models, in equivalent to convert a tensorflow model with TensorRT"
   ]
  },
  {
   "cell_type": "code",
   "execution_count": 23,
   "id": "b7ec709f",
   "metadata": {},
   "outputs": [],
   "source": [
    "class PyTorch_to_TorchScript(torch.nn.Module):\n",
    "    def __init__(self):\n",
    "        super(PyTorch_to_TorchScript, self).__init__()\n",
    "        self.model = AutoModelForSequenceClassification.from_pretrained('joeddav/xlm-roberta-large-xnli')\n",
    "    def forward(self, data, attention_mask=None):\n",
    "        return self.model(data, attention_mask)[0]"
   ]
  },
  {
   "cell_type": "code",
   "execution_count": 24,
   "id": "bd39c0aa",
   "metadata": {},
   "outputs": [],
   "source": [
    "# after trace it will save the model in cwd\n",
    "pt_model = PyTorch_to_TorchScript().eval()\n",
    "\n",
    "traced_script_module = torch.jit.trace(pt_model, (input_ids, attention_mask), strict=False)\n",
    "traced_script_module.save(\"./model.pt\")"
   ]
  },
  {
   "cell_type": "markdown",
   "id": "4fddef14",
   "metadata": {},
   "source": [
    "## Save the converted model to the Triton model repository folder"
   ]
  },
  {
   "cell_type": "code",
   "execution_count": 26,
   "id": "4610ee46",
   "metadata": {},
   "outputs": [
    {
     "data": {
      "text/plain": [
       "'/root/model_repository/sentence_bert/1/model.pt'"
      ]
     },
     "execution_count": 26,
     "metadata": {},
     "output_type": "execute_result"
    }
   ],
   "source": [
    "import shutil\n",
    "import os\n",
    "folder_name = 'sentence_bert'\n",
    "# os.mkdir(f'/root/model_repository/{folder_name}')\n",
    "# os.mkdir(f'/root/model_repository/{folder_name}/1')\n",
    "shutil.copy('model.pt', f'/root/model_repository/{folder_name}/1')"
   ]
  },
  {
   "cell_type": "code",
   "execution_count": null,
   "id": "6abe8baf",
   "metadata": {},
   "outputs": [],
   "source": []
  }
 ],
 "metadata": {
  "kernelspec": {
   "display_name": "Python [conda env:root] *",
   "language": "python",
   "name": "conda-root-py"
  },
  "language_info": {
   "codemirror_mode": {
    "name": "ipython",
    "version": 3
   },
   "file_extension": ".py",
   "mimetype": "text/x-python",
   "name": "python",
   "nbconvert_exporter": "python",
   "pygments_lexer": "ipython3",
   "version": "3.8.10"
  }
 },
 "nbformat": 4,
 "nbformat_minor": 5
}
